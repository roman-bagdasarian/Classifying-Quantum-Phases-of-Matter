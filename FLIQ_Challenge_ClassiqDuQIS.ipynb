{
 "cells": [
  {
   "cell_type": "markdown",
   "id": "ac6de42c",
   "metadata": {},
   "source": [
    "# Make Sure You Are Ready to Go\n",
    "\n",
    "$\\renewcommand{\\ket}[1]{\\left| #1 \\right\\rangle}\n",
    "\\renewcommand{\\bra}[1]{\\left\\langle #1 \\right|}\n",
    "\\renewcommand{\\braket}[2]{\\left\\langle #1 | #2 \\right\\rangle}\n",
    "\\newcommand{\\ketbra}[2]{\\left| #1 \\right\\rangle\\!\\left\\langle #2 \\right|}$\n",
    "\n",
    "If you haven't done it yet, try running the following lines of code and use the [registration and installation](https://docs.classiq.io/latest/classiq_101/registration_installations/) page if you are having difficulty setting up your environment.\\\n",
    "Uncomment and run the following command to install or update to the latest version of the Classiq SDK (if not installed yet):"
   ]
  },
  {
   "cell_type": "code",
   "execution_count": null,
   "id": "85f503ae",
   "metadata": {},
   "outputs": [],
   "source": [
    "pip install -U classiq"
   ]
  },
  {
   "cell_type": "code",
   "execution_count": null,
   "id": "32deceb1",
   "metadata": {},
   "outputs": [],
   "source": [
    "import classiq"
   ]
  },
  {
   "cell_type": "markdown",
   "id": "6fbf8eae",
   "metadata": {},
   "source": [
    "Uncomment and run the following command if your machine has not been authenticated yet, you only need to run it once!"
   ]
  },
  {
   "cell_type": "code",
   "execution_count": null,
   "id": "39634579",
   "metadata": {},
   "outputs": [],
   "source": [
    "# classiq.authenticate()"
   ]
  },
  {
   "cell_type": "markdown",
   "id": "5305b3c8",
   "metadata": {},
   "source": [
    "Now you are good to go!"
   ]
  },
  {
   "cell_type": "markdown",
   "id": "c77d86a9",
   "metadata": {},
   "source": [
    "# Rydberg Phase Diagram"
   ]
  },
  {
   "cell_type": "markdown",
   "id": "d0929b0c",
   "metadata": {},
   "source": [
    "Before starting to code, let us reiterating some theory on Rydberg atoms - the subject of this challenge. They interact via the following Hamiltonian:\n",
    "\n",
    "$$\n",
    "H = \\frac{\\Omega}{2} \\sum_{i=1}^N X_i \n",
    "    - \\delta \\sum_{i=1}^N n_i \n",
    "    + \\sum_{i \\lt j} \\frac{\\Omega R_b^6 }{(a|i-j|)^6} n_i n_j.\n",
    "$$\n",
    "\n",
    "You can find the phase diagram for a $51$-atom chain below. It is obtained by fixing $a=1$ and $\\Omega=1$ and varying $\\delta$ and $R_b$."
   ]
  },
  {
   "cell_type": "markdown",
   "id": "d294a85c",
   "metadata": {},
   "source": [
    "<img src=\"phase_diagram.png\" alt=\"Phase Diagram\" width=\"800\">\n"
   ]
  },
  {
   "cell_type": "markdown",
   "id": "7e9a92b5",
   "metadata": {},
   "source": [
    "Fig.1: Phase diagram of the 1D Rydberg Hamiltonian, traced out by (left) bipartite entanglement entropy and (right) expectation value of the number of Rydberg excitations. Plots are obtained using tensor-network representation of the ground states of $H$."
   ]
  },
  {
   "cell_type": "markdown",
   "id": "0462afa8",
   "metadata": {},
   "source": [
    "In this challenge, we focus on distinguishing between the $Z2$ phase, where the ground state of $H$ has large overlap with the state $\\ket{rgr\\ldots gr}$, and the $Z3$ phase, where the ground state overlaps strongly with basis states of the form $\\ket{\\ldots rggrgg\\ldots}$.\n",
    "\n",
    "Evidently, such systems can be efficiently studied using tensor networks. However, this challenge prepares us for a more realistic scenario in which we only have access to measurement outcomes from the ground state of some Hamiltonian, and our goal is to determine which phase of matter the state belongs to."
   ]
  },
  {
   "cell_type": "markdown",
   "id": "cedcc958",
   "metadata": {},
   "source": [
    "# Loading and Processing Measurement Data\n",
    "\n",
    "Training data for your model contains measurement results in randomized bases performed on a 51-qubit Rydberg atoms chain. We load training data from the .npz file in the next cell."
   ]
  },
  {
   "cell_type": "code",
   "execution_count": null,
   "id": "33060828",
   "metadata": {},
   "outputs": [],
   "source": [
    "import numpy as np\n",
    "# You might need to make additional imports depending on your implementation"
   ]
  },
  {
   "cell_type": "code",
   "execution_count": null,
   "id": "4e3917d1",
   "metadata": {},
   "outputs": [],
   "source": [
    "loaded = np.load(\"training_data.npz\", allow_pickle=True)\n",
    "\n",
    "unprocessed_features = loaded[\"features\"].tolist()\n",
    "unprocessed_labels = loaded[\"labels\"].tolist()\n",
    "\n",
    "print(f'There are {len(unprocessed_features)} data points')\n",
    "print(f'There were T = {len(unprocessed_features[0])} measurements performed for each data point')\n",
    "print(f'The measurements were performed on {len(unprocessed_features[0][0])} qubits')\n",
    "print(f'Example: 2nd experiment result of 8th data point -> {unprocessed_features[7][1]}')\n",
    "print(f'Example: label for the 8th data point -> {unprocessed_labels[7]}')"
   ]
  },
  {
   "cell_type": "markdown",
   "id": "3ba14877",
   "metadata": {},
   "source": [
    "In the above,\n",
    "- $\\ket{g}$ is the atomic ground state, which is a $+1$-eigenstate of Pauli $Z$\n",
    "- $\\ket{r}$ is the highly excited Rydberg state, which is a $-1$-eigenstate of Pauli $Z$\n",
    "- $\\ket{+} = \\frac{1}{\\sqrt2}(\\ket{g} + \\ket{r})$, a $+1$-eigenstate of Pauli $X$\n",
    "- $\\ket{-} = \\frac{1}{\\sqrt2}(\\ket{g} - \\ket{r})$, a $-1$-eigenstate of Pauli $X$\n",
    "- $\\ket{+i} = \\frac{1}{\\sqrt2}(\\ket{g} +i\\ket{r})$, a $+1$-eigenstate of Pauli $Y$\n",
    "- $\\ket{-i} = \\frac{1}{\\sqrt2}(\\ket{g} -i \\ket{r})$, a $-1$-eigenstate of Pauli $Y$.\n",
    "\n",
    "It is up to you how to convert the features into classical shadows and labels into numbers and then both into training data for your model. For example, you could assign $-1$ to $Z2$ and $+1$ to $Z3$.\n",
    "\n",
    "**Note:** If you decide to define any helper classes/functions in a separate Python file, please submit it alongside your solution notebook, so we can run and grade it properly"
   ]
  },
  {
   "cell_type": "code",
   "execution_count": null,
   "id": "deba5d04",
   "metadata": {},
   "outputs": [],
   "source": [
    "### Your Code Goes Here: ###"
   ]
  },
  {
   "cell_type": "markdown",
   "id": "8016123e",
   "metadata": {},
   "source": [
    "# Defining a Quantum Model\n",
    "\n",
    "In this section, you will create a QML model for classifying the quantum phases. This will include 3 stages:\n",
    "- First, you will need to decide on the data encoding scheme, i.e. loading numerical features you obtained above into the quantum circuit. \n",
    "- Then, you will need to come up with an ansatz - a parametrized quantum circuit, which will be optimized to perform classification. \n",
    "- Finally, to readout classical information from the quantum model, you will need to perform some sort of measurement on the resultant quantum state. Perhaps, you could extract an expectation value of some Pauli-string $P \\in \\{I, X, Y, Z\\}^{\\otimes N}$, so that $\\langle P \\rangle < b$ is interpreted as $Z2$ and  $\\langle P \\rangle > b$ is interpreted as $Z3$ for some decision boundary $b$. \n",
    "\n",
    "There are several approaches to QML in Classiq, linked below.\n",
    "\n",
    "You may find the following guides useful:\n",
    "- QML with Classiq: http://docs.classiq.io/latest/user-guide/read/qml_with_classiq_guide/\n",
    "- Variational Model Example: https://github.com/Classiq/classiq-library/blob/main/algorithms/qaoa/maxcut/qaoa_max_cut.ipynb\n",
    "- Hybrid QNN: https://docs.classiq.io/latest/explore/algorithms/qml/hybrid_qnn/hybrid_qnn_for_subset_majority/\n",
    "\n",
    "Although the 2nd guide describes a hybrid model, **you may not implement a hybrid model**, the guide should only be used as a reference as to how to implement QML. \n",
    "\n",
    "**Warning**: Training using the Classiq PyTorch integration may take a prohibitive amount of time. Consider this when choosing an approach."
   ]
  },
  {
   "cell_type": "code",
   "execution_count": null,
   "id": "6413592b",
   "metadata": {},
   "outputs": [],
   "source": [
    "from classiq import *\n",
    "from classiq.execution import *\n",
    "# You might need to make additional imports depending on your implementation"
   ]
  },
  {
   "cell_type": "code",
   "execution_count": null,
   "id": "d5a853fa",
   "metadata": {},
   "outputs": [],
   "source": [
    "# The following function signatures are only a template to get you started. You may, and should change them to suit your needs!\n",
    "\n",
    "#Change these according to your implementation.\n",
    "\n",
    "feature_length = 1\n",
    "num_weights = 1\n",
    "num_qubits = 1\n",
    "\n",
    "@qfunc\n",
    "def encoding(feature: CArray[CReal, feature_length], wires: QArray) -> None: # your encoding scheme\n",
    "    ### Your Code Goes Here: ###\n",
    "    pass\n",
    "\n",
    "@qfunc\n",
    "def ansatz(weights: CArray[CReal, num_weights], wires: QArray) -> None: # your ansatz\n",
    "    ### Your Code Goes Here: ###\n",
    "    pass\n",
    "\n",
    "@qfunc\n",
    "def main(\n",
    "            feature: CArray[CReal, feature_length],\n",
    "            weights: CArray[CReal, num_weights],\n",
    "            result: Output[QArray[QBit]],\n",
    "        ) -> None:\n",
    "    '''\n",
    "    Combine the encoding scheme and parametrized quantum circuit you came up with\n",
    "    to encode and then process data\n",
    "    '''\n",
    "    allocate(num_qubits, result)\n",
    "    ### Your Code Goes Here: ###"
   ]
  },
  {
   "cell_type": "markdown",
   "id": "4c2bcb6f",
   "metadata": {},
   "source": [
    "### Synthesis\n",
    "\n",
    "Before training, you must synthesize your model into a quantum program. Placeholders for your parameters will be automatically generated.\n",
    "\n",
    "You may find the following documentation useful: https://docs.classiq.io/latest/sdk-reference/synthesis/"
   ]
  },
  {
   "cell_type": "code",
   "execution_count": null,
   "id": "d56f23ca",
   "metadata": {},
   "outputs": [],
   "source": [
    "# Set your preferences here!\n",
    "\n",
    "NUM_SHOTS = None\n",
    "\n",
    "# SIMULATOR is the default backend.\n",
    "BACKEND_PREFERENCES = ClassiqBackendPreferences(\n",
    "        backend_name=ClassiqSimulatorBackendNames.SIMULATOR\n",
    ")\n",
    "\n",
    "# Vary this to achieve the best optimization of your circuit.\n",
    "OPTIMIZATION_PARAMETER = 'no_opt' \n",
    "\n",
    "QMOD = create_model(\n",
    "            main,\n",
    "            execution_preferences=ExecutionPreferences(\n",
    "                num_shots=NUM_SHOTS, backend_preferences=BACKEND_PREFERENCES\n",
    "            ),\n",
    "            constraints=Constraints(optimization_parameter=OPTIMIZATION_PARAMETER)\n",
    "        )\n",
    "\n",
    "QPROG = synthesize(QMOD)\n",
    "\n",
    "# Use the show() function to display your circuit in the browser.\n",
    "show(QPROG)"
   ]
  },
  {
   "cell_type": "markdown",
   "id": "a03b040c",
   "metadata": {},
   "source": [
    "# Training the Model\n",
    "\n",
    "Here, you will optimize the weights in ansatz, so that the model can distiguish between the phases. \n",
    "\n",
    "You can find the following Classiq tutorial and documentation useful: \n",
    "- Execution: https://docs.classiq.io/latest/sdk-reference/execution/ \n",
    "- Execution Session: https://docs.classiq.io/latest/user-guide/execution/ExecutionSession/\n",
    "- Executing With Parameters: https://docs.classiq.io/latest/qmod-reference/language-reference/quantum-entry-point/\n",
    "\n",
    "It is highly recommended to use an ExecutionSession if you are executing the same circuit with different parameters many times. It is not needed to train parameters using the Classiq PyTorch integration.\n",
    "\n",
    "If you are not using the PyTorch integration, you will need an objective (also known as a 'loss', or 'cost') function. Depending on your implementation, you will need to either minimize or maximize it in training."
   ]
  },
  {
   "cell_type": "code",
   "execution_count": null,
   "id": "c83c4ef7",
   "metadata": {},
   "outputs": [],
   "source": [
    "### Your Code Goes Here: ###"
   ]
  },
  {
   "cell_type": "markdown",
   "id": "198d25e0",
   "metadata": {},
   "source": [
    "Training that takes too long may make it impossible to grade your submission."
   ]
  },
  {
   "cell_type": "markdown",
   "id": "b75f5aed",
   "metadata": {},
   "source": [
    "# Testing the Model\n",
    "\n",
    "Good job! Now it's time to see whether the model you designed can successfully perform the classification. For this, compare the predictions of your model to the actual labels. \n",
    "\n",
    "If the model does not perform well, try modifying the encoding and/or the ansatz (by using different number of parameters/qubits/ansatz layers/...)"
   ]
  },
  {
   "cell_type": "code",
   "execution_count": null,
   "id": "c28e2e16",
   "metadata": {},
   "outputs": [],
   "source": [
    "### Your Code Goes Here: ###"
   ]
  },
  {
   "cell_type": "markdown",
   "id": "c7ea5280",
   "metadata": {},
   "source": [
    "## Grading\n",
    "\n",
    "You will be evaluated on the accuracy, depth, width of your model and the number of parameters in your model."
   ]
  },
  {
   "cell_type": "markdown",
   "id": "130eb0ba",
   "metadata": {},
   "source": [
    "The following function will return the width and depth of your model as they will be used in grading. Use it to self-evaluate your model."
   ]
  },
  {
   "cell_type": "code",
   "execution_count": null,
   "id": "09a80a52",
   "metadata": {},
   "outputs": [],
   "source": [
    "from classiq import QuantumProgram\n",
    "\n",
    "def get_metrics(qprog):\n",
    "    \"\"\"\n",
    "    Extract circuit metrics from a quantum program.\n",
    "\n",
    "    Parameters:\n",
    "        qprog: The quantum program object.\n",
    "\n",
    "    Returns:\n",
    "        dict: A dictionary containing the circuit metrics:\n",
    "              - \"depth\": Circuit depth\n",
    "              - \"width\": Circuit width\n",
    "    \"\"\"\n",
    "    circuit = QuantumProgram.from_qprog(qprog)\n",
    "\n",
    "    metrics = {\n",
    "        \"depth\": circuit.transpiled_circuit.depth,\n",
    "        \"width\": circuit.data.width,\n",
    "    }\n",
    "\n",
    "    return metrics"
   ]
  },
  {
   "cell_type": "code",
   "execution_count": null,
   "id": "4e928cf0",
   "metadata": {},
   "outputs": [],
   "source": [
    "print(get_metrics(QPROG))"
   ]
  },
  {
   "cell_type": "markdown",
   "id": "cd17c6a4",
   "metadata": {},
   "source": [
    "# Submission\n",
    "\n",
    "You will submit this notebook, your trained parameters, and your quantum model. "
   ]
  },
  {
   "cell_type": "code",
   "execution_count": null,
   "id": "3262a32f",
   "metadata": {},
   "outputs": [],
   "source": [
    "# Do not change this cell\n",
    "\n",
    "import os\n",
    "\n",
    "def save_qprog(qprog, team_name: str, folder=\".\"):\n",
    "    assert isinstance(team_name, str)\n",
    "    file_name = f\"{team_name.replace(' ','_')}.qprog\"\n",
    "    with open(os.path.join(folder, file_name), 'w') as f:\n",
    "        f.write(qprog.model_dump_json(indent=4))\n",
    "        \n",
    "def save_params(params, team_name: str, folder=\".\"):\n",
    "    assert isinstance(team_name, str)\n",
    "    file_name = f\"{team_name.replace(' ','_')}.npz\"\n",
    "    with open(os.path.join(folder, file_name), 'wb') as f:\n",
    "        np.savez(f, params=params)"
   ]
  },
  {
   "cell_type": "code",
   "execution_count": null,
   "id": "42cbc05d",
   "metadata": {},
   "outputs": [],
   "source": [
    "# Change to your team name!!\n",
    "TEAM_NAME = \"\"\n",
    "\n",
    "# Insert your trained parameters here!\n",
    "TRAINED_PARAMS = []\n",
    "\n",
    "save_qprog(QPROG, team_name=TEAM_NAME)\n",
    "save_params(params=TRAINED_PARAMS, team_name=TEAM_NAME)"
   ]
  }
 ],
 "metadata": {
  "kernelspec": {
   "display_name": "venv",
   "language": "python",
   "name": "python3"
  },
  "language_info": {
   "codemirror_mode": {
    "name": "ipython",
    "version": 3
   },
   "file_extension": ".py",
   "mimetype": "text/x-python",
   "name": "python",
   "nbconvert_exporter": "python",
   "pygments_lexer": "ipython3",
   "version": "3.12.10"
  }
 },
 "nbformat": 4,
 "nbformat_minor": 5
}
