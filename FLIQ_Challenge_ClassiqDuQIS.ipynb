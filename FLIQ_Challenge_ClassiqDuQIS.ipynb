{
  "cells": [
    {
      "cell_type": "markdown",
      "id": "ac6de42c",
      "metadata": {
        "id": "ac6de42c"
      },
      "source": [
        "# Make Sure You Are Ready to Go\n",
        "\n",
        "$\\renewcommand{\\ket}[1]{\\left| #1 \\right\\rangle}\n",
        "\\renewcommand{\\bra}[1]{\\left\\langle #1 \\right|}\n",
        "\\renewcommand{\\braket}[2]{\\left\\langle #1 | #2 \\right\\rangle}\n",
        "\\newcommand{\\ketbra}[2]{\\left| #1 \\right\\rangle\\!\\left\\langle #2 \\right|}$\n",
        "\n",
        "If you haven't done it yet, try running the following lines of code and use the [registration and installation](https://docs.classiq.io/latest/classiq_101/registration_installations/) page if you are having difficulty setting up your environment.\\\n",
        "Uncomment and run the following command to install or update to the latest version of the Classiq SDK (if not installed yet):"
      ]
    },
    {
      "cell_type": "code",
      "execution_count": 1,
      "id": "85f503ae",
      "metadata": {
        "colab": {
          "base_uri": "https://localhost:8080/"
        },
        "id": "85f503ae",
        "outputId": "511bba8e-b6f7-43d4-9fac-e33e031f6b51"
      },
      "outputs": [
        {
          "output_type": "stream",
          "name": "stdout",
          "text": [
            "Requirement already satisfied: classiq in /usr/local/lib/python3.11/dist-packages (0.79.1)\n",
            "Requirement already satisfied: ConfigArgParse<2.0.0,>=1.5.3 in /usr/local/lib/python3.11/dist-packages (from classiq) (1.7)\n",
            "Requirement already satisfied: Pyomo<6.6,>=6.5 in /usr/local/lib/python3.11/dist-packages (from classiq) (6.5.0)\n",
            "Requirement already satisfied: black<25.0,>=24.0 in /usr/local/lib/python3.11/dist-packages (from classiq) (24.10.0)\n",
            "Requirement already satisfied: httpx<1,>=0.23.0 in /usr/local/lib/python3.11/dist-packages (from classiq) (0.28.1)\n",
            "Requirement already satisfied: keyring<24.0.0,>=23.5.0 in /usr/local/lib/python3.11/dist-packages (from classiq) (23.13.1)\n",
            "Requirement already satisfied: matplotlib<4.0.0,>=3.4.3 in /usr/local/lib/python3.11/dist-packages (from classiq) (3.10.0)\n",
            "Requirement already satisfied: networkx<3.0.0,>=2.5.1 in /usr/local/lib/python3.11/dist-packages (from classiq) (2.8.8)\n",
            "Requirement already satisfied: numexpr<3.0.0,>=2.7.3 in /usr/local/lib/python3.11/dist-packages (from classiq) (2.10.2)\n",
            "Requirement already satisfied: numpy<2.0.0,>=1.20.1 in /usr/local/lib/python3.11/dist-packages (from classiq) (1.26.4)\n",
            "Requirement already satisfied: packaging<24.0,>=23.2 in /usr/local/lib/python3.11/dist-packages (from classiq) (23.2)\n",
            "Requirement already satisfied: pandas<3.0.0,>=1.4.0 in /usr/local/lib/python3.11/dist-packages (from classiq) (2.2.2)\n",
            "Requirement already satisfied: plotly<6.0.0,>=5.7.0 in /usr/local/lib/python3.11/dist-packages (from classiq) (5.24.1)\n",
            "Requirement already satisfied: pydantic<2.10.0,>=2.9.0 in /usr/local/lib/python3.11/dist-packages (from classiq) (2.9.2)\n",
            "Requirement already satisfied: pydantic-settings<3.0.0,>=2.4.0 in /usr/local/lib/python3.11/dist-packages (from classiq) (2.9.1)\n",
            "Requirement already satisfied: scipy<2.0.0,>=1.10.0 in /usr/local/lib/python3.11/dist-packages (from classiq) (1.15.3)\n",
            "Requirement already satisfied: sympy<2.0.0,>=1.13.0 in /usr/local/lib/python3.11/dist-packages (from classiq) (1.13.1)\n",
            "Requirement already satisfied: tabulate<1,>=0.8.9 in /usr/local/lib/python3.11/dist-packages (from classiq) (0.9.0)\n",
            "Requirement already satisfied: tqdm<5.0.0,>=4.67.1 in /usr/local/lib/python3.11/dist-packages (from classiq) (4.67.1)\n",
            "Requirement already satisfied: zstandard<0.24.0,>=0.23.0 in /usr/local/lib/python3.11/dist-packages (from classiq) (0.23.0)\n",
            "Requirement already satisfied: click>=8.0.0 in /usr/local/lib/python3.11/dist-packages (from black<25.0,>=24.0->classiq) (8.2.0)\n",
            "Requirement already satisfied: mypy-extensions>=0.4.3 in /usr/local/lib/python3.11/dist-packages (from black<25.0,>=24.0->classiq) (1.1.0)\n",
            "Requirement already satisfied: pathspec>=0.9.0 in /usr/local/lib/python3.11/dist-packages (from black<25.0,>=24.0->classiq) (0.12.1)\n",
            "Requirement already satisfied: platformdirs>=2 in /usr/local/lib/python3.11/dist-packages (from black<25.0,>=24.0->classiq) (4.3.8)\n",
            "Requirement already satisfied: anyio in /usr/local/lib/python3.11/dist-packages (from httpx<1,>=0.23.0->classiq) (4.9.0)\n",
            "Requirement already satisfied: certifi in /usr/local/lib/python3.11/dist-packages (from httpx<1,>=0.23.0->classiq) (2025.4.26)\n",
            "Requirement already satisfied: httpcore==1.* in /usr/local/lib/python3.11/dist-packages (from httpx<1,>=0.23.0->classiq) (1.0.9)\n",
            "Requirement already satisfied: idna in /usr/local/lib/python3.11/dist-packages (from httpx<1,>=0.23.0->classiq) (3.10)\n",
            "Requirement already satisfied: h11>=0.16 in /usr/local/lib/python3.11/dist-packages (from httpcore==1.*->httpx<1,>=0.23.0->classiq) (0.16.0)\n",
            "Requirement already satisfied: jaraco.classes in /usr/local/lib/python3.11/dist-packages (from keyring<24.0.0,>=23.5.0->classiq) (3.4.0)\n",
            "Requirement already satisfied: importlib-metadata>=4.11.4 in /usr/local/lib/python3.11/dist-packages (from keyring<24.0.0,>=23.5.0->classiq) (8.7.0)\n",
            "Requirement already satisfied: SecretStorage>=3.2 in /usr/local/lib/python3.11/dist-packages (from keyring<24.0.0,>=23.5.0->classiq) (3.3.3)\n",
            "Requirement already satisfied: jeepney>=0.4.2 in /usr/local/lib/python3.11/dist-packages (from keyring<24.0.0,>=23.5.0->classiq) (0.9.0)\n",
            "Requirement already satisfied: contourpy>=1.0.1 in /usr/local/lib/python3.11/dist-packages (from matplotlib<4.0.0,>=3.4.3->classiq) (1.3.2)\n",
            "Requirement already satisfied: cycler>=0.10 in /usr/local/lib/python3.11/dist-packages (from matplotlib<4.0.0,>=3.4.3->classiq) (0.12.1)\n",
            "Requirement already satisfied: fonttools>=4.22.0 in /usr/local/lib/python3.11/dist-packages (from matplotlib<4.0.0,>=3.4.3->classiq) (4.58.0)\n",
            "Requirement already satisfied: kiwisolver>=1.3.1 in /usr/local/lib/python3.11/dist-packages (from matplotlib<4.0.0,>=3.4.3->classiq) (1.4.8)\n",
            "Requirement already satisfied: pillow>=8 in /usr/local/lib/python3.11/dist-packages (from matplotlib<4.0.0,>=3.4.3->classiq) (11.2.1)\n",
            "Requirement already satisfied: pyparsing>=2.3.1 in /usr/local/lib/python3.11/dist-packages (from matplotlib<4.0.0,>=3.4.3->classiq) (3.2.3)\n",
            "Requirement already satisfied: python-dateutil>=2.7 in /usr/local/lib/python3.11/dist-packages (from matplotlib<4.0.0,>=3.4.3->classiq) (2.9.0.post0)\n",
            "Requirement already satisfied: pytz>=2020.1 in /usr/local/lib/python3.11/dist-packages (from pandas<3.0.0,>=1.4.0->classiq) (2025.2)\n",
            "Requirement already satisfied: tzdata>=2022.7 in /usr/local/lib/python3.11/dist-packages (from pandas<3.0.0,>=1.4.0->classiq) (2025.2)\n",
            "Requirement already satisfied: tenacity>=6.2.0 in /usr/local/lib/python3.11/dist-packages (from plotly<6.0.0,>=5.7.0->classiq) (9.1.2)\n",
            "Requirement already satisfied: annotated-types>=0.6.0 in /usr/local/lib/python3.11/dist-packages (from pydantic<2.10.0,>=2.9.0->classiq) (0.7.0)\n",
            "Requirement already satisfied: pydantic-core==2.23.4 in /usr/local/lib/python3.11/dist-packages (from pydantic<2.10.0,>=2.9.0->classiq) (2.23.4)\n",
            "Requirement already satisfied: typing-extensions>=4.6.1 in /usr/local/lib/python3.11/dist-packages (from pydantic<2.10.0,>=2.9.0->classiq) (4.13.2)\n",
            "Requirement already satisfied: python-dotenv>=0.21.0 in /usr/local/lib/python3.11/dist-packages (from pydantic-settings<3.0.0,>=2.4.0->classiq) (1.1.0)\n",
            "Requirement already satisfied: typing-inspection>=0.4.0 in /usr/local/lib/python3.11/dist-packages (from pydantic-settings<3.0.0,>=2.4.0->classiq) (0.4.0)\n",
            "Requirement already satisfied: ply in /usr/local/lib/python3.11/dist-packages (from Pyomo<6.6,>=6.5->classiq) (3.11)\n",
            "Requirement already satisfied: mpmath<1.4,>=1.1.0 in /usr/local/lib/python3.11/dist-packages (from sympy<2.0.0,>=1.13.0->classiq) (1.3.0)\n",
            "Requirement already satisfied: zipp>=3.20 in /usr/local/lib/python3.11/dist-packages (from importlib-metadata>=4.11.4->keyring<24.0.0,>=23.5.0->classiq) (3.21.0)\n",
            "Requirement already satisfied: six>=1.5 in /usr/local/lib/python3.11/dist-packages (from python-dateutil>=2.7->matplotlib<4.0.0,>=3.4.3->classiq) (1.17.0)\n",
            "Requirement already satisfied: cryptography>=2.0 in /usr/local/lib/python3.11/dist-packages (from SecretStorage>=3.2->keyring<24.0.0,>=23.5.0->classiq) (43.0.3)\n",
            "Requirement already satisfied: sniffio>=1.1 in /usr/local/lib/python3.11/dist-packages (from anyio->httpx<1,>=0.23.0->classiq) (1.3.1)\n",
            "Requirement already satisfied: more-itertools in /usr/local/lib/python3.11/dist-packages (from jaraco.classes->keyring<24.0.0,>=23.5.0->classiq) (10.7.0)\n",
            "Requirement already satisfied: cffi>=1.12 in /usr/local/lib/python3.11/dist-packages (from cryptography>=2.0->SecretStorage>=3.2->keyring<24.0.0,>=23.5.0->classiq) (1.17.1)\n",
            "Requirement already satisfied: pycparser in /usr/local/lib/python3.11/dist-packages (from cffi>=1.12->cryptography>=2.0->SecretStorage>=3.2->keyring<24.0.0,>=23.5.0->classiq) (2.22)\n"
          ]
        }
      ],
      "source": [
        "pip install -U classiq"
      ]
    },
    {
      "cell_type": "code",
      "execution_count": 2,
      "id": "32deceb1",
      "metadata": {
        "id": "32deceb1"
      },
      "outputs": [],
      "source": [
        "import classiq"
      ]
    },
    {
      "cell_type": "markdown",
      "id": "6fbf8eae",
      "metadata": {
        "id": "6fbf8eae"
      },
      "source": [
        "Uncomment and run the following command if your machine has not been\n",
        "\n",
        "authenticated yet, you only need to run it once!"
      ]
    },
    {
      "cell_type": "code",
      "source": [
        "pip install keyrings.alt"
      ],
      "metadata": {
        "colab": {
          "base_uri": "https://localhost:8080/"
        },
        "id": "J57G1Ybm-H3L",
        "outputId": "330069d5-3485-4397-8f77-629d848b00fd"
      },
      "id": "J57G1Ybm-H3L",
      "execution_count": 3,
      "outputs": [
        {
          "output_type": "stream",
          "name": "stdout",
          "text": [
            "Collecting keyrings.alt\n",
            "  Downloading keyrings.alt-5.0.2-py3-none-any.whl.metadata (3.6 kB)\n",
            "Requirement already satisfied: jaraco.classes in /usr/local/lib/python3.11/dist-packages (from keyrings.alt) (3.4.0)\n",
            "Requirement already satisfied: jaraco.context in /usr/local/lib/python3.11/dist-packages (from keyrings.alt) (6.0.1)\n",
            "Requirement already satisfied: more-itertools in /usr/local/lib/python3.11/dist-packages (from jaraco.classes->keyrings.alt) (10.7.0)\n",
            "Requirement already satisfied: backports.tarfile in /usr/local/lib/python3.11/dist-packages (from jaraco.context->keyrings.alt) (1.2.0)\n",
            "Downloading keyrings.alt-5.0.2-py3-none-any.whl (17 kB)\n",
            "Installing collected packages: keyrings.alt\n",
            "Successfully installed keyrings.alt-5.0.2\n"
          ]
        }
      ]
    },
    {
      "cell_type": "code",
      "execution_count": 4,
      "id": "39634579",
      "metadata": {
        "colab": {
          "base_uri": "https://localhost:8080/"
        },
        "id": "39634579",
        "outputId": "147c591f-ad81-494e-aca5-2baaac45ef31"
      },
      "outputs": [
        {
          "name": "stdout",
          "output_type": "stream",
          "text": [
            "Your user code: TBZW-SZNJ\n",
            "If a browser doesn't automatically open, please visit this URL from any trusted device: https://auth.classiq.io/activate?user_code=TBZW-SZNJ\n",
            "Please set a password for your new keyring: ··········\n",
            "Please confirm the password: ··········\n"
          ]
        }
      ],
      "source": [
        "#from keyrings.alt.file import PlaintextKeyring\n",
        "\n",
        "# # Use a basic keyring backend that stores credentials insecurely (for environments like Colab or VS Code)\n",
        "#keyring.set_keyring(PlaintextKeyring())\n",
        "\n",
        "# import classiq\n",
        "classiq.authenticate()"
      ]
    },
    {
      "cell_type": "markdown",
      "id": "5305b3c8",
      "metadata": {
        "id": "5305b3c8"
      },
      "source": [
        "Now you are good to go!"
      ]
    },
    {
      "cell_type": "markdown",
      "id": "c77d86a9",
      "metadata": {
        "id": "c77d86a9"
      },
      "source": [
        "# Rydberg Phase Diagram"
      ]
    },
    {
      "cell_type": "markdown",
      "id": "d0929b0c",
      "metadata": {
        "id": "d0929b0c"
      },
      "source": [
        "Before starting to code, let us reiterating some theory on Rydberg atoms - the subject of this challenge. They interact via the following Hamiltonian:\n",
        "\n",
        "$$\n",
        "H = \\frac{\\Omega}{2} \\sum_{i=1}^N X_i\n",
        "    - \\delta \\sum_{i=1}^N n_i\n",
        "    + \\sum_{i \\lt j} \\frac{\\Omega R_b^6 }{(a|i-j|)^6} n_i n_j.\n",
        "$$\n",
        "\n",
        "You can find the phase diagram for a $51$-atom chain below. It is obtained by fixing $a=1$ and $\\Omega=1$ and varying $\\delta$ and $R_b$."
      ]
    },
    {
      "cell_type": "markdown",
      "id": "d294a85c",
      "metadata": {
        "id": "d294a85c"
      },
      "source": [
        "<img src=\"https://github.com/dmitriikhitrin/Classiq-x-DuQIS-FLIQ-Challenge/blob/main/phase_diagram.png?raw=1\" alt=\"Phase Diagram\" width=\"800\">\n"
      ]
    },
    {
      "cell_type": "markdown",
      "id": "7e9a92b5",
      "metadata": {
        "id": "7e9a92b5"
      },
      "source": [
        "Fig.1: Phase diagram of the 1D Rydberg Hamiltonian, traced out by (left) bipartite entanglement entropy and (right) expectation value of the number of Rydberg excitations. Plots are obtained using tensor-network representation of the ground states of $H$."
      ]
    },
    {
      "cell_type": "markdown",
      "id": "0462afa8",
      "metadata": {
        "id": "0462afa8"
      },
      "source": [
        "In this challenge, we focus on distinguishing between the $Z2$ phase, where the ground state of $H$ has large overlap with the state $\\ket{rgr\\ldots gr}$, and the $Z3$ phase, where the ground state overlaps strongly with basis states of the form $\\ket{\\ldots rggrgg\\ldots}$.\n",
        "\n",
        "Evidently, such systems can be efficiently studied using tensor networks. However, this challenge prepares us for a more realistic scenario in which we only have access to measurement outcomes from the ground state of some Hamiltonian, and our goal is to determine which phase of matter the state belongs to."
      ]
    },
    {
      "cell_type": "markdown",
      "id": "cedcc958",
      "metadata": {
        "id": "cedcc958"
      },
      "source": [
        "# Loading and Processing Measurement Data\n",
        "\n",
        "*   List item\n",
        "*   List item\n",
        "\n",
        "\n",
        "\n",
        "Training data for your model contains measurement results in randomized bases performed on a 51-qubit Rydberg atoms chain. We load training data from the .npz file in the next cell."
      ]
    },
    {
      "cell_type": "code",
      "source": [
        "!wget https://github.com/dmitriikhitrin/Classiq-x-DuQIS-FLIQ-Challenge/raw/main/training_data.npz\n"
      ],
      "metadata": {
        "colab": {
          "base_uri": "https://localhost:8080/"
        },
        "id": "r4qoIB6n_U7p",
        "outputId": "24e04528-8d5a-4b72-a1f4-e0b95812baf0"
      },
      "id": "r4qoIB6n_U7p",
      "execution_count": 5,
      "outputs": [
        {
          "output_type": "stream",
          "name": "stdout",
          "text": [
            "--2025-05-17 20:28:22--  https://github.com/dmitriikhitrin/Classiq-x-DuQIS-FLIQ-Challenge/raw/main/training_data.npz\n",
            "Resolving github.com (github.com)... 140.82.116.4\n",
            "Connecting to github.com (github.com)|140.82.116.4|:443... connected.\n",
            "HTTP request sent, awaiting response... 302 Found\n",
            "Location: https://raw.githubusercontent.com/dmitriikhitrin/Classiq-x-DuQIS-FLIQ-Challenge/main/training_data.npz [following]\n",
            "--2025-05-17 20:28:22--  https://raw.githubusercontent.com/dmitriikhitrin/Classiq-x-DuQIS-FLIQ-Challenge/main/training_data.npz\n",
            "Resolving raw.githubusercontent.com (raw.githubusercontent.com)... 185.199.108.133, 185.199.109.133, 185.199.110.133, ...\n",
            "Connecting to raw.githubusercontent.com (raw.githubusercontent.com)|185.199.108.133|:443... connected.\n",
            "HTTP request sent, awaiting response... 200 OK\n",
            "Length: 1021888 (998K) [application/octet-stream]\n",
            "Saving to: ‘training_data.npz’\n",
            "\n",
            "training_data.npz   100%[===================>] 997.94K  --.-KB/s    in 0.04s   \n",
            "\n",
            "2025-05-17 20:28:23 (23.6 MB/s) - ‘training_data.npz’ saved [1021888/1021888]\n",
            "\n"
          ]
        }
      ]
    },
    {
      "cell_type": "code",
      "execution_count": 6,
      "id": "33060828",
      "metadata": {
        "id": "33060828"
      },
      "outputs": [],
      "source": [
        "import numpy as np\n",
        "# You might need to make additional imports depending on your implementation"
      ]
    },
    {
      "cell_type": "code",
      "execution_count": 7,
      "id": "4e3917d1",
      "metadata": {
        "colab": {
          "base_uri": "https://localhost:8080/"
        },
        "id": "4e3917d1",
        "outputId": "6efd87a0-a078-40b1-f228-6e8d04d1c126"
      },
      "outputs": [
        {
          "output_type": "stream",
          "name": "stdout",
          "text": [
            "There are 20 data points\n",
            "There were T = 500 measurements performed for each data point\n",
            "The measurements were performed on 51 qubits\n",
            "Example: 2nd experiment result of 8th data point -> ['r', '-', 'i', 'i', 'r', '+', 'r', 'g', '+', '-i', 'r', '-', '-', 'g', '-i', '-', 'r', 'g', 'i', 'i', 'i', '-', 'r', '-i', 'r', 'i', 'r', '+', 'i', 'g', '-', '-i', '-', 'g', '-i', 'i', 'r', '-', '-', '-', 'i', 'i', '-i', 'g', '-i', 'g', 'r', '-', 'r', '+', '-']\n",
            "Example: label for the 8th data point -> Z2\n"
          ]
        }
      ],
      "source": [
        "loaded = np.load(\"training_data.npz\", allow_pickle=True)\n",
        "\n",
        "\n",
        "unprocessed_features = loaded[\"features\"].tolist()\n",
        "unprocessed_labels = loaded[\"labels\"].tolist()\n",
        "\n",
        "print(f'There are {len(unprocessed_features)} data points')\n",
        "print(f'There were T = {len(unprocessed_features[0])} measurements performed for each data point')\n",
        "print(f'The measurements were performed on {len(unprocessed_features[0][0])} qubits')\n",
        "print(f'Example: 2nd experiment result of 8th data point -> {unprocessed_features[7][1]}')\n",
        "print(f'Example: label for the 8th data point -> {unprocessed_labels[7]}')"
      ]
    },
    {
      "cell_type": "markdown",
      "id": "3ba14877",
      "metadata": {
        "id": "3ba14877"
      },
      "source": [
        "In the above,\n",
        "- $\\ket{g}$ is the atomic ground state, which is a $+1$-eigenstate of Pauli $Z$\n",
        "- $\\ket{r}$ is the highly excited Rydberg state, which is a $-1$-eigenstate of Pauli $Z$\n",
        "- $\\ket{+} = \\frac{1}{\\sqrt2}(\\ket{g} + \\ket{r})$, a $+1$-eigenstate of Pauli $X$\n",
        "- $\\ket{-} = \\frac{1}{\\sqrt2}(\\ket{g} - \\ket{r})$, a $-1$-eigenstate of Pauli $X$\n",
        "- $\\ket{+i} = \\frac{1}{\\sqrt2}(\\ket{g} +i\\ket{r})$, a $+1$-eigenstate of Pauli $Y$\n",
        "- $\\ket{-i} = \\frac{1}{\\sqrt2}(\\ket{g} -i \\ket{r})$, a $-1$-eigenstate of Pauli $Y$.\n",
        "\n",
        "It is up to you how to convert the features into classical shadows and labels into numbers and then both into training data for your model. For example, you could assign $-1$ to $Z2$ and $+1$ to $Z3$.\n",
        "\n",
        "**Note:** If you decide to define any helper classes/functions in a separate Python file, please submit it alongside your solution notebook, so we can run and grade it properly"
      ]
    },
    {
      "cell_type": "code",
      "execution_count": 12,
      "id": "deba5d04",
      "metadata": {
        "colab": {
          "base_uri": "https://localhost:8080/"
        },
        "id": "deba5d04",
        "outputId": "f63d4b53-089b-41dd-a5b9-1f36c1c7460a"
      },
      "outputs": [
        {
          "output_type": "stream",
          "name": "stdout",
          "text": [
            "X_sub: (20, 8)  y: (20,)\n"
          ]
        }
      ],
      "source": [
        "# ─── Cell 1: Load → Classical Shadows → PCA (8 features) ───\n",
        "import numpy as np\n",
        "from sklearn.decomposition import PCA\n",
        "\n",
        "# 1) Load raw data\n",
        "data       = np.load(\"training_data.npz\", allow_pickle=True)\n",
        "raw_feats  = data[\"features\"].tolist()   # 20 × 500 × 51\n",
        "raw_labels = data[\"labels\"].tolist()     # 20 labels\n",
        "\n",
        "N, T, Q0 = len(raw_feats), len(raw_feats[0]), len(raw_feats[0][0])\n",
        "\n",
        "# 2) Build classical shadows σ = 3|v⟩⟨v| – I\n",
        "I2 = np.eye(2, dtype=complex)\n",
        "basis = {\n",
        "  'g': np.array([1,0],complex),\n",
        "  'r': np.array([0,1],complex),\n",
        "  '+': (1/np.sqrt(2))*np.array([1,1],complex),\n",
        "  '-': (1/np.sqrt(2))*np.array([1,-1],complex),\n",
        "  '+i':(1/np.sqrt(2))*np.array([1,1j],complex),\n",
        "  '-i':(1/np.sqrt(2))*np.array([1,-1j],complex),\n",
        "}\n",
        "σ_op = {k:3*np.outer(v,v.conj()) - I2 for k,v in basis.items()}\n",
        "norm = lambda s: '+i' if s.strip().replace('−','-')=='i' else s.strip().replace('−','-')\n",
        "\n",
        "# 3) Accumulate shadows\n",
        "S = np.zeros((N, Q0, 2, 2), complex)\n",
        "for i, shots in enumerate(raw_feats):\n",
        "    acc = np.zeros((Q0,2,2), complex)\n",
        "    for shot in shots:\n",
        "        for q, o in enumerate(shot):\n",
        "            acc[q] += σ_op[norm(o)]\n",
        "    S[i] = acc / T\n",
        "\n",
        "# 4) Bloch angles θx, θz\n",
        "σx = np.array([[0,1],[1,0]], complex)\n",
        "σz = np.array([[1,0],[0,-1]], complex)\n",
        "ρ  = (S + I2)/3\n",
        "ex = np.real(np.trace(ρ @ σx, axis1=2, axis2=3))\n",
        "ez = np.real(np.trace(ρ @ σz, axis1=2, axis2=3))\n",
        "θx = (np.clip(ex,-1,1)+1)*(np.pi/2)\n",
        "θz = (np.clip(ez,-1,1)+1)*(np.pi/2)\n",
        "\n",
        "# 5) Flatten to complex vector and split real/imag\n",
        "Xc    = (θx + 1j*θz).reshape(N, -1)    # shape (20,204)\n",
        "Xreal = np.hstack([Xc.real, Xc.imag])  # (20,408)\n",
        "\n",
        "# 6) PCA to 8 real features\n",
        "Xp    = PCA(n_components=8, random_state=0).fit_transform(Xreal)\n",
        "mn, mx = Xp.min(0), Xp.max(0)\n",
        "Xp_norm = (Xp - mn)/np.where(mx-mn==0,1,(mx-mn))*np.pi  # normalize to [0,π]\n",
        "\n",
        "X_sub    = Xp_norm                       # final (20, 8)\n",
        "y        = np.array([ -1 if lbl=='Z2' else +1 for lbl in raw_labels ])\n",
        "\n",
        "print(\"X_sub:\", X_sub.shape, \" y:\", y.shape)\n"
      ]
    },
    {
      "cell_type": "markdown",
      "id": "8016123e",
      "metadata": {
        "id": "8016123e"
      },
      "source": [
        "# Defining a Quantum Model\n",
        "\n",
        "In this section, you will create a QML model for classifying the quantum phases. This will include 3 stages:\n",
        "- First, you will need to decide on the data encoding scheme, i.e. loading numerical features you obtained above into the quantum circuit.\n",
        "- Then, you will need to come up with an ansatz - a parametrized quantum circuit, which will be optimized to perform classification.\n",
        "- Finally, to readout classical information from the quantum model, you will need to perform some sort of measurement on the resultant quantum state. Perhaps, you could extract an expectation value of some Pauli-string $P \\in \\{I, X, Y, Z\\}^{\\otimes N}$, so that $\\langle P \\rangle < b$ is interpreted as $Z2$ and  $\\langle P \\rangle > b$ is interpreted as $Z3$ for some decision boundary $b$.\n",
        "\n",
        "There are several approaches to QML in Classiq, linked below.\n",
        "\n",
        "You may find the following guides useful:\n",
        "- QML with Classiq: http://docs.classiq.io/latest/user-guide/read/qml_with_classiq_guide/\n",
        "- Variational Model Example: https://github.com/Classiq/classiq-library/blob/main/algorithms/qaoa/maxcut/qaoa_max_cut.ipynb\n",
        "- Hybrid QNN: https://docs.classiq.io/latest/explore/algorithms/qml/hybrid_qnn/hybrid_qnn_for_subset_majority/\n",
        "\n",
        "Although the 2nd guide describes a hybrid model, **you may not implement a hybrid model**, the guide should only be used as a reference as to how to implement QML.\n",
        "\n",
        "**Warning**: Training using the Classiq PyTorch integration may take a prohibitive amount of time. Consider this when choosing an approach."
      ]
    },
    {
      "cell_type": "code",
      "execution_count": 11,
      "id": "6413592b",
      "metadata": {
        "id": "6413592b"
      },
      "outputs": [],
      "source": [
        "from classiq import *\n",
        "from classiq.execution import *\n",
        "import numpy as np\n",
        "from classiq.synthesis import synthesize, show"
      ]
    },
    {
      "cell_type": "code",
      "execution_count": 17,
      "id": "d5a853fa",
      "metadata": {
        "colab": {
          "base_uri": "https://localhost:8080/"
        },
        "id": "d5a853fa",
        "outputId": "ea42c676-0fa5-48d1-c553-68623e1093c8"
      },
      "outputs": [
        {
          "output_type": "stream",
          "name": "stdout",
          "text": [
            "Quantum program link: https://platform.classiq.io/circuit/2xEtjDLRQoCV78heCdbNPFE5gNJ?login=True&version=0.79.1\n"
          ]
        }
      ],
      "source": [
        "# ─── Cell 2 (fixed): 4-qubit, 1-layer Circuit + 2-parameter Ansatz ───\n",
        "from classiq import (\n",
        "    qfunc, CArray, CReal, QArray, QBit, Output,\n",
        "    allocate, RY, RZ, RX, CZ,\n",
        "    create_model, Constraints\n",
        ")\n",
        "from classiq.execution import (\n",
        "    ExecutionPreferences, ClassiqBackendPreferences,\n",
        "    ClassiqSimulatorBackendNames\n",
        ")\n",
        "from classiq.synthesis import synthesize, show\n",
        "\n",
        "# Hyperparameters\n",
        "feature_length = 8\n",
        "num_qubits     = 4\n",
        "num_weights    = 2   # shared RX & RZ\n",
        "\n",
        "# Encoding: 2 angles per qubit\n",
        "@qfunc\n",
        "def encoding(f: CArray[CReal, feature_length], wires: QArray) -> None:\n",
        "    for q in range(num_qubits):\n",
        "        i0 = 2*q\n",
        "        RY(theta=f[i0],     target=wires[q])\n",
        "        RZ(theta=f[i0+1],   target=wires[q])\n",
        "\n",
        "@qfunc\n",
        "def ansatz(weights: CArray[CReal, num_weights], wires: QArray) -> None:\n",
        "    # 1) shared RX on every qubit\n",
        "    for i in range(num_qubits):\n",
        "        RX(theta=weights[0], target=wires[i])\n",
        "    # 2) ring of CZ gates\n",
        "    for i in range(num_qubits):\n",
        "        CZ(ctrl=wires[i], target=wires[(i+1) % num_qubits])\n",
        "    # 3) shared RZ on every qubit\n",
        "    for i in range(num_qubits):\n",
        "        RZ(theta=weights[1], target=wires[i])\n",
        "\n",
        "# Entry point\n",
        "@qfunc\n",
        "def main(\n",
        "    feature: CArray[CReal, feature_length],\n",
        "    weights: CArray[CReal, num_weights],\n",
        "    result:  Output[QArray[QBit]],\n",
        ") -> None:\n",
        "    allocate(num_qubits, result)\n",
        "    encoding(feature, wires=result)\n",
        "    ansatz(weights,   wires=result)\n",
        "\n",
        "# Synthesis\n",
        "NUM_SHOTS = 1000\n",
        "BACKENDS  = ClassiqBackendPreferences(\n",
        "    backend_name=ClassiqSimulatorBackendNames.SIMULATOR\n",
        ")\n",
        "\n",
        "QMOD  = create_model(\n",
        "    main,\n",
        "    execution_preferences=ExecutionPreferences(\n",
        "        num_shots=NUM_SHOTS,\n",
        "        backend_preferences=BACKENDS\n",
        "    ),\n",
        "    constraints=Constraints(optimization_parameter=\"no_opt\")\n",
        ")\n",
        "QPROG = synthesize(QMOD)\n",
        "show(QPROG)\n"
      ]
    },
    {
      "cell_type": "markdown",
      "id": "4c2bcb6f",
      "metadata": {
        "id": "4c2bcb6f"
      },
      "source": [
        "### Synthesis\n",
        "\n",
        "Before training, you must synthesize your model into a quantum program. Placeholders for your parameters will be automatically generated.\n",
        "\n",
        "You may find the following documentation useful: https://docs.classiq.io/latest/sdk-reference/synthesis/"
      ]
    },
    {
      "cell_type": "code",
      "source": [
        "# Synthesis\n",
        "NUM_SHOTS = 1000\n",
        "BACKENDS  = ClassiqBackendPreferences(\n",
        "    backend_name=ClassiqSimulatorBackendNames.SIMULATOR\n",
        ")\n",
        "QMOD  = create_model(\n",
        "    main,\n",
        "    execution_preferences=ExecutionPreferences(\n",
        "        num_shots=NUM_SHOTS, backend_preferences=BACKENDS\n",
        "    ),\n",
        "    constraints=Constraints(optimization_parameter=\"no_opt\")\n",
        ")\n",
        "QPROG = synthesize(QMOD)\n",
        "show(QPROG)\n",
        "\n",
        "# Now width=8, depth≈(2+8)×1=10\n"
      ],
      "metadata": {
        "colab": {
          "base_uri": "https://localhost:8080/"
        },
        "id": "xMTWP5sGCaTj",
        "outputId": "a0482132-18bc-42f7-aa43-cfe1180a0a7f"
      },
      "id": "xMTWP5sGCaTj",
      "execution_count": 60,
      "outputs": [
        {
          "output_type": "stream",
          "name": "stdout",
          "text": [
            "Quantum program link: https://platform.classiq.io/circuit/2xELRD1kTCfLhhVgXfOSV8daFgm?login=True&version=0.79.1\n"
          ]
        }
      ]
    },
    {
      "cell_type": "markdown",
      "id": "a03b040c",
      "metadata": {
        "id": "a03b040c"
      },
      "source": [
        "# Training the Model\n",
        "\n",
        "Here, you will optimize the weights in ansatz, so that the model can distiguish between the phases.\n",
        "\n",
        "You can find the following Classiq tutorial and documentation useful:\n",
        "- Execution: https://docs.classiq.io/latest/sdk-reference/execution/\n",
        "- Execution Session: https://docs.classiq.io/latest/user-guide/execution/ExecutionSession/\n",
        "- Executing With Parameters: https://docs.classiq.io/latest/qmod-reference/language-reference/quantum-entry-point/\n",
        "\n",
        "It is highly recommended to use an ExecutionSession if you are executing the same circuit with different parameters many times. It is not needed to train parameters using the Classiq PyTorch integration.\n",
        "\n",
        "If you are not using the PyTorch integration, you will need an objective (also known as a 'loss', or 'cost') function. Depending on your implementation, you will need to either minimize or maximize it in training."
      ]
    },
    {
      "cell_type": "code",
      "source": [
        "# ─── Cell 3: Pure‐Classiq SPSA Training (2 params × 4 qubits) ───\n",
        "import numpy as np\n",
        "import matplotlib.pyplot as plt\n",
        "from classiq.execution import ExecutionSession, ExecutionPreferences\n",
        "\n",
        "# 1) Build sessions\n",
        "def make_session(shots: int, fast: bool) -> ExecutionSession:\n",
        "    prefs = ExecutionPreferences(\n",
        "        num_shots=shots,\n",
        "        backend_preferences=BACKENDS,  # from your synthesis cell\n",
        "        fast=fast\n",
        "    )\n",
        "    return ExecutionSession(quantum_program=QPROG,\n",
        "                            execution_preferences=prefs)\n",
        "\n",
        "sess64  = make_session(64,  fast=True)\n",
        "sess256 = make_session(256, fast=False)\n",
        "\n",
        "# 2) Binder & average-Z over all 4 qubits\n",
        "def bind(tag, arr):\n",
        "    return {f\"{tag}_param_{i}\": float(arr[i]) for i in range(len(arr))}\n",
        "\n",
        "def avg_z(counts: dict) -> float:\n",
        "    tot = sum(counts.values())\n",
        "    return sum(\n",
        "        c * sum(+1 if b=='0' else -1 for b in bits)\n",
        "        for bits, c in counts.items()\n",
        "    ) / (tot * num_qubits)\n",
        "\n",
        "# 3) Vectorized forward pass\n",
        "def batch_forward(sess, thetas, Xb):\n",
        "    param_list = [\n",
        "        {**bind(\"weights\", th), **bind(\"feature\", x)}\n",
        "        for th, x in zip(thetas, Xb)\n",
        "    ]\n",
        "    results = sess.batch_sample(parameters=param_list)\n",
        "    cnts = [\n",
        "        r.counts if isinstance(r.counts, dict) else r.counts[0]\n",
        "        for r in results\n",
        "    ]\n",
        "    return np.array([avg_z(c) for c in cnts])\n",
        "\n",
        "# 4) Hinge‐loss & accuracy\n",
        "num_weights = 2\n",
        "num_samples = X_sub.shape[0]\n",
        "\n",
        "def hinge(sess, w):\n",
        "    logits = batch_forward(sess, np.tile(w,(num_samples,1)), X_sub)\n",
        "    return np.mean(np.maximum(0, 1 - y * logits))\n",
        "\n",
        "def accuracy(sess, w):\n",
        "    logits = batch_forward(sess, np.tile(w,(num_samples,1)), X_sub)\n",
        "    return np.mean(np.sign(logits) == y)\n",
        "\n",
        "# 5) SPSA hyperparameters & init\n",
        "alpha, c0, A, gamma = 0.8, 0.10, 0.0, 0.05\n",
        "MAX_IT = 120\n",
        "theta  = 0.01 * np.random.randn(num_weights)\n",
        "loss_log, acc_log = [], []\n",
        "\n",
        "# 6) SPSA loop\n",
        "for k in range(MAX_IT):\n",
        "    sess = sess64 if k < 50 else sess256\n",
        "    ck   = c0 / (k + 1)**gamma\n",
        "    ak   = alpha\n",
        "    delta = np.random.choice([+1, -1], num_weights)\n",
        "\n",
        "    loss_p = hinge(sess, theta + ck * delta)\n",
        "    loss_m = hinge(sess, theta - ck * delta)\n",
        "    grad   = (loss_p - loss_m) / (2 * ck * delta)\n",
        "    theta -= ak * grad\n",
        "\n",
        "    if k % 20 == 0 or k == MAX_IT-1:\n",
        "        L = hinge(sess, theta)\n",
        "        A = accuracy(sess, theta)\n",
        "        loss_log.append(L); acc_log.append(A)\n",
        "        stage = \"64-shot\" if k < 50 else \"256-shot\"\n",
        "        print(f\"iter {k:3d} | {stage:<8} | loss={L:.4f} | acc={A:.2%}\")\n",
        "\n",
        "# 7) Cleanup & plot\n",
        "sess64.close(); sess256.close\n"
      ],
      "metadata": {
        "colab": {
          "base_uri": "https://localhost:8080/",
          "height": 242
        },
        "id": "72vp6wcuvcUh",
        "outputId": "110b3eb8-8614-4427-b61c-f7c90aa4c7d2"
      },
      "id": "72vp6wcuvcUh",
      "execution_count": 21,
      "outputs": [
        {
          "output_type": "stream",
          "name": "stdout",
          "text": [
            "iter   0 | 64-shot  | loss=1.2525 | acc=20.00%\n",
            "iter  20 | 64-shot  | loss=0.7130 | acc=95.00%\n",
            "iter  40 | 64-shot  | loss=0.7246 | acc=95.00%\n",
            "iter  60 | 256-shot | loss=0.7191 | acc=95.00%\n",
            "iter  80 | 256-shot | loss=0.7106 | acc=95.00%\n",
            "iter 100 | 256-shot | loss=0.7170 | acc=95.00%\n",
            "iter 119 | 256-shot | loss=0.7115 | acc=95.00%\n"
          ]
        },
        {
          "output_type": "execute_result",
          "data": {
            "text/plain": [
              "<bound method ExecutionSession.close of <classiq.execution.execution_session.ExecutionSession object at 0x7df6fb1dde50>>"
            ],
            "text/html": [
              "<div style=\"max-width:800px; border: 1px solid var(--colab-border-color);\"><style>\n",
              "      pre.function-repr-contents {\n",
              "        overflow-x: auto;\n",
              "        padding: 8px 12px;\n",
              "        max-height: 500px;\n",
              "      }\n",
              "\n",
              "      pre.function-repr-contents.function-repr-contents-collapsed {\n",
              "        cursor: pointer;\n",
              "        max-height: 100px;\n",
              "      }\n",
              "    </style>\n",
              "    <pre style=\"white-space: initial; background:\n",
              "         var(--colab-secondary-surface-color); padding: 8px 12px;\n",
              "         border-bottom: 1px solid var(--colab-border-color);\"><b>classiq.execution.execution_session.ExecutionSession.close</b><br/>def close() -&gt; None</pre><pre class=\"function-repr-contents function-repr-contents-collapsed\" style=\"\"><a class=\"filepath\" style=\"display:none\" href=\"#\">/usr/local/lib/python3.11/dist-packages/classiq/execution/execution_session.py</a>Close the session and clean up its resources.</pre>\n",
              "      <script>\n",
              "      if (google.colab.kernel.accessAllowed && google.colab.files && google.colab.files.view) {\n",
              "        for (const element of document.querySelectorAll('.filepath')) {\n",
              "          element.style.display = 'block'\n",
              "          element.onclick = (event) => {\n",
              "            event.preventDefault();\n",
              "            event.stopPropagation();\n",
              "            google.colab.files.view(element.textContent, 116);\n",
              "          };\n",
              "        }\n",
              "      }\n",
              "      for (const element of document.querySelectorAll('.function-repr-contents')) {\n",
              "        element.onclick = (event) => {\n",
              "          event.preventDefault();\n",
              "          event.stopPropagation();\n",
              "          element.classList.toggle('function-repr-contents-collapsed');\n",
              "        };\n",
              "      }\n",
              "      </script>\n",
              "      </div>"
            ]
          },
          "metadata": {},
          "execution_count": 21
        }
      ]
    },
    {
      "cell_type": "code",
      "source": [
        "# ─── Manual metrics ───\n",
        "P = num_weights           # e.g. 2\n",
        "W = num_qubits            # e.g. 4\n",
        "D = 6                     # copy the “depth” reported by show(QPROG)\n"
      ],
      "metadata": {
        "id": "bBSoCA5zC8fB"
      },
      "id": "bBSoCA5zC8fB",
      "execution_count": 24,
      "outputs": []
    },
    {
      "cell_type": "code",
      "source": [
        "import numpy as np\n",
        "import matplotlib.pyplot as plt\n",
        "\n",
        "# — these come from your run —\n",
        "# loss_log : list of hinge losses at each checkpoint\n",
        "# acc_log  : list of accuracies (in [0,1]) at each checkpoint\n",
        "# P, D, W  : scalar values for your final circuit\n",
        "#           (e.g. P=2, D=6, W=4)\n",
        "# Note: f_i = A_i - 0.1*P - 0.0002*D - 0.1*W\n",
        "\n",
        "checkpts = np.arange(len(acc_log))\n",
        "f_scores = np.array(acc_log) - 0.1*P - 0.0002*D - 0.1*W\n",
        "\n",
        "\n",
        "# 1) Overlaid Loss & Accuracy\n",
        "fig, ax1 = plt.subplots(figsize=(6,3))\n",
        "ax1.plot(checkpts, loss_log, 'C0-o', label='Hinge Loss')\n",
        "ax1.set_xlabel(\"Checkpoint\")\n",
        "ax1.set_ylabel(\"Hinge Loss\", color='C0')\n",
        "ax1.tick_params(axis='y', labelcolor='C0')\n",
        "\n",
        "ax2 = ax1.twinx()\n",
        "ax2.plot(checkpts, acc_log,  'C1-s', label='Accuracy')\n",
        "ax2.set_ylabel(\"Accuracy\", color='C1')\n",
        "ax2.tick_params(axis='y', labelcolor='C1')\n",
        "\n",
        "# combine legends\n",
        "lines, labels = ax1.get_legend_handles_labels()\n",
        "lines2, labels2 = ax2.get_legend_handles_labels()\n",
        "ax1.legend(lines+lines2, labels+labels2, loc='upper right')\n",
        "plt.title(\"Training Curves\")\n",
        "plt.tight_layout()\n",
        "plt.show()\n",
        "\n",
        "\n",
        "# 2) f‐score curve\n",
        "plt.figure(figsize=(6,3))\n",
        "plt.plot(checkpts, f_scores, 'C2-^')\n",
        "plt.xlabel(\"Checkpoint\")\n",
        "plt.ylabel(\"f-score\")\n",
        "plt.title(\"Composite f-score Over Time\")\n",
        "plt.tight_layout()\n",
        "plt.show()\n",
        "\n",
        "\n",
        "# 3) Breakdown bar chart at final checkpoint\n",
        "terms = {\n",
        "    'Accuracy (A)':    acc_log[-1],\n",
        "    '-0.1·P term':    -0.1 * P,\n",
        "    '-0.0002·D term': -0.0002 * D,\n",
        "    '-0.1·W term':    -0.1 * W,\n",
        "}\n",
        "names  = list(terms.keys())\n",
        "values = [terms[n] for n in names]\n",
        "\n",
        "plt.figure(figsize=(6,3))\n",
        "bars = plt.bar(names, values, color=['C1','C3','C4','C5'])\n",
        "plt.ylabel(\"Contribution to f-score\")\n",
        "plt.title(\"f-score Breakdown (final checkpoint)\")\n",
        "plt.xticks(rotation=30, ha='right')\n",
        "for bar in bars:\n",
        "    y = bar.get_height()\n",
        "    plt.text(bar.get_x()+bar.get_width()/2, y + 0.005, f\"{y:.3f}\", ha='center')\n",
        "plt.tight_layout()\n",
        "plt.show()\n"
      ],
      "metadata": {
        "id": "RPHk5c-KC0uI",
        "outputId": "8c8d7aec-9542-40ba-df3a-566a0383933b",
        "colab": {
          "base_uri": "https://localhost:8080/",
          "height": 887
        }
      },
      "id": "RPHk5c-KC0uI",
      "execution_count": 25,
      "outputs": [
        {
          "output_type": "display_data",
          "data": {
            "text/plain": [
              "<Figure size 600x300 with 2 Axes>"
            ],
            "image/png": "[encoded data removed]"
          },
          "metadata": {}
        },
        {
          "output_type": "display_data",
          "data": {
            "text/plain": [
              "<Figure size 600x300 with 1 Axes>"
            ],
            "image/png": "[encoded data removed]"
          },
          "metadata": {}
        },
        {
          "output_type": "display_data",
          "data": {
            "text/plain": [
              "<Figure size 600x300 with 1 Axes>"
            ],
            "image/png": "[encoded data removed]"
          },
          "metadata": {}
        }
      ]
    },
    {
      "cell_type": "markdown",
      "id": "198d25e0",
      "metadata": {
        "id": "198d25e0"
      },
      "source": [
        "Training that takes too long may make it impossible to grade your submission."
      ]
    },
    {
      "cell_type": "markdown",
      "id": "b75f5aed",
      "metadata": {
        "id": "b75f5aed"
      },
      "source": [
        "# Testing the Model\n",
        "\n",
        "Good job! Now it's time to see whether the model you designed can successfully perform the classification. For this, compare the predictions of your model to the actual labels.\n",
        "\n",
        "If the model does not perform well, try modifying the encoding and/or the ansatz (by using different number of parameters/qubits/ansatz layers/...)"
      ]
    },
    {
      "cell_type": "code",
      "execution_count": null,
      "id": "c28e2e16",
      "metadata": {
        "id": "c28e2e16"
      },
      "outputs": [],
      "source": [
        "### Your Code Goes Here: ###"
      ]
    },
    {
      "cell_type": "markdown",
      "id": "c7ea5280",
      "metadata": {
        "id": "c7ea5280"
      },
      "source": [
        "## Grading\n",
        "\n",
        "You will be evaluated on the accuracy, depth, width of your model and the number of parameters in your model."
      ]
    },
    {
      "cell_type": "markdown",
      "id": "130eb0ba",
      "metadata": {
        "id": "130eb0ba"
      },
      "source": [
        "The following function will return the width and depth of your model as they will be used in grading. Use it to self-evaluate your model."
      ]
    },
    {
      "cell_type": "code",
      "execution_count": 26,
      "id": "09a80a52",
      "metadata": {
        "id": "09a80a52"
      },
      "outputs": [],
      "source": [
        "from classiq import QuantumProgram\n",
        "\n",
        "def get_metrics(qprog):\n",
        "    \"\"\"\n",
        "    Extract circuit metrics from a quantum program.\n",
        "\n",
        "    Parameters:\n",
        "        qprog: The quantum program object.\n",
        "\n",
        "    Returns:\n",
        "        dict: A dictionary containing the circuit metrics:\n",
        "              - \"depth\": Circuit depth\n",
        "              - \"width\": Circuit width\n",
        "    \"\"\"\n",
        "    circuit = QuantumProgram.from_qprog(qprog)\n",
        "\n",
        "    metrics = {\n",
        "        \"depth\": circuit.transpiled_circuit.depth,\n",
        "        \"width\": circuit.data.width,\n",
        "    }\n",
        "\n",
        "    return metrics"
      ]
    },
    {
      "cell_type": "code",
      "execution_count": 27,
      "id": "4e928cf0",
      "metadata": {
        "colab": {
          "base_uri": "https://localhost:8080/"
        },
        "id": "4e928cf0",
        "outputId": "54347a70-1761-45b6-8067-55fc6174943f"
      },
      "outputs": [
        {
          "output_type": "stream",
          "name": "stdout",
          "text": [
            "{'depth': 8, 'width': 4}\n"
          ]
        }
      ],
      "source": [
        "print(get_metrics(QPROG))"
      ]
    },
    {
      "cell_type": "markdown",
      "id": "cd17c6a4",
      "metadata": {
        "id": "cd17c6a4"
      },
      "source": [
        "# Submission\n",
        "\n",
        "You will submit this notebook, your trained parameters, and your quantum model."
      ]
    },
    {
      "cell_type": "code",
      "execution_count": null,
      "id": "3262a32f",
      "metadata": {
        "id": "3262a32f"
      },
      "outputs": [],
      "source": [
        "# Do not change this cell\n",
        "\n",
        "import os\n",
        "\n",
        "def save_qprog(qprog, team_name: str, folder=\".\"):\n",
        "    assert isinstance(team_name, str)\n",
        "    file_name = f\"{team_name.replace(' ','_')}.qprog\"\n",
        "    with open(os.path.join(folder, file_name), 'w') as f:\n",
        "        f.write(qprog.model_dump_json(indent=4))\n",
        "\n",
        "def save_params(params, team_name: str, folder=\".\"):\n",
        "    assert isinstance(team_name, str)\n",
        "    file_name = f\"{team_name.replace(' ','_')}.npz\"\n",
        "    with open(os.path.join(folder, file_name), 'wb') as f:\n",
        "        np.savez(f, params=params)"
      ]
    },
    {
      "cell_type": "code",
      "execution_count": null,
      "id": "42cbc05d",
      "metadata": {
        "id": "42cbc05d"
      },
      "outputs": [],
      "source": [
        "# Change to your team name!!\n",
        "TEAM_NAME = \"\"\n",
        "\n",
        "# Insert your trained parameters here!\n",
        "TRAINED_PARAMS = []\n",
        "\n",
        "save_qprog(QPROG, team_name=TEAM_NAME)\n",
        "save_params(params=TRAINED_PARAMS, team_name=TEAM_NAME)"
      ]
    }
  ],
  "metadata": {
    "kernelspec": {
      "display_name": "Python 3",
      "name": "python3"
    },
    "language_info": {
      "codemirror_mode": {
        "name": "ipython",
        "version": 3
      },
      "file_extension": ".py",
      "mimetype": "text/x-python",
      "name": "python",
      "nbconvert_exporter": "python",
      "pygments_lexer": "ipython3",
      "version": "3.12.10"
    },
    "colab": {
      "provenance": [],
      "gpuType": "T4"
    },
    "accelerator": "GPU"
  },
  "nbformat": 4,
  "nbformat_minor": 5
}