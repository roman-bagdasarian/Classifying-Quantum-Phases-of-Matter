{
  "cells": [
    {
      "cell_type": "markdown",
      "id": "ac6de42c",
      "metadata": {
        "id": "ac6de42c"
      },
      "source": [
        "# Make Sure You Are Ready to Go\n",
        "\n",
        "$\\renewcommand{\\ket}[1]{\\left| #1 \\right\\rangle}\n",
        "\\renewcommand{\\bra}[1]{\\left\\langle #1 \\right|}\n",
        "\\renewcommand{\\braket}[2]{\\left\\langle #1 | #2 \\right\\rangle}\n",
        "\\newcommand{\\ketbra}[2]{\\left| #1 \\right\\rangle\\!\\left\\langle #2 \\right|}$\n",
        "\n",
        "If you haven't done it yet, try running the following lines of code and use the [registration and installation](https://docs.classiq.io/latest/classiq_101/registration_installations/) page if you are having difficulty setting up your environment.\\\n",
        "Uncomment and run the following command to install or update to the latest version of the Classiq SDK (if not installed yet):"
      ]
    },
    {
      "cell_type": "code",
      "execution_count": 1,
      "id": "85f503ae",
      "metadata": {
        "colab": {
          "base_uri": "https://localhost:8080/"
        },
        "id": "85f503ae",
        "outputId": "9f249676-1211-437d-f843-89430eba5571"
      },
      "outputs": [
        {
          "output_type": "stream",
          "name": "stdout",
          "text": [
            "Requirement already satisfied: classiq in /usr/local/lib/python3.11/dist-packages (0.79.1)\n",
            "Requirement already satisfied: ConfigArgParse<2.0.0,>=1.5.3 in /usr/local/lib/python3.11/dist-packages (from classiq) (1.7)\n",
            "Requirement already satisfied: Pyomo<6.6,>=6.5 in /usr/local/lib/python3.11/dist-packages (from classiq) (6.5.0)\n",
            "Requirement already satisfied: black<25.0,>=24.0 in /usr/local/lib/python3.11/dist-packages (from classiq) (24.10.0)\n",
            "Requirement already satisfied: httpx<1,>=0.23.0 in /usr/local/lib/python3.11/dist-packages (from classiq) (0.28.1)\n",
            "Requirement already satisfied: keyring<24.0.0,>=23.5.0 in /usr/local/lib/python3.11/dist-packages (from classiq) (23.13.1)\n",
            "Requirement already satisfied: matplotlib<4.0.0,>=3.4.3 in /usr/local/lib/python3.11/dist-packages (from classiq) (3.10.0)\n",
            "Requirement already satisfied: networkx<3.0.0,>=2.5.1 in /usr/local/lib/python3.11/dist-packages (from classiq) (2.8.8)\n",
            "Requirement already satisfied: numexpr<3.0.0,>=2.7.3 in /usr/local/lib/python3.11/dist-packages (from classiq) (2.10.2)\n",
            "Requirement already satisfied: numpy<2.0.0,>=1.20.1 in /usr/local/lib/python3.11/dist-packages (from classiq) (1.26.4)\n",
            "Requirement already satisfied: packaging<24.0,>=23.2 in /usr/local/lib/python3.11/dist-packages (from classiq) (23.2)\n",
            "Requirement already satisfied: pandas<3.0.0,>=1.4.0 in /usr/local/lib/python3.11/dist-packages (from classiq) (2.2.2)\n",
            "Requirement already satisfied: plotly<6.0.0,>=5.7.0 in /usr/local/lib/python3.11/dist-packages (from classiq) (5.24.1)\n",
            "Requirement already satisfied: pydantic<2.10.0,>=2.9.0 in /usr/local/lib/python3.11/dist-packages (from classiq) (2.9.2)\n",
            "Requirement already satisfied: pydantic-settings<3.0.0,>=2.4.0 in /usr/local/lib/python3.11/dist-packages (from classiq) (2.9.1)\n",
            "Requirement already satisfied: scipy<2.0.0,>=1.10.0 in /usr/local/lib/python3.11/dist-packages (from classiq) (1.15.3)\n",
            "Requirement already satisfied: sympy<2.0.0,>=1.13.0 in /usr/local/lib/python3.11/dist-packages (from classiq) (1.13.1)\n",
            "Requirement already satisfied: tabulate<1,>=0.8.9 in /usr/local/lib/python3.11/dist-packages (from classiq) (0.9.0)\n",
            "Requirement already satisfied: tqdm<5.0.0,>=4.67.1 in /usr/local/lib/python3.11/dist-packages (from classiq) (4.67.1)\n",
            "Requirement already satisfied: zstandard<0.24.0,>=0.23.0 in /usr/local/lib/python3.11/dist-packages (from classiq) (0.23.0)\n",
            "Requirement already satisfied: click>=8.0.0 in /usr/local/lib/python3.11/dist-packages (from black<25.0,>=24.0->classiq) (8.2.0)\n",
            "Requirement already satisfied: mypy-extensions>=0.4.3 in /usr/local/lib/python3.11/dist-packages (from black<25.0,>=24.0->classiq) (1.1.0)\n",
            "Requirement already satisfied: pathspec>=0.9.0 in /usr/local/lib/python3.11/dist-packages (from black<25.0,>=24.0->classiq) (0.12.1)\n",
            "Requirement already satisfied: platformdirs>=2 in /usr/local/lib/python3.11/dist-packages (from black<25.0,>=24.0->classiq) (4.3.8)\n",
            "Requirement already satisfied: anyio in /usr/local/lib/python3.11/dist-packages (from httpx<1,>=0.23.0->classiq) (4.9.0)\n",
            "Requirement already satisfied: certifi in /usr/local/lib/python3.11/dist-packages (from httpx<1,>=0.23.0->classiq) (2025.4.26)\n",
            "Requirement already satisfied: httpcore==1.* in /usr/local/lib/python3.11/dist-packages (from httpx<1,>=0.23.0->classiq) (1.0.9)\n",
            "Requirement already satisfied: idna in /usr/local/lib/python3.11/dist-packages (from httpx<1,>=0.23.0->classiq) (3.10)\n",
            "Requirement already satisfied: h11>=0.16 in /usr/local/lib/python3.11/dist-packages (from httpcore==1.*->httpx<1,>=0.23.0->classiq) (0.16.0)\n",
            "Requirement already satisfied: jaraco.classes in /usr/local/lib/python3.11/dist-packages (from keyring<24.0.0,>=23.5.0->classiq) (3.4.0)\n",
            "Requirement already satisfied: importlib-metadata>=4.11.4 in /usr/local/lib/python3.11/dist-packages (from keyring<24.0.0,>=23.5.0->classiq) (8.7.0)\n",
            "Requirement already satisfied: SecretStorage>=3.2 in /usr/local/lib/python3.11/dist-packages (from keyring<24.0.0,>=23.5.0->classiq) (3.3.3)\n",
            "Requirement already satisfied: jeepney>=0.4.2 in /usr/local/lib/python3.11/dist-packages (from keyring<24.0.0,>=23.5.0->classiq) (0.9.0)\n",
            "Requirement already satisfied: contourpy>=1.0.1 in /usr/local/lib/python3.11/dist-packages (from matplotlib<4.0.0,>=3.4.3->classiq) (1.3.2)\n",
            "Requirement already satisfied: cycler>=0.10 in /usr/local/lib/python3.11/dist-packages (from matplotlib<4.0.0,>=3.4.3->classiq) (0.12.1)\n",
            "Requirement already satisfied: fonttools>=4.22.0 in /usr/local/lib/python3.11/dist-packages (from matplotlib<4.0.0,>=3.4.3->classiq) (4.58.0)\n",
            "Requirement already satisfied: kiwisolver>=1.3.1 in /usr/local/lib/python3.11/dist-packages (from matplotlib<4.0.0,>=3.4.3->classiq) (1.4.8)\n",
            "Requirement already satisfied: pillow>=8 in /usr/local/lib/python3.11/dist-packages (from matplotlib<4.0.0,>=3.4.3->classiq) (11.2.1)\n",
            "Requirement already satisfied: pyparsing>=2.3.1 in /usr/local/lib/python3.11/dist-packages (from matplotlib<4.0.0,>=3.4.3->classiq) (3.2.3)\n",
            "Requirement already satisfied: python-dateutil>=2.7 in /usr/local/lib/python3.11/dist-packages (from matplotlib<4.0.0,>=3.4.3->classiq) (2.9.0.post0)\n",
            "Requirement already satisfied: pytz>=2020.1 in /usr/local/lib/python3.11/dist-packages (from pandas<3.0.0,>=1.4.0->classiq) (2025.2)\n",
            "Requirement already satisfied: tzdata>=2022.7 in /usr/local/lib/python3.11/dist-packages (from pandas<3.0.0,>=1.4.0->classiq) (2025.2)\n",
            "Requirement already satisfied: tenacity>=6.2.0 in /usr/local/lib/python3.11/dist-packages (from plotly<6.0.0,>=5.7.0->classiq) (9.1.2)\n",
            "Requirement already satisfied: annotated-types>=0.6.0 in /usr/local/lib/python3.11/dist-packages (from pydantic<2.10.0,>=2.9.0->classiq) (0.7.0)\n",
            "Requirement already satisfied: pydantic-core==2.23.4 in /usr/local/lib/python3.11/dist-packages (from pydantic<2.10.0,>=2.9.0->classiq) (2.23.4)\n",
            "Requirement already satisfied: typing-extensions>=4.6.1 in /usr/local/lib/python3.11/dist-packages (from pydantic<2.10.0,>=2.9.0->classiq) (4.13.2)\n",
            "Requirement already satisfied: python-dotenv>=0.21.0 in /usr/local/lib/python3.11/dist-packages (from pydantic-settings<3.0.0,>=2.4.0->classiq) (1.1.0)\n",
            "Requirement already satisfied: typing-inspection>=0.4.0 in /usr/local/lib/python3.11/dist-packages (from pydantic-settings<3.0.0,>=2.4.0->classiq) (0.4.0)\n",
            "Requirement already satisfied: ply in /usr/local/lib/python3.11/dist-packages (from Pyomo<6.6,>=6.5->classiq) (3.11)\n",
            "Requirement already satisfied: mpmath<1.4,>=1.1.0 in /usr/local/lib/python3.11/dist-packages (from sympy<2.0.0,>=1.13.0->classiq) (1.3.0)\n",
            "Requirement already satisfied: zipp>=3.20 in /usr/local/lib/python3.11/dist-packages (from importlib-metadata>=4.11.4->keyring<24.0.0,>=23.5.0->classiq) (3.21.0)\n",
            "Requirement already satisfied: six>=1.5 in /usr/local/lib/python3.11/dist-packages (from python-dateutil>=2.7->matplotlib<4.0.0,>=3.4.3->classiq) (1.17.0)\n",
            "Requirement already satisfied: cryptography>=2.0 in /usr/local/lib/python3.11/dist-packages (from SecretStorage>=3.2->keyring<24.0.0,>=23.5.0->classiq) (43.0.3)\n",
            "Requirement already satisfied: sniffio>=1.1 in /usr/local/lib/python3.11/dist-packages (from anyio->httpx<1,>=0.23.0->classiq) (1.3.1)\n",
            "Requirement already satisfied: more-itertools in /usr/local/lib/python3.11/dist-packages (from jaraco.classes->keyring<24.0.0,>=23.5.0->classiq) (10.7.0)\n",
            "Requirement already satisfied: cffi>=1.12 in /usr/local/lib/python3.11/dist-packages (from cryptography>=2.0->SecretStorage>=3.2->keyring<24.0.0,>=23.5.0->classiq) (1.17.1)\n",
            "Requirement already satisfied: pycparser in /usr/local/lib/python3.11/dist-packages (from cffi>=1.12->cryptography>=2.0->SecretStorage>=3.2->keyring<24.0.0,>=23.5.0->classiq) (2.22)\n"
          ]
        }
      ],
      "source": [
        "pip install -U classiq"
      ]
    },
    {
      "cell_type": "code",
      "execution_count": 4,
      "id": "32deceb1",
      "metadata": {
        "id": "32deceb1"
      },
      "outputs": [],
      "source": [
        "import classiq\n"
      ]
    },
    {
      "cell_type": "markdown",
      "id": "6fbf8eae",
      "metadata": {
        "id": "6fbf8eae"
      },
      "source": [
        "Uncomment and run the following command if your machine has not been\n",
        "\n",
        "authenticated yet, you only need to run it once!"
      ]
    },
    {
      "cell_type": "code",
      "source": [
        "pip install keyrings.alt\n"
      ],
      "metadata": {
        "colab": {
          "base_uri": "https://localhost:8080/"
        },
        "id": "J57G1Ybm-H3L",
        "outputId": "8e410fd4-5200-4cad-e94f-a659f1b98804"
      },
      "id": "J57G1Ybm-H3L",
      "execution_count": 5,
      "outputs": [
        {
          "output_type": "stream",
          "name": "stdout",
          "text": [
            "Collecting keyrings.alt\n",
            "  Downloading keyrings.alt-5.0.2-py3-none-any.whl.metadata (3.6 kB)\n",
            "Requirement already satisfied: jaraco.classes in /usr/local/lib/python3.11/dist-packages (from keyrings.alt) (3.4.0)\n",
            "Requirement already satisfied: jaraco.context in /usr/local/lib/python3.11/dist-packages (from keyrings.alt) (6.0.1)\n",
            "Requirement already satisfied: more-itertools in /usr/local/lib/python3.11/dist-packages (from jaraco.classes->keyrings.alt) (10.7.0)\n",
            "Requirement already satisfied: backports.tarfile in /usr/local/lib/python3.11/dist-packages (from jaraco.context->keyrings.alt) (1.2.0)\n",
            "Downloading keyrings.alt-5.0.2-py3-none-any.whl (17 kB)\n",
            "Installing collected packages: keyrings.alt\n",
            "Successfully installed keyrings.alt-5.0.2\n"
          ]
        }
      ]
    },
    {
      "cell_type": "code",
      "execution_count": 6,
      "id": "39634579",
      "metadata": {
        "colab": {
          "base_uri": "https://localhost:8080/"
        },
        "id": "39634579",
        "outputId": "cb63dc22-f5db-4f08-fcca-84e66f968e63"
      },
      "outputs": [
        {
          "name": "stdout",
          "output_type": "stream",
          "text": [
            "Your user code: FWPW-GRMV\n",
            "If a browser doesn't automatically open, please visit this URL from any trusted device: https://auth.classiq.io/activate?user_code=FWPW-GRMV\n",
            "Please set a password for your new keyring: ··········\n",
            "Please confirm the password: ··········\n"
          ]
        }
      ],
      "source": [
        "#from keyrings.alt.file import PlaintextKeyring\n",
        "\n",
        "# # Use a basic keyring backend that stores credentials insecurely (for environments like Colab or VS Code)\n",
        "#keyring.set_keyring(PlaintextKeyring())\n",
        "\n",
        "# import classiq\n",
        "classiq.authenticate()"
      ]
    },
    {
      "cell_type": "markdown",
      "id": "5305b3c8",
      "metadata": {
        "id": "5305b3c8"
      },
      "source": [
        "Now you are good to go!"
      ]
    },
    {
      "cell_type": "markdown",
      "id": "c77d86a9",
      "metadata": {
        "id": "c77d86a9"
      },
      "source": [
        "# Rydberg Phase Diagram"
      ]
    },
    {
      "cell_type": "markdown",
      "id": "d0929b0c",
      "metadata": {
        "id": "d0929b0c"
      },
      "source": [
        "Before starting to code, let us reiterating some theory on Rydberg atoms - the subject of this challenge. They interact via the following Hamiltonian:\n",
        "\n",
        "$$\n",
        "H = \\frac{\\Omega}{2} \\sum_{i=1}^N X_i\n",
        "    - \\delta \\sum_{i=1}^N n_i\n",
        "    + \\sum_{i \\lt j} \\frac{\\Omega R_b^6 }{(a|i-j|)^6} n_i n_j.\n",
        "$$\n",
        "\n",
        "You can find the phase diagram for a $51$-atom chain below. It is obtained by fixing $a=1$ and $\\Omega=1$ and varying $\\delta$ and $R_b$."
      ]
    },
    {
      "cell_type": "markdown",
      "id": "d294a85c",
      "metadata": {
        "id": "d294a85c"
      },
      "source": [
        "<img src=\"https://github.com/dmitriikhitrin/Classiq-x-DuQIS-FLIQ-Challenge/blob/main/phase_diagram.png?raw=1\" alt=\"Phase Diagram\" width=\"800\">\n"
      ]
    },
    {
      "cell_type": "markdown",
      "id": "7e9a92b5",
      "metadata": {
        "id": "7e9a92b5"
      },
      "source": [
        "Fig.1: Phase diagram of the 1D Rydberg Hamiltonian, traced out by (left) bipartite entanglement entropy and (right) expectation value of the number of Rydberg excitations. Plots are obtained using tensor-network representation of the ground states of $H$."
      ]
    },
    {
      "cell_type": "markdown",
      "id": "0462afa8",
      "metadata": {
        "id": "0462afa8"
      },
      "source": [
        "In this challenge, we focus on distinguishing between the $Z2$ phase, where the ground state of $H$ has large overlap with the state $\\ket{rgr\\ldots gr}$, and the $Z3$ phase, where the ground state overlaps strongly with basis states of the form $\\ket{\\ldots rggrgg\\ldots}$.\n",
        "\n",
        "Evidently, such systems can be efficiently studied using tensor networks. However, this challenge prepares us for a more realistic scenario in which we only have access to measurement outcomes from the ground state of some Hamiltonian, and our goal is to determine which phase of matter the state belongs to."
      ]
    },
    {
      "cell_type": "markdown",
      "id": "cedcc958",
      "metadata": {
        "id": "cedcc958"
      },
      "source": [
        "# Loading and Processing Measurement Data\n",
        "\n",
        "*   List item\n",
        "*   List item\n",
        "\n",
        "\n",
        "\n",
        "Training data for your model contains measurement results in randomized bases performed on a 51-qubit Rydberg atoms chain. We load training data from the .npz file in the next cell."
      ]
    },
    {
      "cell_type": "code",
      "source": [
        "!wget https://github.com/dmitriikhitrin/Classiq-x-DuQIS-FLIQ-Challenge/raw/main/training_data.npz\n"
      ],
      "metadata": {
        "colab": {
          "base_uri": "https://localhost:8080/"
        },
        "id": "r4qoIB6n_U7p",
        "outputId": "e4d8ae30-ad11-44cf-9453-083b82c40bae"
      },
      "id": "r4qoIB6n_U7p",
      "execution_count": 7,
      "outputs": [
        {
          "output_type": "stream",
          "name": "stdout",
          "text": [
            "--2025-05-17 16:30:46--  https://github.com/dmitriikhitrin/Classiq-x-DuQIS-FLIQ-Challenge/raw/main/training_data.npz\n",
            "Resolving github.com (github.com)... 140.82.113.3\n",
            "Connecting to github.com (github.com)|140.82.113.3|:443... connected.\n",
            "HTTP request sent, awaiting response... 302 Found\n",
            "Location: https://raw.githubusercontent.com/dmitriikhitrin/Classiq-x-DuQIS-FLIQ-Challenge/main/training_data.npz [following]\n",
            "--2025-05-17 16:30:47--  https://raw.githubusercontent.com/dmitriikhitrin/Classiq-x-DuQIS-FLIQ-Challenge/main/training_data.npz\n",
            "Resolving raw.githubusercontent.com (raw.githubusercontent.com)... 185.199.108.133, 185.199.109.133, 185.199.110.133, ...\n",
            "Connecting to raw.githubusercontent.com (raw.githubusercontent.com)|185.199.108.133|:443... connected.\n",
            "HTTP request sent, awaiting response... 200 OK\n",
            "Length: 1021888 (998K) [application/octet-stream]\n",
            "Saving to: ‘training_data.npz’\n",
            "\n",
            "training_data.npz   100%[===================>] 997.94K  --.-KB/s    in 0.04s   \n",
            "\n",
            "2025-05-17 16:30:47 (25.0 MB/s) - ‘training_data.npz’ saved [1021888/1021888]\n",
            "\n"
          ]
        }
      ]
    },
    {
      "cell_type": "code",
      "execution_count": 8,
      "id": "33060828",
      "metadata": {
        "id": "33060828"
      },
      "outputs": [],
      "source": [
        "import numpy as np\n",
        "# You might need to make additional imports depending on your implementation"
      ]
    },
    {
      "cell_type": "code",
      "execution_count": 9,
      "id": "4e3917d1",
      "metadata": {
        "colab": {
          "base_uri": "https://localhost:8080/"
        },
        "id": "4e3917d1",
        "outputId": "54f791d6-207b-4556-e1e1-0df83f7e17ea"
      },
      "outputs": [
        {
          "output_type": "stream",
          "name": "stdout",
          "text": [
            "There are 20 data points\n",
            "There were T = 500 measurements performed for each data point\n",
            "The measurements were performed on 51 qubits\n",
            "Example: 2nd experiment result of 8th data point -> ['r', '-', 'i', 'i', 'r', '+', 'r', 'g', '+', '-i', 'r', '-', '-', 'g', '-i', '-', 'r', 'g', 'i', 'i', 'i', '-', 'r', '-i', 'r', 'i', 'r', '+', 'i', 'g', '-', '-i', '-', 'g', '-i', 'i', 'r', '-', '-', '-', 'i', 'i', '-i', 'g', '-i', 'g', 'r', '-', 'r', '+', '-']\n",
            "Example: label for the 8th data point -> Z2\n"
          ]
        }
      ],
      "source": [
        "loaded = np.load(\"training_data.npz\", allow_pickle=True)\n",
        "\n",
        "\n",
        "unprocessed_features = loaded[\"features\"].tolist()\n",
        "unprocessed_labels = loaded[\"labels\"].tolist()\n",
        "\n",
        "print(f'There are {len(unprocessed_features)} data points')\n",
        "print(f'There were T = {len(unprocessed_features[0])} measurements performed for each data point')\n",
        "print(f'The measurements were performed on {len(unprocessed_features[0][0])} qubits')\n",
        "print(f'Example: 2nd experiment result of 8th data point -> {unprocessed_features[7][1]}')\n",
        "print(f'Example: label for the 8th data point -> {unprocessed_labels[7]}')"
      ]
    },
    {
      "cell_type": "markdown",
      "id": "3ba14877",
      "metadata": {
        "id": "3ba14877"
      },
      "source": [
        "In the above,\n",
        "- $\\ket{g}$ is the atomic ground state, which is a $+1$-eigenstate of Pauli $Z$\n",
        "- $\\ket{r}$ is the highly excited Rydberg state, which is a $-1$-eigenstate of Pauli $Z$\n",
        "- $\\ket{+} = \\frac{1}{\\sqrt2}(\\ket{g} + \\ket{r})$, a $+1$-eigenstate of Pauli $X$\n",
        "- $\\ket{-} = \\frac{1}{\\sqrt2}(\\ket{g} - \\ket{r})$, a $-1$-eigenstate of Pauli $X$\n",
        "- $\\ket{+i} = \\frac{1}{\\sqrt2}(\\ket{g} +i\\ket{r})$, a $+1$-eigenstate of Pauli $Y$\n",
        "- $\\ket{-i} = \\frac{1}{\\sqrt2}(\\ket{g} -i \\ket{r})$, a $-1$-eigenstate of Pauli $Y$.\n",
        "\n",
        "It is up to you how to convert the features into classical shadows and labels into numbers and then both into training data for your model. For example, you could assign $-1$ to $Z2$ and $+1$ to $Z3$.\n",
        "\n",
        "**Note:** If you decide to define any helper classes/functions in a separate Python file, please submit it alongside your solution notebook, so we can run and grade it properly"
      ]
    },
    {
      "cell_type": "code",
      "execution_count": 10,
      "id": "deba5d04",
      "metadata": {
        "colab": {
          "base_uri": "https://localhost:8080/"
        },
        "id": "deba5d04",
        "outputId": "d881b08b-e9d9-4052-85d8-15fbeae94af8"
      },
      "outputs": [
        {
          "output_type": "stream",
          "name": "stdout",
          "text": [
            "X_sub.shape: (20, 40)\n",
            "y.shape   : (20,)\n"
          ]
        }
      ],
      "source": [
        "# ─── Cell 1: Data Loading & Classical‐Shadow Preprocessing ───\n",
        "import numpy as np\n",
        "\n",
        "# 1) Load raw measurement data\n",
        "loaded = np.load(\"training_data.npz\", allow_pickle=True)\n",
        "raw_features = loaded[\"features\"].tolist()   # 20 samples × 500 shots × 51 outcomes\n",
        "raw_labels   = loaded[\"labels\"].tolist()     # 20 labels\n",
        "\n",
        "# 2) Build 1‐qubit shadows\n",
        "g     = np.array([1,0],dtype=complex)\n",
        "r     = np.array([0,1],dtype=complex)\n",
        "plus  = (1/np.sqrt(2))*np.array([1,1],dtype=complex)\n",
        "minus = (1/np.sqrt(2))*np.array([1,-1],dtype=complex)\n",
        "p_i   = (1/np.sqrt(2))*np.array([1,1j],dtype=complex)\n",
        "m_i   = (1/np.sqrt(2))*np.array([1,-1j],dtype=complex)\n",
        "basis_states = {'g':g,'r':r,'+':plus,'-':minus,'+i':p_i,'-i':m_i}\n",
        "I2 = np.eye(2, dtype=complex)\n",
        "def sigma_op(v): return 3*np.outer(v,v.conj()) - I2\n",
        "sigma_dict = {k:sigma_op(v) for k,v in basis_states.items()}\n",
        "\n",
        "num_samples = len(raw_features)\n",
        "n_qubits    = len(raw_features[0][0])\n",
        "T           = len(raw_features[0])\n",
        "\n",
        "shadows = np.zeros((num_samples,n_qubits,2,2),dtype=complex)\n",
        "for i,shots in enumerate(raw_features):\n",
        "    acc = np.zeros((n_qubits,2,2),dtype=complex)\n",
        "    for shot in shots:\n",
        "        for q,outcome in enumerate(shot):\n",
        "            o = outcome.strip().replace('−','-')\n",
        "            if o=='i': o = '+i'\n",
        "            acc[q] += sigma_dict[o]\n",
        "    shadows[i] = acc / T\n",
        "\n",
        "# 3) Flatten, split real/imag, and truncate to first 40 angles\n",
        "X_full = shadows.reshape(num_samples, -1)       # shape (20,204)\n",
        "X = np.concatenate([X_full.real, X_full.imag], axis=1)  # shape (20,408)\n",
        "feature_length = 40\n",
        "X_sub = X[:, :feature_length]                   # shape (20,40)\n",
        "num_qubits = feature_length // 2                # 20\n",
        "\n",
        "# 4) Encode labels\n",
        "label_map = {'Z2': -1, 'Z3': +1}\n",
        "y = np.array([label_map[L] for L in raw_labels], dtype=int)\n",
        "\n",
        "print(\"X_sub.shape:\", X_sub.shape)  # (20,40)\n",
        "print(\"y.shape   :\", y.shape)      # (20,)\n"
      ]
    },
    {
      "cell_type": "markdown",
      "id": "8016123e",
      "metadata": {
        "id": "8016123e"
      },
      "source": [
        "# Defining a Quantum Model\n",
        "\n",
        "In this section, you will create a QML model for classifying the quantum phases. This will include 3 stages:\n",
        "- First, you will need to decide on the data encoding scheme, i.e. loading numerical features you obtained above into the quantum circuit.\n",
        "- Then, you will need to come up with an ansatz - a parametrized quantum circuit, which will be optimized to perform classification.\n",
        "- Finally, to readout classical information from the quantum model, you will need to perform some sort of measurement on the resultant quantum state. Perhaps, you could extract an expectation value of some Pauli-string $P \\in \\{I, X, Y, Z\\}^{\\otimes N}$, so that $\\langle P \\rangle < b$ is interpreted as $Z2$ and  $\\langle P \\rangle > b$ is interpreted as $Z3$ for some decision boundary $b$.\n",
        "\n",
        "There are several approaches to QML in Classiq, linked below.\n",
        "\n",
        "You may find the following guides useful:\n",
        "- QML with Classiq: http://docs.classiq.io/latest/user-guide/read/qml_with_classiq_guide/\n",
        "- Variational Model Example: https://github.com/Classiq/classiq-library/blob/main/algorithms/qaoa/maxcut/qaoa_max_cut.ipynb\n",
        "- Hybrid QNN: https://docs.classiq.io/latest/explore/algorithms/qml/hybrid_qnn/hybrid_qnn_for_subset_majority/\n",
        "\n",
        "Although the 2nd guide describes a hybrid model, **you may not implement a hybrid model**, the guide should only be used as a reference as to how to implement QML.\n",
        "\n",
        "**Warning**: Training using the Classiq PyTorch integration may take a prohibitive amount of time. Consider this when choosing an approach."
      ]
    },
    {
      "cell_type": "code",
      "execution_count": 11,
      "id": "6413592b",
      "metadata": {
        "id": "6413592b"
      },
      "outputs": [],
      "source": [
        "from classiq import *\n",
        "from classiq.execution import *\n",
        "import numpy as np\n",
        "from classiq.synthesis import synthesize, show"
      ]
    },
    {
      "cell_type": "code",
      "execution_count": 12,
      "id": "d5a853fa",
      "metadata": {
        "colab": {
          "base_uri": "https://localhost:8080/"
        },
        "id": "d5a853fa",
        "outputId": "ed048ffe-d47f-46dc-96c2-fdf6cde6490c"
      },
      "outputs": [
        {
          "output_type": "stream",
          "name": "stdout",
          "text": [
            "Quantum program link: https://platform.classiq.io/circuit/2xENs3SRYvIUmJ2W1i0jX3uwoPO?login=True&version=0.79.1\n"
          ]
        }
      ],
      "source": [
        "# ─── Cell 2: Circuit Definition & Synthesis ───\n",
        "from classiq import (\n",
        "    qfunc, CArray, CReal, QArray, QBit, Output,\n",
        "    allocate, RX, RY, RZ, CZ,\n",
        "    create_model, Constraints\n",
        ")\n",
        "from classiq.execution import (\n",
        "    ExecutionPreferences,\n",
        "    ClassiqBackendPreferences,\n",
        "    ClassiqSimulatorBackendNames\n",
        ")\n",
        "from classiq.synthesis import synthesize, show\n",
        "\n",
        "# 1) Hyperparameters\n",
        "feature_length = 40\n",
        "num_qubits     = 20\n",
        "n_layers       = 2\n",
        "num_weights    = num_qubits * 2 * n_layers\n",
        "\n",
        "# 2) Encoding qfunc (angle‐encoding)\n",
        "@qfunc\n",
        "def encoding(feature: CArray[CReal, feature_length], wires: QArray) -> None:\n",
        "    for q in range(num_qubits):\n",
        "        θ = feature[2*q]\n",
        "        ϕ = feature[2*q + 1]\n",
        "        RY(theta=θ, target=wires[q])\n",
        "        RZ(theta=ϕ, target=wires[q])\n",
        "\n",
        "# 3) Ansatz qfunc (hardware‐efficient)\n",
        "@qfunc\n",
        "def ansatz(weights: CArray[CReal, num_weights], wires: QArray) -> None:\n",
        "    ptr = 0\n",
        "    for _ in range(n_layers):\n",
        "        for q in range(num_qubits):\n",
        "            RX(theta=weights[ptr],   target=wires[q]); ptr += 1\n",
        "            RY(theta=weights[ptr],   target=wires[q]); ptr += 1\n",
        "        for q in range(num_qubits - 1):\n",
        "            CZ(ctrl=wires[q], target=wires[q+1])\n",
        "\n",
        "# 4) Entry qfunc\n",
        "@qfunc\n",
        "def main(feature: CArray[CReal, feature_length],\n",
        "         weights: CArray[CReal, num_weights],\n",
        "         result:  Output[QArray[QBit]]) -> None:\n",
        "    allocate(num_qubits, result)\n",
        "    encoding(feature, wires=result)\n",
        "    ansatz(weights,   wires=result)\n",
        "\n"
      ]
    },
    {
      "cell_type": "markdown",
      "id": "4c2bcb6f",
      "metadata": {
        "id": "4c2bcb6f"
      },
      "source": [
        "### Synthesis\n",
        "\n",
        "Before training, you must synthesize your model into a quantum program. Placeholders for your parameters will be automatically generated.\n",
        "\n",
        "You may find the following documentation useful: https://docs.classiq.io/latest/sdk-reference/synthesis/"
      ]
    },
    {
      "cell_type": "code",
      "source": [
        "NUM_SHOTS = 1000\n",
        "BACKEND_PREFS = ClassiqBackendPreferences(\n",
        "    backend_name=ClassiqSimulatorBackendNames.SIMULATOR\n",
        ")\n",
        "OPT_PARAM = \"no_opt\"\n",
        "\n",
        "QMOD  = create_model(\n",
        "    main,\n",
        "    execution_preferences=ExecutionPreferences(\n",
        "        num_shots=NUM_SHOTS,\n",
        "        backend_preferences=BACKEND_PREFS\n",
        "    ),\n",
        "    constraints=Constraints(optimization_parameter=OPT_PARAM)\n",
        ")\n",
        "QPROG = synthesize(QMOD)\n",
        "show(QPROG)\n"
      ],
      "metadata": {
        "colab": {
          "base_uri": "https://localhost:8080/"
        },
        "id": "xMTWP5sGCaTj",
        "outputId": "a0482132-18bc-42f7-aa43-cfe1180a0a7f"
      },
      "id": "xMTWP5sGCaTj",
      "execution_count": 60,
      "outputs": [
        {
          "output_type": "stream",
          "name": "stdout",
          "text": [
            "Quantum program link: https://platform.classiq.io/circuit/2xELRD1kTCfLhhVgXfOSV8daFgm?login=True&version=0.79.1\n"
          ]
        }
      ]
    },
    {
      "cell_type": "markdown",
      "id": "a03b040c",
      "metadata": {
        "id": "a03b040c"
      },
      "source": [
        "# Training the Model\n",
        "\n",
        "Here, you will optimize the weights in ansatz, so that the model can distiguish between the phases.\n",
        "\n",
        "You can find the following Classiq tutorial and documentation useful:\n",
        "- Execution: https://docs.classiq.io/latest/sdk-reference/execution/\n",
        "- Execution Session: https://docs.classiq.io/latest/user-guide/execution/ExecutionSession/\n",
        "- Executing With Parameters: https://docs.classiq.io/latest/qmod-reference/language-reference/quantum-entry-point/\n",
        "\n",
        "It is highly recommended to use an ExecutionSession if you are executing the same circuit with different parameters many times. It is not needed to train parameters using the Classiq PyTorch integration.\n",
        "\n",
        "If you are not using the PyTorch integration, you will need an objective (also known as a 'loss', or 'cost') function. Depending on your implementation, you will need to either minimize or maximize it in training."
      ]
    },
    {
      "cell_type": "code",
      "source": [
        "# ─── Cell 3: SPSA Training Loop ───\n",
        "import numpy as np\n",
        "import matplotlib.pyplot as plt\n",
        "from classiq.execution import ExecutionSession, ExecutionPreferences\n",
        "\n",
        "# 1) Build sessions\n",
        "def build_session(shots:int, fast:bool) -> ExecutionSession:\n",
        "    prefs = ExecutionPreferences(\n",
        "        num_shots=shots,\n",
        "        backend_preferences=BACKEND_PREFS,\n",
        "        fast=fast\n",
        "    )\n",
        "    return ExecutionSession(quantum_program=QPROG,\n",
        "                            execution_preferences=prefs)\n",
        "\n",
        "sess32  = build_session(32,  fast=True)\n",
        "sess128 = build_session(128, fast=False)\n",
        "\n",
        "# 2) Binder & full‐qubit Z‐avg\n",
        "def _bind(prefix, arr):\n",
        "    return {f\"{prefix}_param_{i}\": float(v) for i,v in enumerate(arr)}\n",
        "\n",
        "def _avg_z_all(counts):\n",
        "    total = sum(counts.values())\n",
        "    zs = sum(\n",
        "        c * sum((+1 if b=='0' else -1) for b in bits)\n",
        "        for bits,c in counts.items()\n",
        "    )\n",
        "    return zs / (total * num_qubits)\n",
        "\n",
        "# 3) Batched forward\n",
        "def batch_forward(sess, thetas, Xb):\n",
        "    plist  = [\n",
        "        {**_bind(\"weights\", th), **_bind(\"feature\", x)}\n",
        "        for th,x in zip(thetas, Xb)\n",
        "    ]\n",
        "    results = sess.batch_sample(parameters=plist)\n",
        "    counts  = [\n",
        "        r.counts if isinstance(r.counts, dict) else r.counts[0]\n",
        "        for r in results\n",
        "    ]\n",
        "    return np.array([_avg_z_all(c) for c in counts])\n",
        "\n",
        "# 4) Loss & accuracy\n",
        "num_weights = num_qubits * 2 * n_layers\n",
        "num_samples = X_sub.shape[0]\n",
        "\n",
        "def hinge_loss(sess, w):\n",
        "    logits = batch_forward(sess, np.tile(w,(num_samples,1)), X_sub)\n",
        "    return np.mean(np.maximum(0,1 - y*logits))\n",
        "\n",
        "def accuracy(sess, w):\n",
        "    logits = batch_forward(sess, np.tile(w,(num_samples,1)), X_sub)\n",
        "    return np.mean(np.sign(logits)==y)\n",
        "\n",
        "# 5) SPSA hyperparams & init\n",
        "alpha, c0, A, gamma = 0.15, 0.03, 10.0, 0.101\n",
        "MAX_IT = 100\n",
        "theta  = 0.01 * np.random.randn(num_weights)\n",
        "\n",
        "loss_hist, acc_hist = [], []\n",
        "\n",
        "# 6) SPSA loop\n",
        "for k in range(MAX_IT):\n",
        "    sess = sess32 if k<40 else sess128\n",
        "    ck   = c0 / (k+1)**gamma\n",
        "    ak   = alpha / (k+1+A)**0.602\n",
        "    delta = np.random.choice([+1,-1], num_weights)\n",
        "\n",
        "    lp = hinge_loss(sess, theta + ck*delta)\n",
        "    lm = hinge_loss(sess, theta - ck*delta)\n",
        "    grad = (lp - lm) / (2*ck*delta)\n",
        "    theta -= ak * grad\n",
        "\n",
        "    if k%10==0 or k==MAX_IT-1:\n",
        "        L   = hinge_loss(sess,theta)\n",
        "        Acc = accuracy(sess,theta)\n",
        "        loss_hist.append(L); acc_hist.append(Acc)\n",
        "        phase = \"32-shot\" if k<40 else \"128-shot\"\n",
        "        print(f\"iter {k:3d} | {phase:<8} | loss={L:.4f} | acc={Acc:.2%}\")\n",
        "\n",
        "# 7) Cleanup & plots\n",
        "sess32.close(); sess128.close()\n",
        "\n",
        "plt.figure(figsize=(5,2.5))\n",
        "plt.plot(loss_hist,'-o'); plt.title(\"Hinge Loss\"); plt.xlabel(\"Checkpoint\")\n",
        "plt.figure(figsize=(5,2.5))\n",
        "plt.plot(acc_hist,'-o'); plt.title(\"Accuracy\");   plt.xlabel(\"Checkpoint\")\n",
        "plt.tight_layout(); plt.show()\n",
        "\n",
        "# 8) Final circuit\n",
        "show(QPROG)\n"
      ],
      "metadata": {
        "colab": {
          "base_uri": "https://localhost:8080/"
        },
        "id": "72vp6wcuvcUh",
        "outputId": "f0094850-61c2-4c6a-8a63-9348305fbc76"
      },
      "id": "72vp6wcuvcUh",
      "execution_count": null,
      "outputs": [
        {
          "output_type": "stream",
          "name": "stdout",
          "text": [
            "iter   0 | 32-shot  | loss=1.0109 | acc=50.00%\n",
            "iter  10 | 32-shot  | loss=1.0065 | acc=50.00%\n",
            "iter  20 | 32-shot  | loss=1.0064 | acc=50.00%\n",
            "iter  30 | 32-shot  | loss=1.0063 | acc=50.00%\n",
            "iter  40 | 128-shot | loss=1.0087 | acc=50.00%\n",
            "iter  50 | 128-shot | loss=1.0055 | acc=50.00%\n"
          ]
        }
      ]
    },
    {
      "cell_type": "markdown",
      "id": "198d25e0",
      "metadata": {
        "id": "198d25e0"
      },
      "source": [
        "Training that takes too long may make it impossible to grade your submission."
      ]
    },
    {
      "cell_type": "markdown",
      "id": "b75f5aed",
      "metadata": {
        "id": "b75f5aed"
      },
      "source": [
        "# Testing the Model\n",
        "\n",
        "Good job! Now it's time to see whether the model you designed can successfully perform the classification. For this, compare the predictions of your model to the actual labels.\n",
        "\n",
        "If the model does not perform well, try modifying the encoding and/or the ansatz (by using different number of parameters/qubits/ansatz layers/...)"
      ]
    },
    {
      "cell_type": "code",
      "execution_count": null,
      "id": "c28e2e16",
      "metadata": {
        "id": "c28e2e16"
      },
      "outputs": [],
      "source": [
        "### Your Code Goes Here: ###"
      ]
    },
    {
      "cell_type": "markdown",
      "id": "c7ea5280",
      "metadata": {
        "id": "c7ea5280"
      },
      "source": [
        "## Grading\n",
        "\n",
        "You will be evaluated on the accuracy, depth, width of your model and the number of parameters in your model."
      ]
    },
    {
      "cell_type": "markdown",
      "id": "130eb0ba",
      "metadata": {
        "id": "130eb0ba"
      },
      "source": [
        "The following function will return the width and depth of your model as they will be used in grading. Use it to self-evaluate your model."
      ]
    },
    {
      "cell_type": "code",
      "execution_count": 67,
      "id": "09a80a52",
      "metadata": {
        "id": "09a80a52"
      },
      "outputs": [],
      "source": [
        "from classiq import QuantumProgram\n",
        "\n",
        "def get_metrics(qprog):\n",
        "    \"\"\"\n",
        "    Extract circuit metrics from a quantum program.\n",
        "\n",
        "    Parameters:\n",
        "        qprog: The quantum program object.\n",
        "\n",
        "    Returns:\n",
        "        dict: A dictionary containing the circuit metrics:\n",
        "              - \"depth\": Circuit depth\n",
        "              - \"width\": Circuit width\n",
        "    \"\"\"\n",
        "    circuit = QuantumProgram.from_qprog(qprog)\n",
        "\n",
        "    metrics = {\n",
        "        \"depth\": circuit.transpiled_circuit.depth,\n",
        "        \"width\": circuit.data.width,\n",
        "    }\n",
        "\n",
        "    return metrics"
      ]
    },
    {
      "cell_type": "code",
      "execution_count": 68,
      "id": "4e928cf0",
      "metadata": {
        "colab": {
          "base_uri": "https://localhost:8080/"
        },
        "id": "4e928cf0",
        "outputId": "6ed825a5-8384-4488-d1fe-bf486487b19e"
      },
      "outputs": [
        {
          "output_type": "stream",
          "name": "stdout",
          "text": [
            "{'depth': 27, 'width': 20}\n"
          ]
        }
      ],
      "source": [
        "print(get_metrics(QPROG))"
      ]
    },
    {
      "cell_type": "markdown",
      "id": "cd17c6a4",
      "metadata": {
        "id": "cd17c6a4"
      },
      "source": [
        "# Submission\n",
        "\n",
        "You will submit this notebook, your trained parameters, and your quantum model."
      ]
    },
    {
      "cell_type": "code",
      "execution_count": null,
      "id": "3262a32f",
      "metadata": {
        "id": "3262a32f"
      },
      "outputs": [],
      "source": [
        "# Do not change this cell\n",
        "\n",
        "import os\n",
        "\n",
        "def save_qprog(qprog, team_name: str, folder=\".\"):\n",
        "    assert isinstance(team_name, str)\n",
        "    file_name = f\"{team_name.replace(' ','_')}.qprog\"\n",
        "    with open(os.path.join(folder, file_name), 'w') as f:\n",
        "        f.write(qprog.model_dump_json(indent=4))\n",
        "\n",
        "def save_params(params, team_name: str, folder=\".\"):\n",
        "    assert isinstance(team_name, str)\n",
        "    file_name = f\"{team_name.replace(' ','_')}.npz\"\n",
        "    with open(os.path.join(folder, file_name), 'wb') as f:\n",
        "        np.savez(f, params=params)"
      ]
    },
    {
      "cell_type": "code",
      "execution_count": null,
      "id": "42cbc05d",
      "metadata": {
        "id": "42cbc05d"
      },
      "outputs": [],
      "source": [
        "# Change to your team name!!\n",
        "TEAM_NAME = \"\"\n",
        "\n",
        "# Insert your trained parameters here!\n",
        "TRAINED_PARAMS = []\n",
        "\n",
        "save_qprog(QPROG, team_name=TEAM_NAME)\n",
        "save_params(params=TRAINED_PARAMS, team_name=TEAM_NAME)"
      ]
    }
  ],
  "metadata": {
    "kernelspec": {
      "display_name": "Python 3",
      "name": "python3"
    },
    "language_info": {
      "codemirror_mode": {
        "name": "ipython",
        "version": 3
      },
      "file_extension": ".py",
      "mimetype": "text/x-python",
      "name": "python",
      "nbconvert_exporter": "python",
      "pygments_lexer": "ipython3",
      "version": "3.12.10"
    },
    "colab": {
      "provenance": [],
      "gpuType": "T4"
    },
    "accelerator": "GPU"
  },
  "nbformat": 4,
  "nbformat_minor": 5
}