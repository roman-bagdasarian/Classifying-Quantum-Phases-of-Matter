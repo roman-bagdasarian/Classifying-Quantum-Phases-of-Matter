{
  "cells": [
    {
      "cell_type": "markdown",
      "metadata": {
        "id": "view-in-github",
        "colab_type": "text"
      },
      "source": [
        "<a href=\"https://colab.research.google.com/github/roman-bagdasarian/Classifying-Quantum-Phases-of-Matter/blob/main/FLIQ_Challenge_ClassiqDuQIS_4qub.ipynb\" target=\"_parent\"><img src=\"https://colab.research.google.com/assets/colab-badge.svg\" alt=\"Open In Colab\"/></a>"
      ]
    },
    {
      "cell_type": "markdown",
      "id": "ac6de42c",
      "metadata": {
        "id": "ac6de42c"
      },
      "source": [
        "# Make Sure You Are Ready to Go\n",
        "\n",
        "$\\renewcommand{\\ket}[1]{\\left| #1 \\right\\rangle}\n",
        "\\renewcommand{\\bra}[1]{\\left\\langle #1 \\right|}\n",
        "\\renewcommand{\\braket}[2]{\\left\\langle #1 | #2 \\right\\rangle}\n",
        "\\newcommand{\\ketbra}[2]{\\left| #1 \\right\\rangle\\!\\left\\langle #2 \\right|}$\n",
        "\n",
        "If you haven't done it yet, try running the following lines of code and use the [registration and installation](https://docs.classiq.io/latest/classiq_101/registration_installations/) page if you are having difficulty setting up your environment.\\\n",
        "Uncomment and run the following command to install or update to the latest version of the Classiq SDK (if not installed yet):"
      ]
    },
    {
      "cell_type": "code",
      "execution_count": 1,
      "id": "85f503ae",
      "metadata": {
        "colab": {
          "base_uri": "https://localhost:8080/"
        },
        "collapsed": true,
        "id": "85f503ae",
        "outputId": "0e9560ef-b0a3-443a-d39e-6c334a359780"
      },
      "outputs": [
        {
          "output_type": "stream",
          "name": "stdout",
          "text": [
            "Requirement already satisfied: classiq in /usr/local/lib/python3.11/dist-packages (0.79.1)\n",
            "Requirement already satisfied: ConfigArgParse<2.0.0,>=1.5.3 in /usr/local/lib/python3.11/dist-packages (from classiq) (1.7)\n",
            "Requirement already satisfied: Pyomo<6.6,>=6.5 in /usr/local/lib/python3.11/dist-packages (from classiq) (6.5.0)\n",
            "Requirement already satisfied: black<25.0,>=24.0 in /usr/local/lib/python3.11/dist-packages (from classiq) (24.10.0)\n",
            "Requirement already satisfied: httpx<1,>=0.23.0 in /usr/local/lib/python3.11/dist-packages (from classiq) (0.28.1)\n",
            "Requirement already satisfied: keyring<24.0.0,>=23.5.0 in /usr/local/lib/python3.11/dist-packages (from classiq) (23.13.1)\n",
            "Requirement already satisfied: matplotlib<4.0.0,>=3.4.3 in /usr/local/lib/python3.11/dist-packages (from classiq) (3.10.0)\n",
            "Requirement already satisfied: networkx<3.0.0,>=2.5.1 in /usr/local/lib/python3.11/dist-packages (from classiq) (2.8.8)\n",
            "Requirement already satisfied: numexpr<3.0.0,>=2.7.3 in /usr/local/lib/python3.11/dist-packages (from classiq) (2.10.2)\n",
            "Requirement already satisfied: numpy<2.0.0,>=1.20.1 in /usr/local/lib/python3.11/dist-packages (from classiq) (1.26.4)\n",
            "Requirement already satisfied: packaging<24.0,>=23.2 in /usr/local/lib/python3.11/dist-packages (from classiq) (23.2)\n",
            "Requirement already satisfied: pandas<3.0.0,>=1.4.0 in /usr/local/lib/python3.11/dist-packages (from classiq) (2.2.2)\n",
            "Requirement already satisfied: plotly<6.0.0,>=5.7.0 in /usr/local/lib/python3.11/dist-packages (from classiq) (5.24.1)\n",
            "Requirement already satisfied: pydantic<2.10.0,>=2.9.0 in /usr/local/lib/python3.11/dist-packages (from classiq) (2.9.2)\n",
            "Requirement already satisfied: pydantic-settings<3.0.0,>=2.4.0 in /usr/local/lib/python3.11/dist-packages (from classiq) (2.9.1)\n",
            "Requirement already satisfied: scipy<2.0.0,>=1.10.0 in /usr/local/lib/python3.11/dist-packages (from classiq) (1.15.3)\n",
            "Requirement already satisfied: sympy<2.0.0,>=1.13.0 in /usr/local/lib/python3.11/dist-packages (from classiq) (1.13.1)\n",
            "Requirement already satisfied: tabulate<1,>=0.8.9 in /usr/local/lib/python3.11/dist-packages (from classiq) (0.9.0)\n",
            "Requirement already satisfied: tqdm<5.0.0,>=4.67.1 in /usr/local/lib/python3.11/dist-packages (from classiq) (4.67.1)\n",
            "Requirement already satisfied: zstandard<0.24.0,>=0.23.0 in /usr/local/lib/python3.11/dist-packages (from classiq) (0.23.0)\n",
            "Requirement already satisfied: click>=8.0.0 in /usr/local/lib/python3.11/dist-packages (from black<25.0,>=24.0->classiq) (8.2.0)\n",
            "Requirement already satisfied: mypy-extensions>=0.4.3 in /usr/local/lib/python3.11/dist-packages (from black<25.0,>=24.0->classiq) (1.1.0)\n",
            "Requirement already satisfied: pathspec>=0.9.0 in /usr/local/lib/python3.11/dist-packages (from black<25.0,>=24.0->classiq) (0.12.1)\n",
            "Requirement already satisfied: platformdirs>=2 in /usr/local/lib/python3.11/dist-packages (from black<25.0,>=24.0->classiq) (4.3.8)\n",
            "Requirement already satisfied: anyio in /usr/local/lib/python3.11/dist-packages (from httpx<1,>=0.23.0->classiq) (4.9.0)\n",
            "Requirement already satisfied: certifi in /usr/local/lib/python3.11/dist-packages (from httpx<1,>=0.23.0->classiq) (2025.4.26)\n",
            "Requirement already satisfied: httpcore==1.* in /usr/local/lib/python3.11/dist-packages (from httpx<1,>=0.23.0->classiq) (1.0.9)\n",
            "Requirement already satisfied: idna in /usr/local/lib/python3.11/dist-packages (from httpx<1,>=0.23.0->classiq) (3.10)\n",
            "Requirement already satisfied: h11>=0.16 in /usr/local/lib/python3.11/dist-packages (from httpcore==1.*->httpx<1,>=0.23.0->classiq) (0.16.0)\n",
            "Requirement already satisfied: jaraco.classes in /usr/local/lib/python3.11/dist-packages (from keyring<24.0.0,>=23.5.0->classiq) (3.4.0)\n",
            "Requirement already satisfied: importlib-metadata>=4.11.4 in /usr/local/lib/python3.11/dist-packages (from keyring<24.0.0,>=23.5.0->classiq) (8.7.0)\n",
            "Requirement already satisfied: SecretStorage>=3.2 in /usr/local/lib/python3.11/dist-packages (from keyring<24.0.0,>=23.5.0->classiq) (3.3.3)\n",
            "Requirement already satisfied: jeepney>=0.4.2 in /usr/local/lib/python3.11/dist-packages (from keyring<24.0.0,>=23.5.0->classiq) (0.9.0)\n",
            "Requirement already satisfied: contourpy>=1.0.1 in /usr/local/lib/python3.11/dist-packages (from matplotlib<4.0.0,>=3.4.3->classiq) (1.3.2)\n",
            "Requirement already satisfied: cycler>=0.10 in /usr/local/lib/python3.11/dist-packages (from matplotlib<4.0.0,>=3.4.3->classiq) (0.12.1)\n",
            "Requirement already satisfied: fonttools>=4.22.0 in /usr/local/lib/python3.11/dist-packages (from matplotlib<4.0.0,>=3.4.3->classiq) (4.58.0)\n",
            "Requirement already satisfied: kiwisolver>=1.3.1 in /usr/local/lib/python3.11/dist-packages (from matplotlib<4.0.0,>=3.4.3->classiq) (1.4.8)\n",
            "Requirement already satisfied: pillow>=8 in /usr/local/lib/python3.11/dist-packages (from matplotlib<4.0.0,>=3.4.3->classiq) (11.2.1)\n",
            "Requirement already satisfied: pyparsing>=2.3.1 in /usr/local/lib/python3.11/dist-packages (from matplotlib<4.0.0,>=3.4.3->classiq) (3.2.3)\n",
            "Requirement already satisfied: python-dateutil>=2.7 in /usr/local/lib/python3.11/dist-packages (from matplotlib<4.0.0,>=3.4.3->classiq) (2.9.0.post0)\n",
            "Requirement already satisfied: pytz>=2020.1 in /usr/local/lib/python3.11/dist-packages (from pandas<3.0.0,>=1.4.0->classiq) (2025.2)\n",
            "Requirement already satisfied: tzdata>=2022.7 in /usr/local/lib/python3.11/dist-packages (from pandas<3.0.0,>=1.4.0->classiq) (2025.2)\n",
            "Requirement already satisfied: tenacity>=6.2.0 in /usr/local/lib/python3.11/dist-packages (from plotly<6.0.0,>=5.7.0->classiq) (9.1.2)\n",
            "Requirement already satisfied: annotated-types>=0.6.0 in /usr/local/lib/python3.11/dist-packages (from pydantic<2.10.0,>=2.9.0->classiq) (0.7.0)\n",
            "Requirement already satisfied: pydantic-core==2.23.4 in /usr/local/lib/python3.11/dist-packages (from pydantic<2.10.0,>=2.9.0->classiq) (2.23.4)\n",
            "Requirement already satisfied: typing-extensions>=4.6.1 in /usr/local/lib/python3.11/dist-packages (from pydantic<2.10.0,>=2.9.0->classiq) (4.13.2)\n",
            "Requirement already satisfied: python-dotenv>=0.21.0 in /usr/local/lib/python3.11/dist-packages (from pydantic-settings<3.0.0,>=2.4.0->classiq) (1.1.0)\n",
            "Requirement already satisfied: typing-inspection>=0.4.0 in /usr/local/lib/python3.11/dist-packages (from pydantic-settings<3.0.0,>=2.4.0->classiq) (0.4.0)\n",
            "Requirement already satisfied: ply in /usr/local/lib/python3.11/dist-packages (from Pyomo<6.6,>=6.5->classiq) (3.11)\n",
            "Requirement already satisfied: mpmath<1.4,>=1.1.0 in /usr/local/lib/python3.11/dist-packages (from sympy<2.0.0,>=1.13.0->classiq) (1.3.0)\n",
            "Requirement already satisfied: zipp>=3.20 in /usr/local/lib/python3.11/dist-packages (from importlib-metadata>=4.11.4->keyring<24.0.0,>=23.5.0->classiq) (3.21.0)\n",
            "Requirement already satisfied: six>=1.5 in /usr/local/lib/python3.11/dist-packages (from python-dateutil>=2.7->matplotlib<4.0.0,>=3.4.3->classiq) (1.17.0)\n",
            "Requirement already satisfied: cryptography>=2.0 in /usr/local/lib/python3.11/dist-packages (from SecretStorage>=3.2->keyring<24.0.0,>=23.5.0->classiq) (43.0.3)\n",
            "Requirement already satisfied: sniffio>=1.1 in /usr/local/lib/python3.11/dist-packages (from anyio->httpx<1,>=0.23.0->classiq) (1.3.1)\n",
            "Requirement already satisfied: more-itertools in /usr/local/lib/python3.11/dist-packages (from jaraco.classes->keyring<24.0.0,>=23.5.0->classiq) (10.7.0)\n",
            "Requirement already satisfied: cffi>=1.12 in /usr/local/lib/python3.11/dist-packages (from cryptography>=2.0->SecretStorage>=3.2->keyring<24.0.0,>=23.5.0->classiq) (1.17.1)\n",
            "Requirement already satisfied: pycparser in /usr/local/lib/python3.11/dist-packages (from cffi>=1.12->cryptography>=2.0->SecretStorage>=3.2->keyring<24.0.0,>=23.5.0->classiq) (2.22)\n"
          ]
        }
      ],
      "source": [
        "pip install -U classiq"
      ]
    },
    {
      "cell_type": "code",
      "execution_count": 2,
      "id": "32deceb1",
      "metadata": {
        "id": "32deceb1"
      },
      "outputs": [],
      "source": [
        "import classiq"
      ]
    },
    {
      "cell_type": "markdown",
      "id": "6fbf8eae",
      "metadata": {
        "id": "6fbf8eae"
      },
      "source": [
        "Uncomment and run the following command if your machine has not been\n",
        "\n",
        "authenticated yet, you only need to run it once!"
      ]
    },
    {
      "cell_type": "code",
      "source": [
        "pip install keyrings.alt"
      ],
      "metadata": {
        "colab": {
          "base_uri": "https://localhost:8080/"
        },
        "id": "J57G1Ybm-H3L",
        "outputId": "b968f2d4-2427-4959-d19d-5fa73026f5b3"
      },
      "id": "J57G1Ybm-H3L",
      "execution_count": 3,
      "outputs": [
        {
          "output_type": "stream",
          "name": "stdout",
          "text": [
            "Requirement already satisfied: keyrings.alt in /usr/local/lib/python3.11/dist-packages (5.0.2)\n",
            "Requirement already satisfied: jaraco.classes in /usr/local/lib/python3.11/dist-packages (from keyrings.alt) (3.4.0)\n",
            "Requirement already satisfied: jaraco.context in /usr/local/lib/python3.11/dist-packages (from keyrings.alt) (6.0.1)\n",
            "Requirement already satisfied: more-itertools in /usr/local/lib/python3.11/dist-packages (from jaraco.classes->keyrings.alt) (10.7.0)\n",
            "Requirement already satisfied: backports.tarfile in /usr/local/lib/python3.11/dist-packages (from jaraco.context->keyrings.alt) (1.2.0)\n"
          ]
        }
      ]
    },
    {
      "cell_type": "code",
      "execution_count": 4,
      "id": "39634579",
      "metadata": {
        "id": "39634579"
      },
      "outputs": [],
      "source": [
        "#from keyrings.alt.file import PlaintextKeyring\n",
        "\n",
        "# # Use a basic keyring backend that stores credentials insecurely (for environments like Colab or VS Code)\n",
        "#keyring.set_keyring(PlaintextKeyring())\n",
        "\n",
        "# import classiq\n",
        "#classiq.authenticate()"
      ]
    },
    {
      "cell_type": "markdown",
      "id": "5305b3c8",
      "metadata": {
        "id": "5305b3c8"
      },
      "source": [
        "Now you are good to go!"
      ]
    },
    {
      "cell_type": "markdown",
      "id": "c77d86a9",
      "metadata": {
        "id": "c77d86a9"
      },
      "source": [
        "# Rydberg Phase Diagram"
      ]
    },
    {
      "cell_type": "markdown",
      "id": "d0929b0c",
      "metadata": {
        "id": "d0929b0c"
      },
      "source": [
        "Before starting to code, let us reiterating some theory on Rydberg atoms - the subject of this challenge. They interact via the following Hamiltonian:\n",
        "\n",
        "$$\n",
        "H = \\frac{\\Omega}{2} \\sum_{i=1}^N X_i\n",
        "    - \\delta \\sum_{i=1}^N n_i\n",
        "    + \\sum_{i \\lt j} \\frac{\\Omega R_b^6 }{(a|i-j|)^6} n_i n_j.\n",
        "$$\n",
        "\n",
        "You can find the phase diagram for a $51$-atom chain below. It is obtained by fixing $a=1$ and $\\Omega=1$ and varying $\\delta$ and $R_b$."
      ]
    },
    {
      "cell_type": "markdown",
      "id": "d294a85c",
      "metadata": {
        "id": "d294a85c"
      },
      "source": [
        "<img src=\"https://github.com/dmitriikhitrin/Classiq-x-DuQIS-FLIQ-Challenge/blob/main/phase_diagram.png?raw=1\" alt=\"Phase Diagram\" width=\"800\">\n"
      ]
    },
    {
      "cell_type": "markdown",
      "id": "7e9a92b5",
      "metadata": {
        "id": "7e9a92b5"
      },
      "source": [
        "Fig.1: Phase diagram of the 1D Rydberg Hamiltonian, traced out by (left) bipartite entanglement entropy and (right) expectation value of the number of Rydberg excitations. Plots are obtained using tensor-network representation of the ground states of $H$."
      ]
    },
    {
      "cell_type": "markdown",
      "id": "0462afa8",
      "metadata": {
        "id": "0462afa8"
      },
      "source": [
        "In this challenge, we focus on distinguishing between the $Z2$ phase, where the ground state of $H$ has large overlap with the state $\\ket{rgr\\ldots gr}$, and the $Z3$ phase, where the ground state overlaps strongly with basis states of the form $\\ket{\\ldots rggrgg\\ldots}$.\n",
        "\n",
        "Evidently, such systems can be efficiently studied using tensor networks. However, this challenge prepares us for a more realistic scenario in which we only have access to measurement outcomes from the ground state of some Hamiltonian, and our goal is to determine which phase of matter the state belongs to."
      ]
    },
    {
      "cell_type": "markdown",
      "id": "cedcc958",
      "metadata": {
        "id": "cedcc958"
      },
      "source": [
        "# Loading and Processing Measurement Data\n",
        "\n",
        "*   List item\n",
        "*   List item\n",
        "\n",
        "\n",
        "\n",
        "Training data for your model contains measurement results in randomized bases performed on a 51-qubit Rydberg atoms chain. We load training data from the .npz file in the next cell."
      ]
    },
    {
      "cell_type": "code",
      "source": [
        "!wget https://github.com/dmitriikhitrin/Classiq-x-DuQIS-FLIQ-Challenge/raw/main/training_data.npz\n"
      ],
      "metadata": {
        "colab": {
          "base_uri": "https://localhost:8080/"
        },
        "id": "r4qoIB6n_U7p",
        "outputId": "0d9794c4-d5fb-4a66-ca85-ed5dd5d051e7"
      },
      "id": "r4qoIB6n_U7p",
      "execution_count": 5,
      "outputs": [
        {
          "output_type": "stream",
          "name": "stdout",
          "text": [
            "--2025-05-18 04:31:13--  https://github.com/dmitriikhitrin/Classiq-x-DuQIS-FLIQ-Challenge/raw/main/training_data.npz\n",
            "Resolving github.com (github.com)... 140.82.113.4\n",
            "Connecting to github.com (github.com)|140.82.113.4|:443... connected.\n",
            "HTTP request sent, awaiting response... 302 Found\n",
            "Location: https://raw.githubusercontent.com/dmitriikhitrin/Classiq-x-DuQIS-FLIQ-Challenge/main/training_data.npz [following]\n",
            "--2025-05-18 04:31:13--  https://raw.githubusercontent.com/dmitriikhitrin/Classiq-x-DuQIS-FLIQ-Challenge/main/training_data.npz\n",
            "Resolving raw.githubusercontent.com (raw.githubusercontent.com)... 185.199.108.133, 185.199.109.133, 185.199.110.133, ...\n",
            "Connecting to raw.githubusercontent.com (raw.githubusercontent.com)|185.199.108.133|:443... connected.\n",
            "HTTP request sent, awaiting response... 200 OK\n",
            "Length: 1021888 (998K) [application/octet-stream]\n",
            "Saving to: ‘training_data.npz.1’\n",
            "\n",
            "training_data.npz.1 100%[===================>] 997.94K  --.-KB/s    in 0.06s   \n",
            "\n",
            "2025-05-18 04:31:13 (15.4 MB/s) - ‘training_data.npz.1’ saved [1021888/1021888]\n",
            "\n"
          ]
        }
      ]
    },
    {
      "cell_type": "code",
      "execution_count": 6,
      "id": "33060828",
      "metadata": {
        "id": "33060828"
      },
      "outputs": [],
      "source": [
        "import numpy as np\n",
        "# You might need to make additional imports depending on your implementation"
      ]
    },
    {
      "cell_type": "code",
      "execution_count": 7,
      "id": "4e3917d1",
      "metadata": {
        "colab": {
          "base_uri": "https://localhost:8080/"
        },
        "id": "4e3917d1",
        "outputId": "19a2902c-d1cd-40f2-fb38-7d9ecdfa3083"
      },
      "outputs": [
        {
          "output_type": "stream",
          "name": "stdout",
          "text": [
            "There are 20 data points\n",
            "There were T = 500 measurements performed for each data point\n",
            "The measurements were performed on 51 qubits\n",
            "Example: 2nd experiment result of 8th data point -> ['r', '-', 'i', 'i', 'r', '+', 'r', 'g', '+', '-i', 'r', '-', '-', 'g', '-i', '-', 'r', 'g', 'i', 'i', 'i', '-', 'r', '-i', 'r', 'i', 'r', '+', 'i', 'g', '-', '-i', '-', 'g', '-i', 'i', 'r', '-', '-', '-', 'i', 'i', '-i', 'g', '-i', 'g', 'r', '-', 'r', '+', '-']\n",
            "Example: label for the 8th data point -> Z2\n"
          ]
        }
      ],
      "source": [
        "loaded = np.load(\"training_data.npz\", allow_pickle=True)\n",
        "\n",
        "\n",
        "unprocessed_features = loaded[\"features\"].tolist()\n",
        "unprocessed_labels = loaded[\"labels\"].tolist()\n",
        "\n",
        "print(f'There are {len(unprocessed_features)} data points')\n",
        "print(f'There were T = {len(unprocessed_features[0])} measurements performed for each data point')\n",
        "print(f'The measurements were performed on {len(unprocessed_features[0][0])} qubits')\n",
        "print(f'Example: 2nd experiment result of 8th data point -> {unprocessed_features[7][1]}')\n",
        "print(f'Example: label for the 8th data point -> {unprocessed_labels[7]}')"
      ]
    },
    {
      "cell_type": "markdown",
      "id": "3ba14877",
      "metadata": {
        "id": "3ba14877"
      },
      "source": [
        "In the above,\n",
        "- $\\ket{g}$ is the atomic ground state, which is a $+1$-eigenstate of Pauli $Z$\n",
        "- $\\ket{r}$ is the highly excited Rydberg state, which is a $-1$-eigenstate of Pauli $Z$\n",
        "- $\\ket{+} = \\frac{1}{\\sqrt2}(\\ket{g} + \\ket{r})$, a $+1$-eigenstate of Pauli $X$\n",
        "- $\\ket{-} = \\frac{1}{\\sqrt2}(\\ket{g} - \\ket{r})$, a $-1$-eigenstate of Pauli $X$\n",
        "- $\\ket{+i} = \\frac{1}{\\sqrt2}(\\ket{g} +i\\ket{r})$, a $+1$-eigenstate of Pauli $Y$\n",
        "- $\\ket{-i} = \\frac{1}{\\sqrt2}(\\ket{g} -i \\ket{r})$, a $-1$-eigenstate of Pauli $Y$.\n",
        "\n",
        "It is up to you how to convert the features into classical shadows and labels into numbers and then both into training data for your model. For example, you could assign $-1$ to $Z2$ and $+1$ to $Z3$.\n",
        "\n",
        "**Note:** If you decide to define any helper classes/functions in a separate Python file, please submit it alongside your solution notebook, so we can run and grade it properly"
      ]
    },
    {
      "cell_type": "code",
      "execution_count": 9,
      "id": "deba5d04",
      "metadata": {
        "colab": {
          "base_uri": "https://localhost:8080/"
        },
        "id": "deba5d04",
        "outputId": "fdb6c621-eb27-4ced-d1df-c740e18d2762"
      },
      "outputs": [
        {
          "output_type": "stream",
          "name": "stdout",
          "text": [
            "X_sub: (20, 4)  y: (20,)\n",
            "Train size: 14  (14 examples)\n",
            " Val size: 4   (4 examples)\n",
            "Test size: 2  (2 examples)\n"
          ]
        }
      ],
      "source": [
        "# ─── Cell 1: Load → Classical Shadows → PCA (4 features) → Train/Val/Test Split ───\n",
        "import numpy as np\n",
        "from sklearn.decomposition import PCA\n",
        "from sklearn.model_selection import train_test_split\n",
        "\n",
        "# 1) Load raw data\n",
        "data       = np.load(\"training_data.npz\", allow_pickle=True)\n",
        "raw_feats  = data[\"features\"].tolist()   # 20 × 500 × 51\n",
        "raw_labels = data[\"labels\"].tolist()     # 20 labels\n",
        "\n",
        "N, T, Q0 = len(raw_feats), len(raw_feats[0]), len(raw_feats[0][0])\n",
        "\n",
        "# 2) Build classical shadows σ = 3|v⟩⟨v| – I\n",
        "I2 = np.eye(2, dtype=complex)\n",
        "basis = {\n",
        "  'g':  np.array([1,0],complex),\n",
        "  'r':  np.array([0,1],complex),\n",
        "  '+':  (1/np.sqrt(2))*np.array([1,1],complex),\n",
        "  '-':  (1/np.sqrt(2))*np.array([1,-1],complex),\n",
        "  '+i': (1/np.sqrt(2))*np.array([1,1j],complex),\n",
        "  '-i': (1/np.sqrt(2))*np.array([1,-1j],complex),\n",
        "}\n",
        "σ_op = {k: 3*np.outer(v, v.conj()) - I2 for k, v in basis.items()}\n",
        "norm = lambda s: '+i' if s.strip().replace('−','-')=='i' else s.strip().replace('−','-')\n",
        "\n",
        "# 3) Accumulate shadows\n",
        "S = np.zeros((N, Q0, 2, 2), complex)\n",
        "for i, shots in enumerate(raw_feats):\n",
        "    acc = np.zeros((Q0,2,2), complex)\n",
        "    for shot in shots:\n",
        "        for q, o in enumerate(shot):\n",
        "            acc[q] += σ_op[norm(o)]\n",
        "    S[i] = acc / T\n",
        "\n",
        "# 4) Bloch angles θx, θz\n",
        "σx = np.array([[0,1],[1,0]], complex)\n",
        "σz = np.array([[1,0],[0,-1]], complex)\n",
        "ρ  = (S + I2)/3\n",
        "ex = np.real(np.trace(ρ @ σx, axis1=2, axis2=3))\n",
        "ez = np.real(np.trace(ρ @ σz, axis1=2, axis2=3))\n",
        "θx = (np.clip(ex, -1, 1) + 1) * (np.pi/2)\n",
        "θz = (np.clip(ez, -1, 1) + 1) * (np.pi/2)\n",
        "\n",
        "# 5) Flatten to complex vector and split real/imag\n",
        "Xc    = (θx + 1j*θz).reshape(N, -1)    # shape (20,204)\n",
        "Xreal = np.hstack([Xc.real, Xc.imag])  # (20,408)\n",
        "\n",
        "# 6) PCA to 4 real features\n",
        "Xp    = PCA(n_components=4, random_state=0).fit_transform(Xreal)\n",
        "mn, mx = Xp.min(0), Xp.max(0)\n",
        "Xp_norm = (Xp - mn) / np.where(mx-mn == 0, 1, (mx-mn)) * np.pi  # normalize to [0,π]\n",
        "\n",
        "X_sub = Xp_norm                       # (20, 4)\n",
        "y     = np.array([-1 if lbl=='Z2' else +1 for lbl in raw_labels])\n",
        "\n",
        "print(\"X_sub:\", X_sub.shape, \" y:\", y.shape)\n",
        "\n",
        "# ── Split into Train / Val / Test (14 / 4 / 2 examples) ──\n",
        "# 1) Hold out 2 examples for test\n",
        "X_temp, X_test, y_temp, y_test = train_test_split(\n",
        "    X_sub, y,\n",
        "    test_size=2,           # exactly 2 for test\n",
        "    random_state=42,\n",
        "    stratify=y\n",
        ")\n",
        "\n",
        "# 2) From the remaining 18, hold out 4 for validation\n",
        "X_train, X_val, y_train, y_val = train_test_split(\n",
        "    X_temp, y_temp,\n",
        "    test_size=4,           # exactly 4 for validation\n",
        "    random_state=42,\n",
        "    stratify=y_temp\n",
        ")\n",
        "\n",
        "print(f\"Train size: {len(X_train)}  (14 examples)\")\n",
        "print(f\" Val size: {len(X_val)}   (4 examples)\")\n",
        "print(f\"Test size: {len(X_test)}  (2 examples)\")\n"
      ]
    },
    {
      "cell_type": "markdown",
      "id": "8016123e",
      "metadata": {
        "id": "8016123e"
      },
      "source": [
        "# Defining a Quantum Model\n",
        "\n",
        "In this section, you will create a QML model for classifying the quantum phases. This will include 3 stages:\n",
        "- First, you will need to decide on the data encoding scheme, i.e. loading numerical features you obtained above into the quantum circuit.\n",
        "- Then, you will need to come up with an ansatz - a parametrized quantum circuit, which will be optimized to perform classification.\n",
        "- Finally, to readout classical information from the quantum model, you will need to perform some sort of measurement on the resultant quantum state. Perhaps, you could extract an expectation value of some Pauli-string $P \\in \\{I, X, Y, Z\\}^{\\otimes N}$, so that $\\langle P \\rangle < b$ is interpreted as $Z2$ and  $\\langle P \\rangle > b$ is interpreted as $Z3$ for some decision boundary $b$.\n",
        "\n",
        "There are several approaches to QML in Classiq, linked below.\n",
        "\n",
        "You may find the following guides useful:\n",
        "- QML with Classiq: http://docs.classiq.io/latest/user-guide/read/qml_with_classiq_guide/\n",
        "- Variational Model Example: https://github.com/Classiq/classiq-library/blob/main/algorithms/qaoa/maxcut/qaoa_max_cut.ipynb\n",
        "- Hybrid QNN: https://docs.classiq.io/latest/explore/algorithms/qml/hybrid_qnn/hybrid_qnn_for_subset_majority/\n",
        "\n",
        "Although the 2nd guide describes a hybrid model, **you may not implement a hybrid model**, the guide should only be used as a reference as to how to implement QML.\n",
        "\n",
        "**Warning**: Training using the Classiq PyTorch integration may take a prohibitive amount of time. Consider this when choosing an approach."
      ]
    },
    {
      "cell_type": "code",
      "execution_count": 10,
      "id": "6413592b",
      "metadata": {
        "id": "6413592b"
      },
      "outputs": [],
      "source": [
        "from classiq import *\n",
        "from classiq.execution import *\n",
        "import numpy as np\n",
        "from classiq.synthesis import synthesize, show"
      ]
    },
    {
      "cell_type": "code",
      "execution_count": 19,
      "id": "d5a853fa",
      "metadata": {
        "id": "d5a853fa"
      },
      "outputs": [],
      "source": [
        "# ─── Cell 2: Quantum Model Definition ───\n",
        "\n",
        "from classiq import (\n",
        "    qfunc, CArray, CReal, QArray, QBit, Output,\n",
        "    allocate, RY, RZ, RX, CZ,\n",
        "    create_model, Constraints\n",
        ")\n",
        "from classiq.execution import (\n",
        "    ExecutionPreferences, ClassiqBackendPreferences,\n",
        "    ClassiqSimulatorBackendNames\n",
        ")\n",
        "from classiq.synthesis import synthesize, show\n",
        "\n",
        "# ─── Hyperparameters ─────────────────────────────────────────\n",
        "feature_length = 4   # matches PCA output\n",
        "num_qubits     = 2\n",
        "num_weights    = 2   # shared RX & RZ\n",
        "\n",
        "# ─── Encoding: 4 features → 2 qubits (2 angles each) ─────────\n",
        "@qfunc\n",
        "def encoding(f: CArray[CReal, feature_length], wires: QArray) -> None:\n",
        "    for q in range(num_qubits):\n",
        "        i0 = 2 * q\n",
        "        RY(theta=f[i0],     target=wires[q])\n",
        "        RZ(theta=f[i0 + 1], target=wires[q])\n",
        "\n",
        "# ─── Ansatz: same 2-param structure ───────────────────────────\n",
        "@qfunc\n",
        "def ansatz(weights: CArray[CReal, num_weights], wires: QArray) -> None:\n",
        "    # 1) shared RX\n",
        "    for i in range(num_qubits):\n",
        "        RX(theta=weights[0], target=wires[i])\n",
        "    # 2) ring of CZ\n",
        "    for i in range(num_qubits):\n",
        "        CZ(ctrl=wires[i], target=wires[(i+1) % num_qubits])\n",
        "    # 3) shared RZ\n",
        "    for i in range(num_qubits):\n",
        "        RZ(theta=weights[1], target=wires[i])\n",
        "\n",
        "# ─── Strong Entanglement Layer (fully connected CZs) ─────────\n",
        "@qfunc\n",
        "def strong_entanglement(wires: QArray) -> None:\n",
        "    for i in range(num_qubits):\n",
        "        for j in range(i + 1, num_qubits):\n",
        "            CZ(ctrl=wires[i], target=wires[j])\n",
        "\n",
        "@qfunc\n",
        "def main(\n",
        "    feature: CArray[CReal, feature_length],\n",
        "    weights: CArray[CReal, num_weights],\n",
        "    result:  Output[QArray[QBit]],\n",
        ") -> None:\n",
        "    allocate(num_qubits, result)\n",
        "    encoding(feature, wires=result)\n",
        "    # stronger circuit:\n",
        "    ansatz(weights,           wires=result)\n",
        "    strong_entanglement(wires=result)\n",
        "    ansatz(weights,           wires=result)"
      ]
    },
    {
      "cell_type": "markdown",
      "id": "4c2bcb6f",
      "metadata": {
        "id": "4c2bcb6f"
      },
      "source": [
        "### Synthesis\n",
        "\n",
        "Before training, you must synthesize your model into a quantum program. Placeholders for your parameters will be automatically generated.\n",
        "\n",
        "You may find the following documentation useful: https://docs.classiq.io/latest/sdk-reference/synthesis/"
      ]
    },
    {
      "cell_type": "code",
      "source": [
        "# ─── Synthesis into QPROG ─────────────────────────────────────\n",
        "NUM_SHOTS = 1000\n",
        "BACKENDS  = ClassiqBackendPreferences(\n",
        "    backend_name=ClassiqSimulatorBackendNames.SIMULATOR\n",
        ")\n",
        "\n",
        "# Create and synthesize the variational model\n",
        "QMOD  = create_model(\n",
        "    main,\n",
        "    execution_preferences=ExecutionPreferences(\n",
        "        num_shots=NUM_SHOTS,\n",
        "        backend_preferences=BACKENDS\n",
        "    ),\n",
        "    constraints=Constraints(optimization_parameter=\"no_opt\")\n",
        ")\n",
        "QPROG = synthesize(QMOD)\n",
        "show(QPROG)\n"
      ],
      "metadata": {
        "colab": {
          "base_uri": "https://localhost:8080/"
        },
        "id": "xMTWP5sGCaTj",
        "outputId": "2fe47eed-418d-41e8-d2fd-de4c5730a6a4"
      },
      "id": "xMTWP5sGCaTj",
      "execution_count": 20,
      "outputs": [
        {
          "output_type": "stream",
          "name": "stdout",
          "text": [
            "Quantum program link: https://platform.classiq.io/circuit/2xFotwxKSLV2fiE6PIJJXCSHR54?login=True&version=0.79.1\n"
          ]
        }
      ]
    },
    {
      "cell_type": "markdown",
      "id": "a03b040c",
      "metadata": {
        "id": "a03b040c"
      },
      "source": [
        "# Training the Model\n",
        "\n",
        "Here, you will optimize the weights in ansatz, so that the model can distiguish between the phases.\n",
        "\n",
        "You can find the following Classiq tutorial and documentation useful:\n",
        "- Execution: https://docs.classiq.io/latest/sdk-reference/execution/\n",
        "- Execution Session: https://docs.classiq.io/latest/user-guide/execution/ExecutionSession/\n",
        "- Executing With Parameters: https://docs.classiq.io/latest/qmod-reference/language-reference/quantum-entry-point/\n",
        "\n",
        "It is highly recommended to use an ExecutionSession if you are executing the same circuit with different parameters many times. It is not needed to train parameters using the Classiq PyTorch integration.\n",
        "\n",
        "If you are not using the PyTorch integration, you will need an objective (also known as a 'loss', or 'cost') function. Depending on your implementation, you will need to either minimize or maximize it in training."
      ]
    },
    {
      "cell_type": "code",
      "source": [
        "# ─── Cell 3: 64→256-shot SPSA with train/val logger ───\n",
        "\n",
        "import time\n",
        "import numpy as np\n",
        "import matplotlib.pyplot as plt\n",
        "from sklearn.metrics import precision_score, recall_score, f1_score\n",
        "from classiq.execution import ExecutionSession, ExecutionPreferences\n",
        "from classiq._internals.client import ClassiqAPIError\n",
        "\n",
        "# 1) Sessions\n",
        "def make_session(shots: int, fast: bool) -> ExecutionSession:\n",
        "    prefs = ExecutionPreferences(\n",
        "        num_shots=shots,\n",
        "        backend_preferences=BACKENDS,\n",
        "        fast=fast\n",
        "    )\n",
        "    return ExecutionSession(quantum_program=QPROG,\n",
        "                            execution_preferences=prefs)\n",
        "\n",
        "sess64   = make_session(64,  fast=True)\n",
        "sess256  = make_session(256, fast=False)\n",
        "sess_val = make_session(256, fast=False)\n",
        "\n",
        "# 2) Helpers: bind & avg_z\n",
        "def bind(tag, arr):\n",
        "    return {f\"{tag}_param_{i}\": float(v) for i, v in enumerate(arr)}\n",
        "\n",
        "def avg_z(counts):\n",
        "    tot = sum(counts.values())\n",
        "    return sum(\n",
        "        c * sum(+1 if b=='0' else -1 for b in bits)\n",
        "        for bits, c in counts.items()\n",
        "    ) / (tot * num_qubits)\n",
        "\n",
        "# 3) Batch‐forward + safe wrapper\n",
        "def batch_forward(sess, thetas, Xb):\n",
        "    plist = [\n",
        "        {**bind(\"weights\", w), **bind(\"feature\", x)}\n",
        "        for w, x in zip(thetas, Xb)\n",
        "    ]\n",
        "    results = sess.batch_sample(parameters=plist)\n",
        "    cnts = [\n",
        "        r.counts if isinstance(r.counts, dict) else r.counts[0]\n",
        "        for r in results\n",
        "    ]\n",
        "    return np.array([avg_z(c) for c in cnts])\n",
        "\n",
        "def safe_batch_forward(sess, thetas, Xb, max_retries=3, delay=0.2):\n",
        "    for attempt in range(1, max_retries+1):\n",
        "        try:\n",
        "            out = batch_forward(sess, thetas, Xb)\n",
        "            time.sleep(delay)\n",
        "            return out\n",
        "        except ClassiqAPIError as e:\n",
        "            print(f\"⚠️ API error (attempt {attempt}): {e}\")\n",
        "            time.sleep(delay * attempt)\n",
        "    raise RuntimeError(\"batch_forward failed after retries\")\n",
        "\n",
        "# 4) Hinge loss & logits\n",
        "def hinge(sess, w, X, y):\n",
        "    N = X.shape[0]\n",
        "    logits = safe_batch_forward(sess, np.tile(w, (N,1)), X)\n",
        "    return np.mean(np.maximum(0, 1 - y * logits))\n",
        "\n",
        "def compute_logits(sess, w, X):\n",
        "    N = X.shape[0]\n",
        "    return safe_batch_forward(sess, np.tile(w, (N,1)), X)\n",
        "\n",
        "# ── Logs & best‐tracker ──\n",
        "train_loss_log = []\n",
        "val_loss_log   = []\n",
        "best_acc       = -1.0\n",
        "best_theta     = None\n",
        "\n",
        "# # 5) SPSA hyperparameters & init\n",
        "# alpha = 0.05   # step‐size multiplier\n",
        "# c0    = 0.10   # perturbation scale\n",
        "# gamma = 0.05   # decay exponent for c_k\n",
        "# MAX_IT = 80\n",
        "# theta = 0.01 * np.random.randn(num_weights)\n",
        "\n",
        "# alpha = 0.10   # twice as big\n",
        "# c0    = 0.20   # twice as big\n",
        "# gamma = 0.10   # a bit slower decay\n",
        "\n",
        "\n",
        "\n",
        "# # 5) SPSA hyperparameters & init\n",
        "# alpha = 0.1989350216272968  # step‐size multiplier\n",
        "# c0    = 0.03686855635698965  # perturbation scale\n",
        "# gamma = 0.561493840452249   # decay exponent for c_k\n",
        "\n",
        "\n",
        "# alpha = 0.20   # larger constant step‐size\n",
        "# c0    = 0.30   # larger perturbations early on\n",
        "# gamma = 0.10   # slower decay of ck\n",
        "\n",
        "alpha = 0.30    # larger step‐size\n",
        "c0    = 0.30    # larger initial perturbations\n",
        "gamma = 0.02    # very slow decay of c_k\n",
        "\n",
        "MAX_IT = 100\n",
        "theta = 0.01 * np.random.randn(num_weights)\n",
        "\n",
        "\n",
        "# 6) SPSA loop with full logger\n",
        "for k in range(MAX_IT):\n",
        "    sess = sess64 if k < 50 else sess256\n",
        "\n",
        "    ck    = c0 / ( (k+1)**gamma )\n",
        "    delta = np.random.choice([+1, -1], num_weights)\n",
        "\n",
        "    # gradient estimate on TRAIN\n",
        "    lp   = hinge(sess, theta + ck*delta, X_train, y_train)\n",
        "    lm   = hinge(sess, theta - ck*delta, X_train, y_train)\n",
        "    grad = (lp - lm) / (2 * ck * delta)\n",
        "    theta -= alpha * grad\n",
        "\n",
        "    # checkpoint every 20 iters + last\n",
        "    if k % 20 == 0 or k == MAX_IT - 1:\n",
        "        # train metrics\n",
        "        L_train   = hinge(sess, theta, X_train, y_train)\n",
        "        logits_tr = compute_logits(sess, theta, X_train)\n",
        "        preds_tr  = np.sign(logits_tr)\n",
        "        y_tr_bin  = (y_train == +1).astype(int)\n",
        "        p_tr_bin  = (preds_tr == +1).astype(int)\n",
        "        acc_train = np.mean(preds_tr == y_train)\n",
        "        prec      = precision_score(y_tr_bin, p_tr_bin, zero_division=0)\n",
        "        rec       = recall_score(   y_tr_bin, p_tr_bin, zero_division=0)\n",
        "        f1s       = f1_score(       y_tr_bin, p_tr_bin, zero_division=0)\n",
        "\n",
        "        # validation loss\n",
        "        L_val = hinge(sess_val, theta, X_val, y_val)\n",
        "\n",
        "        epoch = len(train_loss_log) + 1\n",
        "        print(\n",
        "            f\"Epoch {epoch:02d} | \"\n",
        "            f\"train loss={L_train:.4f} | \"\n",
        "            f\"val loss={L_val:.4f} | \"\n",
        "            f\"train acc={acc_train*100:5.2f}% | \"\n",
        "            f\"precision={prec*100:5.2f}% | \"\n",
        "            f\"recall={rec*100:5.2f}% | \"\n",
        "            f\"F1={f1s*100:5.2f}%\"\n",
        "        )\n",
        "\n",
        "        train_loss_log.append(L_train)\n",
        "        val_loss_log.append(L_val)\n",
        "        if acc_train > best_acc:\n",
        "            best_acc   = acc_train\n",
        "            best_theta = theta.copy()\n",
        "\n",
        "# 7) Cleanup\n",
        "sess64.close()\n",
        "sess256.close()\n",
        "sess_val.close()\n",
        "\n",
        "print(f\"\\nBest train accuracy seen: {best_acc*100:.2f}%\")\n"
      ],
      "metadata": {
        "colab": {
          "base_uri": "https://localhost:8080/"
        },
        "id": "VaAXdHXBh1yh",
        "outputId": "49b95625-4c9c-4f91-f132-9e00cb4bdcb2"
      },
      "id": "VaAXdHXBh1yh",
      "execution_count": 25,
      "outputs": [
        {
          "output_type": "stream",
          "name": "stdout",
          "text": [
            "Epoch 01 | train loss=1.5363 | val loss=1.5000 | train acc=14.29% | precision=22.22% | recall=28.57% | F1=25.00%\n",
            "Epoch 02 | train loss=1.0739 | val loss=1.0381 | train acc=50.00% | precision=50.00% | recall=28.57% | F1=36.36%\n",
            "Epoch 03 | train loss=1.0176 | val loss=1.0078 | train acc=71.43% | precision=100.00% | recall=42.86% | F1=60.00%\n",
            "Epoch 04 | train loss=0.9972 | val loss=0.9570 | train acc=64.29% | precision=100.00% | recall=42.86% | F1=60.00%\n",
            "Epoch 05 | train loss=0.8783 | val loss=0.8545 | train acc=85.71% | precision=100.00% | recall=71.43% | F1=83.33%\n",
            "Epoch 06 | train loss=0.7907 | val loss=0.8633 | train acc=100.00% | precision=100.00% | recall=100.00% | F1=100.00%\n",
            "\n",
            "Best train accuracy seen: 100.00%\n"
          ]
        }
      ]
    },
    {
      "cell_type": "markdown",
      "id": "198d25e0",
      "metadata": {
        "id": "198d25e0"
      },
      "source": [
        "Training that takes too long may make it impossible to grade your submission."
      ]
    },
    {
      "cell_type": "code",
      "source": [
        "import matplotlib.pyplot as plt\n",
        "\n",
        "# build epoch indices\n",
        "epochs = list(range(1, len(train_loss_log) + 1))\n",
        "\n",
        "plt.figure(figsize=(6,4))\n",
        "plt.plot(epochs, train_loss_log, '-o', label='Train Loss')\n",
        "plt.plot(epochs, val_loss_log,   '-s', label='Val Loss')\n",
        "plt.xlabel('Epoch')\n",
        "plt.ylabel('Loss')\n",
        "plt.title('Training vs Validation Loss')\n",
        "plt.legend()\n",
        "plt.tight_layout()\n",
        "plt.show()\n"
      ],
      "metadata": {
        "colab": {
          "base_uri": "https://localhost:8080/",
          "height": 407
        },
        "id": "Mi1CE19lIong",
        "outputId": "5fa846f7-26fb-47d4-ccb1-39466bdf7e6e"
      },
      "id": "Mi1CE19lIong",
      "execution_count": 26,
      "outputs": [
        {
          "output_type": "display_data",
          "data": {
            "text/plain": [
              "<Figure size 600x400 with 1 Axes>"
            ],
            "image/png": "[encoded data removed]"
          },
          "metadata": {}
        }
      ]
    },
    {
      "cell_type": "markdown",
      "id": "b75f5aed",
      "metadata": {
        "id": "b75f5aed"
      },
      "source": [
        "# Testing the Model\n",
        "\n",
        "Good job! Now it's time to see whether the model you designed can successfully perform the classification. For this, compare the predictions of your model to the actual labels.\n",
        "\n",
        "If the model does not perform well, try modifying the encoding and/or the ansatz (by using different number of parameters/qubits/ansatz layers/...)"
      ]
    },
    {
      "cell_type": "code",
      "source": [
        "print(\"X_test.shape:\", X_test.shape)         # should be (2,4)\n",
        "print(\"y_test.shape:\", y_test.shape)         # should be (2,)\n",
        "print(\"best_theta.shape:\", best_theta.shape) # should be (2,)\n"
      ],
      "metadata": {
        "colab": {
          "base_uri": "https://localhost:8080/"
        },
        "id": "owv4xih3uR9Q",
        "outputId": "05d5c6af-4c41-490d-b0cd-a08cdbfbc13c"
      },
      "id": "owv4xih3uR9Q",
      "execution_count": 24,
      "outputs": [
        {
          "output_type": "stream",
          "name": "stdout",
          "text": [
            "X_test.shape: (2, 4)\n",
            "y_test.shape: (2,)\n",
            "best_theta.shape: (2,)\n"
          ]
        }
      ]
    },
    {
      "cell_type": "code",
      "source": [
        "# ─── Cell 4: Testing the Model on Held-Out Test Set ───\n",
        "\n",
        "import numpy as np\n",
        "from sklearn.metrics import accuracy_score, confusion_matrix, classification_report\n",
        "from classiq.execution import ExecutionSession\n",
        "\n",
        "# 1) Spin up a fresh 256-shot session for testing\n",
        "sess_test = make_session(256, fast=False)\n",
        "\n",
        "# 2) Compute raw decision values ⟨Z⟩ for the test set\n",
        "N_test = X_test.shape[0]\n",
        "logits_test = safe_batch_forward(\n",
        "    sess_test,\n",
        "    np.tile(best_theta, (N_test, 1)),\n",
        "    X_test\n",
        ")\n",
        "\n",
        "# 3) Map logits to predictions: +1 → Z3, -1 → Z2\n",
        "preds_test = np.where(logits_test > 0, +1, -1)\n",
        "\n",
        "# 4) Overall accuracy\n",
        "acc_test = accuracy_score(y_test, preds_test)\n",
        "print(f\"Test accuracy: {acc_test*100:.2f}%\\n\")\n",
        "\n",
        "# 5) Confusion matrix\n",
        "cm = confusion_matrix(y_test, preds_test, labels=[-1, +1])\n",
        "print(\"Confusion matrix (rows=true, cols=predicted):\")\n",
        "print(\"         Pred Z2   Pred Z3\")\n",
        "print(f\"True Z2    {cm[0,0]:>3d}        {cm[0,1]:>3d}\")\n",
        "print(f\"True Z3    {cm[1,0]:>3d}        {cm[1,1]:>3d}\\n\")\n",
        "\n",
        "# 6) Detailed classification report\n",
        "#    Map -1→0 and +1→1 for sklearn\n",
        "y_test_bin  = (y_test   == +1).astype(int)\n",
        "preds_bin   = (preds_test == +1).astype(int)\n",
        "print(\"Classification report:\")\n",
        "print(classification_report(\n",
        "    y_test_bin,\n",
        "    preds_bin,\n",
        "    target_names=[\"Z2\", \"Z3\"],\n",
        "    digits=4\n",
        "))\n",
        "\n",
        "# 7) Cleanup\n",
        "sess_test.close()\n"
      ],
      "metadata": {
        "colab": {
          "base_uri": "https://localhost:8080/"
        },
        "id": "W888yZB8fxuo",
        "outputId": "d14467fc-ddc2-4f3b-8455-ad9e569577c0"
      },
      "id": "W888yZB8fxuo",
      "execution_count": 23,
      "outputs": [
        {
          "output_type": "stream",
          "name": "stdout",
          "text": [
            "Test accuracy: 50.00%\n",
            "\n",
            "Confusion matrix (rows=true, cols=predicted):\n",
            "         Pred Z2   Pred Z3\n",
            "True Z2      1          0\n",
            "True Z3      1          0\n",
            "\n",
            "Classification report:\n",
            "              precision    recall  f1-score   support\n",
            "\n",
            "          Z2     0.5000    1.0000    0.6667         1\n",
            "          Z3     0.0000    0.0000    0.0000         1\n",
            "\n",
            "    accuracy                         0.5000         2\n",
            "   macro avg     0.2500    0.5000    0.3333         2\n",
            "weighted avg     0.2500    0.5000    0.3333         2\n",
            "\n"
          ]
        },
        {
          "output_type": "stream",
          "name": "stderr",
          "text": [
            "/usr/local/lib/python3.11/dist-packages/sklearn/metrics/_classification.py:1565: UndefinedMetricWarning: Precision is ill-defined and being set to 0.0 in labels with no predicted samples. Use `zero_division` parameter to control this behavior.\n",
            "  _warn_prf(average, modifier, f\"{metric.capitalize()} is\", len(result))\n",
            "/usr/local/lib/python3.11/dist-packages/sklearn/metrics/_classification.py:1565: UndefinedMetricWarning: Precision is ill-defined and being set to 0.0 in labels with no predicted samples. Use `zero_division` parameter to control this behavior.\n",
            "  _warn_prf(average, modifier, f\"{metric.capitalize()} is\", len(result))\n",
            "/usr/local/lib/python3.11/dist-packages/sklearn/metrics/_classification.py:1565: UndefinedMetricWarning: Precision is ill-defined and being set to 0.0 in labels with no predicted samples. Use `zero_division` parameter to control this behavior.\n",
            "  _warn_prf(average, modifier, f\"{metric.capitalize()} is\", len(result))\n"
          ]
        }
      ]
    },
    {
      "cell_type": "markdown",
      "id": "c7ea5280",
      "metadata": {
        "id": "c7ea5280"
      },
      "source": [
        "## Grading\n",
        "\n",
        "You will be evaluated on the accuracy, depth, width of your model and the number of parameters in your model."
      ]
    },
    {
      "cell_type": "markdown",
      "id": "130eb0ba",
      "metadata": {
        "id": "130eb0ba"
      },
      "source": [
        "The following function will return the width and depth of your model as they will be used in grading. Use it to self-evaluate your model."
      ]
    },
    {
      "cell_type": "code",
      "execution_count": 16,
      "id": "09a80a52",
      "metadata": {
        "id": "09a80a52"
      },
      "outputs": [],
      "source": [
        "from classiq import QuantumProgram\n",
        "\n",
        "def get_metrics(qprog):\n",
        "    \"\"\"\n",
        "    Extract circuit metrics from a quantum program.\n",
        "\n",
        "    Parameters:\n",
        "        qprog: The quantum program object.\n",
        "\n",
        "    Returns:\n",
        "        dict: A dictionary containing the circuit metrics:\n",
        "              - \"depth\": Circuit depth\n",
        "              - \"width\": Circuit width\n",
        "    \"\"\"\n",
        "    circuit = QuantumProgram.from_qprog(qprog)\n",
        "\n",
        "    metrics = {\n",
        "        \"depth\": circuit.transpiled_circuit.depth,\n",
        "        \"width\": circuit.data.width,\n",
        "    }\n",
        "\n",
        "    return metrics"
      ]
    },
    {
      "cell_type": "code",
      "execution_count": 17,
      "id": "4e928cf0",
      "metadata": {
        "colab": {
          "base_uri": "https://localhost:8080/"
        },
        "id": "4e928cf0",
        "outputId": "1563a752-64ac-46ea-8945-a78aa41f3b46"
      },
      "outputs": [
        {
          "output_type": "stream",
          "name": "stdout",
          "text": [
            "{'depth': 10, 'width': 2}\n"
          ]
        }
      ],
      "source": [
        "print(get_metrics(QPROG))"
      ]
    },
    {
      "cell_type": "markdown",
      "id": "cd17c6a4",
      "metadata": {
        "id": "cd17c6a4"
      },
      "source": [
        "# Submission\n",
        "\n",
        "You will submit this notebook, your trained parameters, and your quantum model."
      ]
    },
    {
      "cell_type": "code",
      "execution_count": 21,
      "id": "3262a32f",
      "metadata": {
        "id": "3262a32f"
      },
      "outputs": [],
      "source": [
        "# Do not change this cell\n",
        "\n",
        "import os\n",
        "\n",
        "def save_qprog(qprog, team_name: str, folder=\".\"):\n",
        "    assert isinstance(team_name, str)\n",
        "    file_name = f\"{team_name.replace(' ','_')}.qprog\"\n",
        "    with open(os.path.join(folder, file_name), 'w') as f:\n",
        "        f.write(qprog.model_dump_json(indent=4))\n",
        "\n",
        "def save_params(params, team_name: str, folder=\".\"):\n",
        "    assert isinstance(team_name, str)\n",
        "    file_name = f\"{team_name.replace(' ','_')}.npz\"\n",
        "    with open(os.path.join(folder, file_name), 'wb') as f:\n",
        "        np.savez(f, params=params)"
      ]
    },
    {
      "cell_type": "code",
      "execution_count": null,
      "id": "42cbc05d",
      "metadata": {
        "id": "42cbc05d"
      },
      "outputs": [],
      "source": [
        "# Change to your team name!!\n",
        "TEAM_NAME = \"Merqury\"\n",
        "\n",
        "# Insert your trained parameters here!\n",
        "TRAINED_PARAMS = theta\n",
        "\n",
        "save_qprog(QPROG, team_name=TEAM_NAME)\n",
        "save_params(params=TRAINED_PARAMS, team_name=TEAM_NAME)"
      ]
    }
  ],
  "metadata": {
    "kernelspec": {
      "display_name": "Python 3",
      "name": "python3"
    },
    "language_info": {
      "codemirror_mode": {
        "name": "ipython",
        "version": 3
      },
      "file_extension": ".py",
      "mimetype": "text/x-python",
      "name": "python",
      "nbconvert_exporter": "python",
      "pygments_lexer": "ipython3",
      "version": "3.12.10"
    },
    "colab": {
      "provenance": [],
      "gpuType": "T4",
      "include_colab_link": true
    },
    "accelerator": "GPU"
  },
  "nbformat": 4,
  "nbformat_minor": 5
}