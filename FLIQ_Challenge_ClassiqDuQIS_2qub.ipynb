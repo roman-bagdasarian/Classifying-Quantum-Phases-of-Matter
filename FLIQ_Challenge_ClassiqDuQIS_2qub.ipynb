{
  "cells": [
    {
      "cell_type": "markdown",
      "metadata": {
        "id": "view-in-github",
        "colab_type": "text"
      },
      "source": [
        "<a href=\"https://colab.research.google.com/github/roman-bagdasarian/Classifying-Quantum-Phases-of-Matter/blob/main/FLIQ_Challenge_ClassiqDuQIS_2qub.ipynb\" target=\"_parent\"><img src=\"https://colab.research.google.com/assets/colab-badge.svg\" alt=\"Open In Colab\"/></a>"
      ]
    },
    {
      "cell_type": "markdown",
      "id": "ac6de42c",
      "metadata": {
        "id": "ac6de42c"
      },
      "source": [
        "# Make Sure You Are Ready to Go\n",
        "\n",
        "$\\renewcommand{\\ket}[1]{\\left| #1 \\right\\rangle}\n",
        "\\renewcommand{\\bra}[1]{\\left\\langle #1 \\right|}\n",
        "\\renewcommand{\\braket}[2]{\\left\\langle #1 | #2 \\right\\rangle}\n",
        "\\newcommand{\\ketbra}[2]{\\left| #1 \\right\\rangle\\!\\left\\langle #2 \\right|}$\n",
        "\n",
        "If you haven't done it yet, try running the following lines of code and use the [registration and installation](https://docs.classiq.io/latest/classiq_101/registration_installations/) page if you are having difficulty setting up your environment.\\\n",
        "Uncomment and run the following command to install or update to the latest version of the Classiq SDK (if not installed yet):"
      ]
    },
    {
      "cell_type": "code",
      "execution_count": 1,
      "id": "85f503ae",
      "metadata": {
        "colab": {
          "base_uri": "https://localhost:8080/"
        },
        "collapsed": true,
        "id": "85f503ae",
        "outputId": "ffab9a67-f230-4897-8e43-4fd2f3bc6abd"
      },
      "outputs": [
        {
          "output_type": "stream",
          "name": "stdout",
          "text": [
            "Requirement already satisfied: classiq in /usr/local/lib/python3.11/dist-packages (0.79.1)\n",
            "Requirement already satisfied: ConfigArgParse<2.0.0,>=1.5.3 in /usr/local/lib/python3.11/dist-packages (from classiq) (1.7)\n",
            "Requirement already satisfied: Pyomo<6.6,>=6.5 in /usr/local/lib/python3.11/dist-packages (from classiq) (6.5.0)\n",
            "Requirement already satisfied: black<25.0,>=24.0 in /usr/local/lib/python3.11/dist-packages (from classiq) (24.10.0)\n",
            "Requirement already satisfied: httpx<1,>=0.23.0 in /usr/local/lib/python3.11/dist-packages (from classiq) (0.28.1)\n",
            "Requirement already satisfied: keyring<24.0.0,>=23.5.0 in /usr/local/lib/python3.11/dist-packages (from classiq) (23.13.1)\n",
            "Requirement already satisfied: matplotlib<4.0.0,>=3.4.3 in /usr/local/lib/python3.11/dist-packages (from classiq) (3.10.0)\n",
            "Requirement already satisfied: networkx<3.0.0,>=2.5.1 in /usr/local/lib/python3.11/dist-packages (from classiq) (2.8.8)\n",
            "Requirement already satisfied: numexpr<3.0.0,>=2.7.3 in /usr/local/lib/python3.11/dist-packages (from classiq) (2.10.2)\n",
            "Requirement already satisfied: numpy<2.0.0,>=1.20.1 in /usr/local/lib/python3.11/dist-packages (from classiq) (1.26.4)\n",
            "Requirement already satisfied: packaging<24.0,>=23.2 in /usr/local/lib/python3.11/dist-packages (from classiq) (23.2)\n",
            "Requirement already satisfied: pandas<3.0.0,>=1.4.0 in /usr/local/lib/python3.11/dist-packages (from classiq) (2.2.2)\n",
            "Requirement already satisfied: plotly<6.0.0,>=5.7.0 in /usr/local/lib/python3.11/dist-packages (from classiq) (5.24.1)\n",
            "Requirement already satisfied: pydantic<2.10.0,>=2.9.0 in /usr/local/lib/python3.11/dist-packages (from classiq) (2.9.2)\n",
            "Requirement already satisfied: pydantic-settings<3.0.0,>=2.4.0 in /usr/local/lib/python3.11/dist-packages (from classiq) (2.9.1)\n",
            "Requirement already satisfied: scipy<2.0.0,>=1.10.0 in /usr/local/lib/python3.11/dist-packages (from classiq) (1.15.3)\n",
            "Requirement already satisfied: sympy<2.0.0,>=1.13.0 in /usr/local/lib/python3.11/dist-packages (from classiq) (1.13.1)\n",
            "Requirement already satisfied: tabulate<1,>=0.8.9 in /usr/local/lib/python3.11/dist-packages (from classiq) (0.9.0)\n",
            "Requirement already satisfied: tqdm<5.0.0,>=4.67.1 in /usr/local/lib/python3.11/dist-packages (from classiq) (4.67.1)\n",
            "Requirement already satisfied: zstandard<0.24.0,>=0.23.0 in /usr/local/lib/python3.11/dist-packages (from classiq) (0.23.0)\n",
            "Requirement already satisfied: click>=8.0.0 in /usr/local/lib/python3.11/dist-packages (from black<25.0,>=24.0->classiq) (8.2.0)\n",
            "Requirement already satisfied: mypy-extensions>=0.4.3 in /usr/local/lib/python3.11/dist-packages (from black<25.0,>=24.0->classiq) (1.1.0)\n",
            "Requirement already satisfied: pathspec>=0.9.0 in /usr/local/lib/python3.11/dist-packages (from black<25.0,>=24.0->classiq) (0.12.1)\n",
            "Requirement already satisfied: platformdirs>=2 in /usr/local/lib/python3.11/dist-packages (from black<25.0,>=24.0->classiq) (4.3.8)\n",
            "Requirement already satisfied: anyio in /usr/local/lib/python3.11/dist-packages (from httpx<1,>=0.23.0->classiq) (4.9.0)\n",
            "Requirement already satisfied: certifi in /usr/local/lib/python3.11/dist-packages (from httpx<1,>=0.23.0->classiq) (2025.4.26)\n",
            "Requirement already satisfied: httpcore==1.* in /usr/local/lib/python3.11/dist-packages (from httpx<1,>=0.23.0->classiq) (1.0.9)\n",
            "Requirement already satisfied: idna in /usr/local/lib/python3.11/dist-packages (from httpx<1,>=0.23.0->classiq) (3.10)\n",
            "Requirement already satisfied: h11>=0.16 in /usr/local/lib/python3.11/dist-packages (from httpcore==1.*->httpx<1,>=0.23.0->classiq) (0.16.0)\n",
            "Requirement already satisfied: jaraco.classes in /usr/local/lib/python3.11/dist-packages (from keyring<24.0.0,>=23.5.0->classiq) (3.4.0)\n",
            "Requirement already satisfied: importlib-metadata>=4.11.4 in /usr/local/lib/python3.11/dist-packages (from keyring<24.0.0,>=23.5.0->classiq) (8.7.0)\n",
            "Requirement already satisfied: SecretStorage>=3.2 in /usr/local/lib/python3.11/dist-packages (from keyring<24.0.0,>=23.5.0->classiq) (3.3.3)\n",
            "Requirement already satisfied: jeepney>=0.4.2 in /usr/local/lib/python3.11/dist-packages (from keyring<24.0.0,>=23.5.0->classiq) (0.9.0)\n",
            "Requirement already satisfied: contourpy>=1.0.1 in /usr/local/lib/python3.11/dist-packages (from matplotlib<4.0.0,>=3.4.3->classiq) (1.3.2)\n",
            "Requirement already satisfied: cycler>=0.10 in /usr/local/lib/python3.11/dist-packages (from matplotlib<4.0.0,>=3.4.3->classiq) (0.12.1)\n",
            "Requirement already satisfied: fonttools>=4.22.0 in /usr/local/lib/python3.11/dist-packages (from matplotlib<4.0.0,>=3.4.3->classiq) (4.58.0)\n",
            "Requirement already satisfied: kiwisolver>=1.3.1 in /usr/local/lib/python3.11/dist-packages (from matplotlib<4.0.0,>=3.4.3->classiq) (1.4.8)\n",
            "Requirement already satisfied: pillow>=8 in /usr/local/lib/python3.11/dist-packages (from matplotlib<4.0.0,>=3.4.3->classiq) (11.2.1)\n",
            "Requirement already satisfied: pyparsing>=2.3.1 in /usr/local/lib/python3.11/dist-packages (from matplotlib<4.0.0,>=3.4.3->classiq) (3.2.3)\n",
            "Requirement already satisfied: python-dateutil>=2.7 in /usr/local/lib/python3.11/dist-packages (from matplotlib<4.0.0,>=3.4.3->classiq) (2.9.0.post0)\n",
            "Requirement already satisfied: pytz>=2020.1 in /usr/local/lib/python3.11/dist-packages (from pandas<3.0.0,>=1.4.0->classiq) (2025.2)\n",
            "Requirement already satisfied: tzdata>=2022.7 in /usr/local/lib/python3.11/dist-packages (from pandas<3.0.0,>=1.4.0->classiq) (2025.2)\n",
            "Requirement already satisfied: tenacity>=6.2.0 in /usr/local/lib/python3.11/dist-packages (from plotly<6.0.0,>=5.7.0->classiq) (9.1.2)\n",
            "Requirement already satisfied: annotated-types>=0.6.0 in /usr/local/lib/python3.11/dist-packages (from pydantic<2.10.0,>=2.9.0->classiq) (0.7.0)\n",
            "Requirement already satisfied: pydantic-core==2.23.4 in /usr/local/lib/python3.11/dist-packages (from pydantic<2.10.0,>=2.9.0->classiq) (2.23.4)\n",
            "Requirement already satisfied: typing-extensions>=4.6.1 in /usr/local/lib/python3.11/dist-packages (from pydantic<2.10.0,>=2.9.0->classiq) (4.13.2)\n",
            "Requirement already satisfied: python-dotenv>=0.21.0 in /usr/local/lib/python3.11/dist-packages (from pydantic-settings<3.0.0,>=2.4.0->classiq) (1.1.0)\n",
            "Requirement already satisfied: typing-inspection>=0.4.0 in /usr/local/lib/python3.11/dist-packages (from pydantic-settings<3.0.0,>=2.4.0->classiq) (0.4.0)\n",
            "Requirement already satisfied: ply in /usr/local/lib/python3.11/dist-packages (from Pyomo<6.6,>=6.5->classiq) (3.11)\n",
            "Requirement already satisfied: mpmath<1.4,>=1.1.0 in /usr/local/lib/python3.11/dist-packages (from sympy<2.0.0,>=1.13.0->classiq) (1.3.0)\n",
            "Requirement already satisfied: zipp>=3.20 in /usr/local/lib/python3.11/dist-packages (from importlib-metadata>=4.11.4->keyring<24.0.0,>=23.5.0->classiq) (3.21.0)\n",
            "Requirement already satisfied: six>=1.5 in /usr/local/lib/python3.11/dist-packages (from python-dateutil>=2.7->matplotlib<4.0.0,>=3.4.3->classiq) (1.17.0)\n",
            "Requirement already satisfied: cryptography>=2.0 in /usr/local/lib/python3.11/dist-packages (from SecretStorage>=3.2->keyring<24.0.0,>=23.5.0->classiq) (43.0.3)\n",
            "Requirement already satisfied: sniffio>=1.1 in /usr/local/lib/python3.11/dist-packages (from anyio->httpx<1,>=0.23.0->classiq) (1.3.1)\n",
            "Requirement already satisfied: more-itertools in /usr/local/lib/python3.11/dist-packages (from jaraco.classes->keyring<24.0.0,>=23.5.0->classiq) (10.7.0)\n",
            "Requirement already satisfied: cffi>=1.12 in /usr/local/lib/python3.11/dist-packages (from cryptography>=2.0->SecretStorage>=3.2->keyring<24.0.0,>=23.5.0->classiq) (1.17.1)\n",
            "Requirement already satisfied: pycparser in /usr/local/lib/python3.11/dist-packages (from cffi>=1.12->cryptography>=2.0->SecretStorage>=3.2->keyring<24.0.0,>=23.5.0->classiq) (2.22)\n"
          ]
        }
      ],
      "source": [
        "pip install -U classiq"
      ]
    },
    {
      "cell_type": "code",
      "execution_count": 2,
      "id": "32deceb1",
      "metadata": {
        "id": "32deceb1"
      },
      "outputs": [],
      "source": [
        "import classiq"
      ]
    },
    {
      "cell_type": "markdown",
      "id": "6fbf8eae",
      "metadata": {
        "id": "6fbf8eae"
      },
      "source": [
        "Uncomment and run the following command if your machine has not been\n",
        "\n",
        "authenticated yet, you only need to run it once!"
      ]
    },
    {
      "cell_type": "code",
      "source": [
        "pip install keyrings.alt"
      ],
      "metadata": {
        "colab": {
          "base_uri": "https://localhost:8080/"
        },
        "id": "J57G1Ybm-H3L",
        "outputId": "66aec4e4-2450-4ea7-de7f-06ba703e594a"
      },
      "id": "J57G1Ybm-H3L",
      "execution_count": 3,
      "outputs": [
        {
          "output_type": "stream",
          "name": "stdout",
          "text": [
            "Collecting keyrings.alt\n",
            "  Downloading keyrings.alt-5.0.2-py3-none-any.whl.metadata (3.6 kB)\n",
            "Requirement already satisfied: jaraco.classes in /usr/local/lib/python3.11/dist-packages (from keyrings.alt) (3.4.0)\n",
            "Requirement already satisfied: jaraco.context in /usr/local/lib/python3.11/dist-packages (from keyrings.alt) (6.0.1)\n",
            "Requirement already satisfied: more-itertools in /usr/local/lib/python3.11/dist-packages (from jaraco.classes->keyrings.alt) (10.7.0)\n",
            "Requirement already satisfied: backports.tarfile in /usr/local/lib/python3.11/dist-packages (from jaraco.context->keyrings.alt) (1.2.0)\n",
            "Downloading keyrings.alt-5.0.2-py3-none-any.whl (17 kB)\n",
            "Installing collected packages: keyrings.alt\n",
            "Successfully installed keyrings.alt-5.0.2\n"
          ]
        }
      ]
    },
    {
      "cell_type": "code",
      "execution_count": 12,
      "id": "39634579",
      "metadata": {
        "colab": {
          "base_uri": "https://localhost:8080/"
        },
        "id": "39634579",
        "outputId": "fd145a59-160e-4ff6-a54c-bc2424e14590"
      },
      "outputs": [
        {
          "name": "stdout",
          "output_type": "stream",
          "text": [
            "Your user code: QNDW-HQPJ\n",
            "If a browser doesn't automatically open, please visit this URL from any trusted device: https://auth.classiq.io/activate?user_code=QNDW-HQPJ\n",
            "Please set a password for your new keyring: ··········\n",
            "Please confirm the password: ··········\n"
          ]
        }
      ],
      "source": [
        "#from keyrings.alt.file import PlaintextKeyring\n",
        "\n",
        "# # Use a basic keyring backend that stores credentials insecurely (for environments like Colab or VS Code)\n",
        "#keyring.set_keyring(PlaintextKeyring())\n",
        "\n",
        "# import classiq\n",
        "classiq.authenticate()"
      ]
    },
    {
      "cell_type": "markdown",
      "id": "5305b3c8",
      "metadata": {
        "id": "5305b3c8"
      },
      "source": [
        "Now you are good to go!"
      ]
    },
    {
      "cell_type": "markdown",
      "id": "c77d86a9",
      "metadata": {
        "id": "c77d86a9"
      },
      "source": [
        "# Rydberg Phase Diagram"
      ]
    },
    {
      "cell_type": "markdown",
      "id": "d0929b0c",
      "metadata": {
        "id": "d0929b0c"
      },
      "source": [
        "Before starting to code, let us reiterating some theory on Rydberg atoms - the subject of this challenge. They interact via the following Hamiltonian:\n",
        "\n",
        "$$\n",
        "H = \\frac{\\Omega}{2} \\sum_{i=1}^N X_i\n",
        "    - \\delta \\sum_{i=1}^N n_i\n",
        "    + \\sum_{i \\lt j} \\frac{\\Omega R_b^6 }{(a|i-j|)^6} n_i n_j.\n",
        "$$\n",
        "\n",
        "You can find the phase diagram for a $51$-atom chain below. It is obtained by fixing $a=1$ and $\\Omega=1$ and varying $\\delta$ and $R_b$."
      ]
    },
    {
      "cell_type": "markdown",
      "id": "d294a85c",
      "metadata": {
        "id": "d294a85c"
      },
      "source": [
        "<img src=\"https://github.com/dmitriikhitrin/Classiq-x-DuQIS-FLIQ-Challenge/blob/main/phase_diagram.png?raw=1\" alt=\"Phase Diagram\" width=\"800\">\n"
      ]
    },
    {
      "cell_type": "markdown",
      "id": "7e9a92b5",
      "metadata": {
        "id": "7e9a92b5"
      },
      "source": [
        "Fig.1: Phase diagram of the 1D Rydberg Hamiltonian, traced out by (left) bipartite entanglement entropy and (right) expectation value of the number of Rydberg excitations. Plots are obtained using tensor-network representation of the ground states of $H$."
      ]
    },
    {
      "cell_type": "markdown",
      "id": "0462afa8",
      "metadata": {
        "id": "0462afa8"
      },
      "source": [
        "In this challenge, we focus on distinguishing between the $Z2$ phase, where the ground state of $H$ has large overlap with the state $\\ket{rgr\\ldots gr}$, and the $Z3$ phase, where the ground state overlaps strongly with basis states of the form $\\ket{\\ldots rggrgg\\ldots}$.\n",
        "\n",
        "Evidently, such systems can be efficiently studied using tensor networks. However, this challenge prepares us for a more realistic scenario in which we only have access to measurement outcomes from the ground state of some Hamiltonian, and our goal is to determine which phase of matter the state belongs to."
      ]
    },
    {
      "cell_type": "markdown",
      "id": "cedcc958",
      "metadata": {
        "id": "cedcc958"
      },
      "source": [
        "# Loading and Processing Measurement Data\n",
        "\n",
        "*   List item\n",
        "*   List item\n",
        "\n",
        "\n",
        "\n",
        "Training data for your model contains measurement results in randomized bases performed on a 51-qubit Rydberg atoms chain. We load training data from the .npz file in the next cell."
      ]
    },
    {
      "cell_type": "code",
      "source": [
        "!wget https://github.com/dmitriikhitrin/Classiq-x-DuQIS-FLIQ-Challenge/raw/main/training_data.npz\n"
      ],
      "metadata": {
        "colab": {
          "base_uri": "https://localhost:8080/"
        },
        "id": "r4qoIB6n_U7p",
        "outputId": "2255f352-e5e4-401f-f042-d557d99f30ab"
      },
      "id": "r4qoIB6n_U7p",
      "execution_count": 4,
      "outputs": [
        {
          "output_type": "stream",
          "name": "stdout",
          "text": [
            "--2025-05-18 01:38:38--  https://github.com/dmitriikhitrin/Classiq-x-DuQIS-FLIQ-Challenge/raw/main/training_data.npz\n",
            "Resolving github.com (github.com)... 140.82.112.4\n",
            "Connecting to github.com (github.com)|140.82.112.4|:443... connected.\n",
            "HTTP request sent, awaiting response... 302 Found\n",
            "Location: https://raw.githubusercontent.com/dmitriikhitrin/Classiq-x-DuQIS-FLIQ-Challenge/main/training_data.npz [following]\n",
            "--2025-05-18 01:38:38--  https://raw.githubusercontent.com/dmitriikhitrin/Classiq-x-DuQIS-FLIQ-Challenge/main/training_data.npz\n",
            "Resolving raw.githubusercontent.com (raw.githubusercontent.com)... 185.199.108.133, 185.199.109.133, 185.199.110.133, ...\n",
            "Connecting to raw.githubusercontent.com (raw.githubusercontent.com)|185.199.108.133|:443... connected.\n",
            "HTTP request sent, awaiting response... 200 OK\n",
            "Length: 1021888 (998K) [application/octet-stream]\n",
            "Saving to: ‘training_data.npz’\n",
            "\n",
            "training_data.npz   100%[===================>] 997.94K  --.-KB/s    in 0.06s   \n",
            "\n",
            "2025-05-18 01:38:39 (16.8 MB/s) - ‘training_data.npz’ saved [1021888/1021888]\n",
            "\n"
          ]
        }
      ]
    },
    {
      "cell_type": "code",
      "execution_count": 5,
      "id": "33060828",
      "metadata": {
        "id": "33060828"
      },
      "outputs": [],
      "source": [
        "import numpy as np\n",
        "# You might need to make additional imports depending on your implementation"
      ]
    },
    {
      "cell_type": "code",
      "execution_count": 6,
      "id": "4e3917d1",
      "metadata": {
        "colab": {
          "base_uri": "https://localhost:8080/"
        },
        "id": "4e3917d1",
        "outputId": "249e1e9c-6607-4211-e030-767f5dc972f1"
      },
      "outputs": [
        {
          "output_type": "stream",
          "name": "stdout",
          "text": [
            "There are 20 data points\n",
            "There were T = 500 measurements performed for each data point\n",
            "The measurements were performed on 51 qubits\n",
            "Example: 2nd experiment result of 8th data point -> ['r', '-', 'i', 'i', 'r', '+', 'r', 'g', '+', '-i', 'r', '-', '-', 'g', '-i', '-', 'r', 'g', 'i', 'i', 'i', '-', 'r', '-i', 'r', 'i', 'r', '+', 'i', 'g', '-', '-i', '-', 'g', '-i', 'i', 'r', '-', '-', '-', 'i', 'i', '-i', 'g', '-i', 'g', 'r', '-', 'r', '+', '-']\n",
            "Example: label for the 8th data point -> Z2\n"
          ]
        }
      ],
      "source": [
        "loaded = np.load(\"training_data.npz\", allow_pickle=True)\n",
        "\n",
        "\n",
        "unprocessed_features = loaded[\"features\"].tolist()\n",
        "unprocessed_labels = loaded[\"labels\"].tolist()\n",
        "\n",
        "print(f'There are {len(unprocessed_features)} data points')\n",
        "print(f'There were T = {len(unprocessed_features[0])} measurements performed for each data point')\n",
        "print(f'The measurements were performed on {len(unprocessed_features[0][0])} qubits')\n",
        "print(f'Example: 2nd experiment result of 8th data point -> {unprocessed_features[7][1]}')\n",
        "print(f'Example: label for the 8th data point -> {unprocessed_labels[7]}')"
      ]
    },
    {
      "cell_type": "markdown",
      "id": "3ba14877",
      "metadata": {
        "id": "3ba14877"
      },
      "source": [
        "In the above,\n",
        "- $\\ket{g}$ is the atomic ground state, which is a $+1$-eigenstate of Pauli $Z$\n",
        "- $\\ket{r}$ is the highly excited Rydberg state, which is a $-1$-eigenstate of Pauli $Z$\n",
        "- $\\ket{+} = \\frac{1}{\\sqrt2}(\\ket{g} + \\ket{r})$, a $+1$-eigenstate of Pauli $X$\n",
        "- $\\ket{-} = \\frac{1}{\\sqrt2}(\\ket{g} - \\ket{r})$, a $-1$-eigenstate of Pauli $X$\n",
        "- $\\ket{+i} = \\frac{1}{\\sqrt2}(\\ket{g} +i\\ket{r})$, a $+1$-eigenstate of Pauli $Y$\n",
        "- $\\ket{-i} = \\frac{1}{\\sqrt2}(\\ket{g} -i \\ket{r})$, a $-1$-eigenstate of Pauli $Y$.\n",
        "\n",
        "It is up to you how to convert the features into classical shadows and labels into numbers and then both into training data for your model. For example, you could assign $-1$ to $Z2$ and $+1$ to $Z3$.\n",
        "\n",
        "**Note:** If you decide to define any helper classes/functions in a separate Python file, please submit it alongside your solution notebook, so we can run and grade it properly"
      ]
    },
    {
      "cell_type": "code",
      "execution_count": 13,
      "id": "deba5d04",
      "metadata": {
        "colab": {
          "base_uri": "https://localhost:8080/"
        },
        "id": "deba5d04",
        "outputId": "f0365df0-c137-470f-b7ee-9302da13cdb8"
      },
      "outputs": [
        {
          "output_type": "stream",
          "name": "stdout",
          "text": [
            "X_sub: (20, 4)  y: (20,)\n"
          ]
        }
      ],
      "source": [
        "# ─── Cell 1: Load → Classical Shadows → PCA (8 features) ───\n",
        "import numpy as np\n",
        "from sklearn.decomposition import PCA\n",
        "\n",
        "# 1) Load raw data\n",
        "data       = np.load(\"training_data.npz\", allow_pickle=True)\n",
        "raw_feats  = data[\"features\"].tolist()   # 20 × 500 × 51\n",
        "raw_labels = data[\"labels\"].tolist()     # 20 labels\n",
        "\n",
        "N, T, Q0 = len(raw_feats), len(raw_feats[0]), len(raw_feats[0][0])\n",
        "\n",
        "# 2) Build classical shadows σ = 3|v⟩⟨v| – I\n",
        "I2 = np.eye(2, dtype=complex)\n",
        "basis = {\n",
        "  'g': np.array([1,0],complex),\n",
        "  'r': np.array([0,1],complex),\n",
        "  '+': (1/np.sqrt(2))*np.array([1,1],complex),\n",
        "  '-': (1/np.sqrt(2))*np.array([1,-1],complex),\n",
        "  '+i':(1/np.sqrt(2))*np.array([1,1j],complex),\n",
        "  '-i':(1/np.sqrt(2))*np.array([1,-1j],complex),\n",
        "}\n",
        "σ_op = {k:3*np.outer(v,v.conj()) - I2 for k,v in basis.items()}\n",
        "norm = lambda s: '+i' if s.strip().replace('−','-')=='i' else s.strip().replace('−','-')\n",
        "\n",
        "# 3) Accumulate shadows\n",
        "S = np.zeros((N, Q0, 2, 2), complex)\n",
        "for i, shots in enumerate(raw_feats):\n",
        "    acc = np.zeros((Q0,2,2), complex)\n",
        "    for shot in shots:\n",
        "        for q, o in enumerate(shot):\n",
        "            acc[q] += σ_op[norm(o)]\n",
        "    S[i] = acc / T\n",
        "\n",
        "# 4) Bloch angles θx, θz\n",
        "σx = np.array([[0,1],[1,0]], complex)\n",
        "σz = np.array([[1,0],[0,-1]], complex)\n",
        "ρ  = (S + I2)/3\n",
        "ex = np.real(np.trace(ρ @ σx, axis1=2, axis2=3))\n",
        "ez = np.real(np.trace(ρ @ σz, axis1=2, axis2=3))\n",
        "θx = (np.clip(ex,-1,1)+1)*(np.pi/2)\n",
        "θz = (np.clip(ez,-1,1)+1)*(np.pi/2)\n",
        "\n",
        "# 5) Flatten to complex vector and split real/imag\n",
        "Xc    = (θx + 1j*θz).reshape(N, -1)    # shape (20,204)\n",
        "Xreal = np.hstack([Xc.real, Xc.imag])  # (20,408)\n",
        "\n",
        "# 6) PCA to 6 real features\n",
        "Xp    = PCA(n_components=4, random_state=0).fit_transform(Xreal)\n",
        "mn, mx = Xp.min(0), Xp.max(0)\n",
        "Xp_norm = (Xp - mn)/np.where(mx-mn==0,1,(mx-mn))*np.pi  # normalize to [0,π]\n",
        "\n",
        "X_sub    = Xp_norm                       # (20, 4)\n",
        "y        = np.array([ -1 if lbl=='Z2' else +1 for lbl in raw_labels ])\n",
        "\n",
        "print(\"X_sub:\", X_sub.shape, \" y:\", y.shape)\n"
      ]
    },
    {
      "cell_type": "markdown",
      "id": "8016123e",
      "metadata": {
        "id": "8016123e"
      },
      "source": [
        "# Defining a Quantum Model\n",
        "\n",
        "In this section, you will create a QML model for classifying the quantum phases. This will include 3 stages:\n",
        "- First, you will need to decide on the data encoding scheme, i.e. loading numerical features you obtained above into the quantum circuit.\n",
        "- Then, you will need to come up with an ansatz - a parametrized quantum circuit, which will be optimized to perform classification.\n",
        "- Finally, to readout classical information from the quantum model, you will need to perform some sort of measurement on the resultant quantum state. Perhaps, you could extract an expectation value of some Pauli-string $P \\in \\{I, X, Y, Z\\}^{\\otimes N}$, so that $\\langle P \\rangle < b$ is interpreted as $Z2$ and  $\\langle P \\rangle > b$ is interpreted as $Z3$ for some decision boundary $b$.\n",
        "\n",
        "There are several approaches to QML in Classiq, linked below.\n",
        "\n",
        "You may find the following guides useful:\n",
        "- QML with Classiq: http://docs.classiq.io/latest/user-guide/read/qml_with_classiq_guide/\n",
        "- Variational Model Example: https://github.com/Classiq/classiq-library/blob/main/algorithms/qaoa/maxcut/qaoa_max_cut.ipynb\n",
        "- Hybrid QNN: https://docs.classiq.io/latest/explore/algorithms/qml/hybrid_qnn/hybrid_qnn_for_subset_majority/\n",
        "\n",
        "Although the 2nd guide describes a hybrid model, **you may not implement a hybrid model**, the guide should only be used as a reference as to how to implement QML.\n",
        "\n",
        "**Warning**: Training using the Classiq PyTorch integration may take a prohibitive amount of time. Consider this when choosing an approach."
      ]
    },
    {
      "cell_type": "code",
      "execution_count": 14,
      "id": "6413592b",
      "metadata": {
        "id": "6413592b"
      },
      "outputs": [],
      "source": [
        "from classiq import *\n",
        "from classiq.execution import *\n",
        "import numpy as np\n",
        "from classiq.synthesis import synthesize, show"
      ]
    },
    {
      "cell_type": "code",
      "execution_count": 15,
      "id": "d5a853fa",
      "metadata": {
        "id": "d5a853fa"
      },
      "outputs": [],
      "source": [
        "from classiq import (\n",
        "    qfunc, CArray, CReal, QArray, QBit, Output,\n",
        "    allocate, RY, RZ, RX, CZ,\n",
        "    create_model, Constraints\n",
        ")\n",
        "from classiq.execution import (\n",
        "    ExecutionPreferences, ClassiqBackendPreferences,\n",
        "    ClassiqSimulatorBackendNames\n",
        ")\n",
        "from classiq.synthesis import synthesize, show\n",
        "\n",
        "# ─── Hyperparameters ─────────────────────────────────────────\n",
        "feature_length = 4   # matches PCA output\n",
        "num_qubits     = 2\n",
        "num_weights    = 2   # shared RX & RZ\n",
        "\n",
        "# ─── Encoding: 4 features → 2 qubits (2 angles each) ─────────\n",
        "@qfunc\n",
        "def encoding(f: CArray[CReal, feature_length], wires: QArray) -> None:\n",
        "    for q in range(num_qubits):\n",
        "        i0 = 2 * q\n",
        "        RY(theta=f[i0],     target=wires[q])\n",
        "        RZ(theta=f[i0 + 1], target=wires[q])\n",
        "\n",
        "# ─── Ansatz: same 2-param structure ───────────────────────────\n",
        "@qfunc\n",
        "def ansatz(weights: CArray[CReal, num_weights], wires: QArray) -> None:\n",
        "    # 1) shared RX\n",
        "    for i in range(num_qubits):\n",
        "        RX(theta=weights[0], target=wires[i])\n",
        "    # 2) ring of CZ\n",
        "    for i in range(num_qubits):\n",
        "        CZ(ctrl=wires[i], target=wires[(i+1) % num_qubits])\n",
        "    # 3) shared RZ\n",
        "    for i in range(num_qubits):\n",
        "        RZ(theta=weights[1], target=wires[i])\n",
        "\n",
        "\n",
        "@qfunc\n",
        "def main(\n",
        "    feature: CArray[CReal, feature_length],\n",
        "    weights: CArray[CReal, num_weights],\n",
        "    result:  Output[QArray[QBit]],\n",
        ") -> None:\n",
        "    allocate(num_qubits, result)\n",
        "    encoding(feature, wires=result)\n",
        "    # two back-to-back ansatz layers\n",
        "    ansatz(weights,   wires=result)\n",
        "    ansatz(weights,   wires=result)\n"
      ]
    },
    {
      "cell_type": "markdown",
      "id": "4c2bcb6f",
      "metadata": {
        "id": "4c2bcb6f"
      },
      "source": [
        "### Synthesis\n",
        "\n",
        "Before training, you must synthesize your model into a quantum program. Placeholders for your parameters will be automatically generated.\n",
        "\n",
        "You may find the following documentation useful: https://docs.classiq.io/latest/sdk-reference/synthesis/"
      ]
    },
    {
      "cell_type": "code",
      "source": [
        "# Synthesis\n",
        "NUM_SHOTS = 1000\n",
        "BACKENDS  = ClassiqBackendPreferences(\n",
        "    backend_name=ClassiqSimulatorBackendNames.SIMULATOR\n",
        ")\n",
        "\n",
        "QMOD  = create_model(\n",
        "    main,\n",
        "    execution_preferences=ExecutionPreferences(\n",
        "        num_shots=NUM_SHOTS,\n",
        "        backend_preferences=BACKENDS\n",
        "    ),\n",
        "    constraints=Constraints(optimization_parameter=\"no_opt\")\n",
        ")\n",
        "QPROG = synthesize(QMOD)\n",
        "show(QPROG)"
      ],
      "metadata": {
        "colab": {
          "base_uri": "https://localhost:8080/"
        },
        "id": "xMTWP5sGCaTj",
        "outputId": "99f8bc76-0b2c-4576-9759-88526e575582"
      },
      "id": "xMTWP5sGCaTj",
      "execution_count": 16,
      "outputs": [
        {
          "output_type": "stream",
          "name": "stdout",
          "text": [
            "Quantum program link: https://platform.classiq.io/circuit/2xFShmTuyITvzgqj8awsTT98VmG?login=True&version=0.79.1\n"
          ]
        }
      ]
    },
    {
      "cell_type": "markdown",
      "id": "a03b040c",
      "metadata": {
        "id": "a03b040c"
      },
      "source": [
        "# Training the Model\n",
        "\n",
        "Here, you will optimize the weights in ansatz, so that the model can distiguish between the phases.\n",
        "\n",
        "You can find the following Classiq tutorial and documentation useful:\n",
        "- Execution: https://docs.classiq.io/latest/sdk-reference/execution/\n",
        "- Execution Session: https://docs.classiq.io/latest/user-guide/execution/ExecutionSession/\n",
        "- Executing With Parameters: https://docs.classiq.io/latest/qmod-reference/language-reference/quantum-entry-point/\n",
        "\n",
        "It is highly recommended to use an ExecutionSession if you are executing the same circuit with different parameters many times. It is not needed to train parameters using the Classiq PyTorch integration.\n",
        "\n",
        "If you are not using the PyTorch integration, you will need an objective (also known as a 'loss', or 'cost') function. Depending on your implementation, you will need to either minimize or maximize it in training."
      ]
    },
    {
      "cell_type": "code",
      "source": [
        "# ─── Cell 3: 64→256-shot SPSA with Retries & Throttling ───\n",
        "\n",
        "import time\n",
        "import numpy as np\n",
        "import matplotlib.pyplot as plt\n",
        "from classiq.execution import ExecutionSession, ExecutionPreferences\n",
        "from classiq._internals.client import ClassiqAPIError   # for catching 500 errors\n",
        "\n",
        "# 1) Build sessions (64-shot warm, 256-shot precise)\n",
        "def make_session(shots: int, fast: bool) -> ExecutionSession:\n",
        "    prefs = ExecutionPreferences(\n",
        "        num_shots=shots,\n",
        "        backend_preferences=BACKENDS,  # from your synthesis cell\n",
        "        fast=fast\n",
        "    )\n",
        "    return ExecutionSession(quantum_program=QPROG,\n",
        "                            execution_preferences=prefs)\n",
        "\n",
        "sess64  = make_session(64,  fast=True)\n",
        "sess256 = make_session(256, fast=False)\n",
        "\n",
        "# 2) Binder & ⟨Z⟩ over all qubits\n",
        "def bind(tag, arr):\n",
        "    return {f\"{tag}_param_{i}\": float(v) for i, v in enumerate(arr)}\n",
        "\n",
        "def avg_z(counts):\n",
        "    tot = sum(counts.values())\n",
        "    return sum(\n",
        "        c * sum(+1 if b=='0' else -1 for b in bits)\n",
        "        for bits, c in counts.items()\n",
        "    ) / (tot * num_qubits)\n",
        "\n",
        "# 3) Batch-forward (raw)\n",
        "def batch_forward(sess, thetas, Xb):\n",
        "    plist = [\n",
        "        {**bind(\"weights\", w), **bind(\"feature\", x)}\n",
        "        for w, x in zip(thetas, Xb)\n",
        "    ]\n",
        "    results = sess.batch_sample(parameters=plist)\n",
        "    cnts = [\n",
        "        r.counts if isinstance(r.counts, dict) else r.counts[0]\n",
        "        for r in results\n",
        "    ]\n",
        "    return np.array([avg_z(c) for c in cnts])\n",
        "\n",
        "# 4) Safe wrapper with retries + throttle\n",
        "def safe_batch_forward(sess, thetas, Xb,\n",
        "                       max_retries=3, delay=0.2):\n",
        "    for attempt in range(1, max_retries+1):\n",
        "        try:\n",
        "            out = batch_forward(sess, thetas, Xb)\n",
        "            time.sleep(delay)    # give server a breather\n",
        "            return out\n",
        "        except ClassiqAPIError as e:\n",
        "            print(f\"⚠️ API error (attempt {attempt}): {e}\")\n",
        "            time.sleep(delay * attempt)\n",
        "    raise RuntimeError(\"batch_forward failed after retries\")\n",
        "\n",
        "# 5) Loss & accuracy using safe calls\n",
        "num_weights = 2\n",
        "num_samples = X_sub.shape[0]\n",
        "\n",
        "def hinge(sess, w):\n",
        "    logits = safe_batch_forward(sess,\n",
        "                                np.tile(w, (num_samples, 1)),\n",
        "                                X_sub)\n",
        "    return np.mean(np.maximum(0, 1 - y * logits))\n",
        "\n",
        "def accuracy(sess, w):\n",
        "    logits = safe_batch_forward(sess,\n",
        "                                np.tile(w, (num_samples, 1)),\n",
        "                                X_sub)\n",
        "    return np.mean(np.sign(logits) == y)\n",
        "\n",
        "# 6) SPSA hyperparameters & init\n",
        "alpha, c0, A, gamma = 0.80, 0.10, 0.0, 0.05\n",
        "MAX_IT = 80\n",
        "theta  = 0.01 * np.random.randn(num_weights)\n",
        "loss_log, acc_log = [], []\n",
        "\n",
        "# 7) SPSA training loop\n",
        "for k in range(MAX_IT):\n",
        "    sess = sess64 if k < 50 else sess256\n",
        "    ck   = c0 / (k + 1)**gamma\n",
        "    ak   = alpha\n",
        "    delta = np.random.choice([+1, -1], num_weights)\n",
        "\n",
        "    lp = hinge(sess, theta + ck * delta)\n",
        "    lm = hinge(sess, theta - ck * delta)\n",
        "    grad = (lp - lm) / (2 * ck * delta)\n",
        "    theta -= ak * grad\n",
        "\n",
        "    if k % 20 == 0 or k == MAX_IT - 1:\n",
        "        L = hinge(sess, theta)\n",
        "        Acur = accuracy(sess, theta)\n",
        "        loss_log.append(L)\n",
        "        acc_log.append(Acur)\n",
        "        phase = \"64-shot\" if k < 50 else \"256-shot\"\n",
        "        print(f\"iter {k:3d} | {phase:<8} | loss={L:.4f} | acc={Acur:.2%}\")\n",
        "\n",
        "# 8) Cleanup\n",
        "sess64.close()\n",
        "sess256.close()\n",
        "\n",
        "# 9) Quick plots\n",
        "plt.figure(figsize=(5,2.5))\n",
        "plt.plot(loss_log, '-o')\n",
        "plt.title(\"Hinge Loss\")\n",
        "plt.xlabel(\"Checkpoint\")\n",
        "plt.tight_layout()\n",
        "plt.show()\n",
        "\n",
        "plt.figure(figsize=(5,2.5))\n",
        "plt.plot(acc_log, '-o')\n",
        "plt.title(\"Accuracy\")\n",
        "plt.xlabel(\"Checkpoint\")\n",
        "plt.tight_layout()\n",
        "plt.show()\n"
      ],
      "metadata": {
        "colab": {
          "base_uri": "https://localhost:8080/",
          "height": 584
        },
        "id": "72vp6wcuvcUh",
        "outputId": "b483c0c4-e75d-46ea-ad44-00b4160ccaa5"
      },
      "id": "72vp6wcuvcUh",
      "execution_count": 17,
      "outputs": [
        {
          "output_type": "stream",
          "name": "stdout",
          "text": [
            "iter   0 | 64-shot  | loss=1.4668 | acc=5.00%\n",
            "iter  20 | 64-shot  | loss=0.5916 | acc=100.00%\n",
            "iter  40 | 64-shot  | loss=0.6254 | acc=90.00%\n",
            "iter  60 | 256-shot | loss=0.5230 | acc=90.00%\n",
            "iter  79 | 256-shot | loss=0.5041 | acc=95.00%\n"
          ]
        },
        {
          "output_type": "display_data",
          "data": {
            "text/plain": [
              "<Figure size 500x250 with 1 Axes>"
            ],
            "image/png": "[encoded data removed]"
          },
          "metadata": {}
        },
        {
          "output_type": "display_data",
          "data": {
            "text/plain": [
              "<Figure size 500x250 with 1 Axes>"
            ],
            "image/png": "[encoded data removed]"
          },
          "metadata": {}
        }
      ]
    },
    {
      "cell_type": "markdown",
      "id": "198d25e0",
      "metadata": {
        "id": "198d25e0"
      },
      "source": [
        "Training that takes too long may make it impossible to grade your submission."
      ]
    },
    {
      "cell_type": "markdown",
      "id": "b75f5aed",
      "metadata": {
        "id": "b75f5aed"
      },
      "source": [
        "# Testing the Model\n",
        "\n",
        "Good job! Now it's time to see whether the model you designed can successfully perform the classification. For this, compare the predictions of your model to the actual labels.\n",
        "\n",
        "If the model does not perform well, try modifying the encoding and/or the ansatz (by using different number of parameters/qubits/ansatz layers/...)"
      ]
    },
    {
      "cell_type": "code",
      "execution_count": 18,
      "id": "c28e2e16",
      "metadata": {
        "colab": {
          "base_uri": "https://localhost:8080/"
        },
        "id": "c28e2e16",
        "outputId": "ff620675-c838-45ea-d116-1e763b0534c4"
      },
      "outputs": [
        {
          "output_type": "stream",
          "name": "stdout",
          "text": [
            "Test accuracy: 100.00%\n",
            "\n",
            "Confusion matrix (rows=true, cols=predicted):\n",
            "       Pred Z2   Pred Z3\n",
            "True Z2      10         0\n",
            "True Z3       0        10\n",
            "\n",
            "Classification report:\n",
            "              precision    recall  f1-score   support\n",
            "\n",
            "          Z2     1.0000    1.0000    1.0000        10\n",
            "          Z3     1.0000    1.0000    1.0000        10\n",
            "\n",
            "    accuracy                         1.0000        20\n",
            "   macro avg     1.0000    1.0000    1.0000        20\n",
            "weighted avg     1.0000    1.0000    1.0000        20\n",
            "\n"
          ]
        }
      ],
      "source": [
        "# ─── Cell 4: Testing the Trained Model ───\n",
        "import numpy as np\n",
        "from sklearn.metrics import confusion_matrix, classification_report\n",
        "from classiq.execution import ExecutionSession, ExecutionPreferences\n",
        "\n",
        "# 1) Build a fresh session for evaluation (use precise shots)\n",
        "sess_test = make_session(256, fast=False)\n",
        "\n",
        "# 2) Run the circuit on all samples to get decision values ⟨Z⟩\n",
        "thetas = np.tile(theta, (num_samples, 1))  # repeat final theta for each sample\n",
        "logits = batch_forward(sess_test, thetas, X_sub)\n",
        "\n",
        "# 3) Convert to predictions: ⟨Z⟩ > 0 → +1 (Z3), else –1 (Z2)\n",
        "preds = np.where(logits > 0, +1, -1)\n",
        "\n",
        "# 4) Compute overall accuracy\n",
        "accuracy_val = np.mean(preds == y)\n",
        "print(f\"Test accuracy: {accuracy_val*100:.2f}%\\n\")\n",
        "\n",
        "# 5) Confusion matrix\n",
        "cm = confusion_matrix(y, preds, labels=[-1, +1])\n",
        "print(\"Confusion matrix (rows=true, cols=predicted):\")\n",
        "print(\"       Pred Z2   Pred Z3\")\n",
        "print(f\"True Z2   {cm[0,0]:>5d}       {cm[0,1]:>3d}\")\n",
        "print(f\"True Z3   {cm[1,0]:>5d}       {cm[1,1]:>3d}\\n\")\n",
        "\n",
        "# 6) Classification report\n",
        "# Map -1→0 and +1→1 for sklearn\n",
        "y_bin   = (y == +1).astype(int)\n",
        "preds_bin = (preds == +1).astype(int)\n",
        "print(\"Classification report:\")\n",
        "print(classification_report(\n",
        "    y_bin,\n",
        "    preds_bin,\n",
        "    target_names=[\"Z2\", \"Z3\"],\n",
        "    digits=4\n",
        "))\n",
        "\n",
        "# 7) Cleanup\n",
        "sess_test.close()\n"
      ]
    },
    {
      "cell_type": "markdown",
      "id": "c7ea5280",
      "metadata": {
        "id": "c7ea5280"
      },
      "source": [
        "## Grading\n",
        "\n",
        "You will be evaluated on the accuracy, depth, width of your model and the number of parameters in your model."
      ]
    },
    {
      "cell_type": "markdown",
      "id": "130eb0ba",
      "metadata": {
        "id": "130eb0ba"
      },
      "source": [
        "The following function will return the width and depth of your model as they will be used in grading. Use it to self-evaluate your model."
      ]
    },
    {
      "cell_type": "code",
      "execution_count": 19,
      "id": "09a80a52",
      "metadata": {
        "id": "09a80a52"
      },
      "outputs": [],
      "source": [
        "from classiq import QuantumProgram\n",
        "\n",
        "def get_metrics(qprog):\n",
        "    \"\"\"\n",
        "    Extract circuit metrics from a quantum program.\n",
        "\n",
        "    Parameters:\n",
        "        qprog: The quantum program object.\n",
        "\n",
        "    Returns:\n",
        "        dict: A dictionary containing the circuit metrics:\n",
        "              - \"depth\": Circuit depth\n",
        "              - \"width\": Circuit width\n",
        "    \"\"\"\n",
        "    circuit = QuantumProgram.from_qprog(qprog)\n",
        "\n",
        "    metrics = {\n",
        "        \"depth\": circuit.transpiled_circuit.depth,\n",
        "        \"width\": circuit.data.width,\n",
        "    }\n",
        "\n",
        "    return metrics"
      ]
    },
    {
      "cell_type": "code",
      "execution_count": null,
      "id": "4e928cf0",
      "metadata": {
        "colab": {
          "base_uri": "https://localhost:8080/"
        },
        "id": "4e928cf0",
        "outputId": "f2965012-d033-4c83-d0e0-f4001f8c289a"
      },
      "outputs": [
        {
          "output_type": "stream",
          "name": "stdout",
          "text": [
            "{'depth': 10, 'width': 2}\n"
          ]
        }
      ],
      "source": [
        "print(get_metrics(QPROG))"
      ]
    },
    {
      "cell_type": "code",
      "source": [
        "# unpack your numbers\n",
        "A_final = accuracy_val              # e.g. 0.90\n",
        "P       = num_weights               # still = 2\n",
        "metrics = get_metrics(QPROG)\n",
        "D       = metrics[\"depth\"]          # e.g. 5 (will print from get_metrics)\n",
        "W       = metrics[\"width\"]          # = 2\n",
        "\n",
        "# compute filter score\n",
        "f_score = A_final - 0.1*P - 0.0002*D - 0.1*W\n",
        "print(f\"Final f-score: {f_score:.4f}\")\n"
      ],
      "metadata": {
        "colab": {
          "base_uri": "https://localhost:8080/"
        },
        "id": "vtiBvfUUYnwV",
        "outputId": "b4cc9598-8f1f-45e7-ed22-1f8a975b5947"
      },
      "id": "vtiBvfUUYnwV",
      "execution_count": 20,
      "outputs": [
        {
          "output_type": "stream",
          "name": "stdout",
          "text": [
            "Final f-score: 0.5980\n"
          ]
        }
      ]
    },
    {
      "cell_type": "markdown",
      "id": "cd17c6a4",
      "metadata": {
        "id": "cd17c6a4"
      },
      "source": [
        "# Submission\n",
        "\n",
        "You will submit this notebook, your trained parameters, and your quantum model."
      ]
    },
    {
      "cell_type": "code",
      "execution_count": 21,
      "id": "3262a32f",
      "metadata": {
        "id": "3262a32f"
      },
      "outputs": [],
      "source": [
        "# Do not change this cell\n",
        "\n",
        "import os\n",
        "\n",
        "def save_qprog(qprog, team_name: str, folder=\".\"):\n",
        "    assert isinstance(team_name, str)\n",
        "    file_name = f\"{team_name.replace(' ','_')}.qprog\"\n",
        "    with open(os.path.join(folder, file_name), 'w') as f:\n",
        "        f.write(qprog.model_dump_json(indent=4))\n",
        "\n",
        "def save_params(params, team_name: str, folder=\".\"):\n",
        "    assert isinstance(team_name, str)\n",
        "    file_name = f\"{team_name.replace(' ','_')}.npz\"\n",
        "    with open(os.path.join(folder, file_name), 'wb') as f:\n",
        "        np.savez(f, params=params)"
      ]
    },
    {
      "cell_type": "code",
      "execution_count": null,
      "id": "42cbc05d",
      "metadata": {
        "id": "42cbc05d"
      },
      "outputs": [],
      "source": [
        "# Change to your team name!!\n",
        "TEAM_NAME = \"Merqury\"\n",
        "\n",
        "# Insert your trained parameters here!\n",
        "TRAINED_PARAMS = theta\n",
        "\n",
        "save_qprog(QPROG, team_name=TEAM_NAME)\n",
        "save_params(params=TRAINED_PARAMS, team_name=TEAM_NAME)"
      ]
    }
  ],
  "metadata": {
    "kernelspec": {
      "display_name": "Python 3",
      "name": "python3"
    },
    "language_info": {
      "codemirror_mode": {
        "name": "ipython",
        "version": 3
      },
      "file_extension": ".py",
      "mimetype": "text/x-python",
      "name": "python",
      "nbconvert_exporter": "python",
      "pygments_lexer": "ipython3",
      "version": "3.12.10"
    },
    "colab": {
      "provenance": [],
      "include_colab_link": true
    }
  },
  "nbformat": 4,
  "nbformat_minor": 5
}